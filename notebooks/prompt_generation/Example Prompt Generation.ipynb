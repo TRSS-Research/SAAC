{
 "cells": [
  {
   "cell_type": "code",
   "execution_count": null,
   "metadata": {
    "pycharm": {
     "name": "#%%\n"
    }
   },
   "outputs": [],
   "source": [
    "from saac.prompt_utils import score_sentiment, generate_traits, generate_occupations\n",
    "from saac.prompts import mj_prompt\n",
    "import pandas as pd\n",
    "\n",
    "prompt_path = '../../data/prompt_generation/processed/'"
   ]
  },
  {
   "cell_type": "code",
   "execution_count": null,
   "outputs": [],
   "source": [
    "#Generate traits reads from the TDA Bank and samples 12 traits\n",
    "#from each of the five predefined sentiment categories, generating a dataframe of 60 trait prompts\n",
    "\n",
    "trait_samples = generate_traits()"
   ],
   "metadata": {
    "collapsed": false,
    "pycharm": {
     "name": "#%%\n"
    }
   }
  },
  {
   "cell_type": "code",
   "execution_count": null,
   "outputs": [],
   "source": [
    "#Generate occupations reads from the Annual Occupations Title Bank and samples 12 occupations \n",
    "#from each of the five predefined wage categories, generating a dataframe of 60 occupational prompts\n",
    "\n",
    "occ_samples = generate_occupations()"
   ],
   "metadata": {
    "collapsed": false,
    "pycharm": {
     "name": "#%%\n"
    }
   }
  },
  {
   "cell_type": "code",
   "execution_count": null,
   "outputs": [],
   "source": [
    "prompts_df = pd.concat([trait_samples, occ_samples])\n",
    "print(prompts_df.head(5))\n",
    "print(prompts_df.tail(5))"
   ],
   "metadata": {
    "collapsed": false,
    "pycharm": {
     "name": "#%%\n"
    }
   }
  },
  {
   "cell_type": "code",
   "execution_count": null,
   "outputs": [],
   "source": [
    "#The sentiment of the full prompt is scored to ensure the addition of an article and the terms 'person' and 'photorealistic'\n",
    "#do not differ from the sentiment score derived from the trait descriptive adjectives\n",
    "\n",
    "prompts_dfv = score_sentiment(prompts_df,'prompt',verbose=True)"
   ],
   "metadata": {
    "collapsed": false,
    "pycharm": {
     "name": "#%%\n"
    }
   }
  },
  {
   "cell_type": "code",
   "execution_count": null,
   "outputs": [],
   "source": [
    "#midjourney parameters are applied to the prompt\n",
    "\n",
    "prompts_dfv['prompt'] = prompts_dfv ['prompt'].apply(mj_prompt)"
   ],
   "metadata": {
    "collapsed": false,
    "pycharm": {
     "name": "#%%\n"
    }
   }
  },
  {
   "cell_type": "code",
   "execution_count": null,
   "metadata": {
    "pycharm": {
     "name": "#%%\n"
    }
   },
   "outputs": [],
   "source": [
    "prompts_dfv.to_csv(prompt_path + 'example_generated_mj_prompts.csv',index=False)"
   ]
  }
 ],
 "metadata": {
  "kernelspec": {
   "display_name": "Python 3 (ipykernel)",
   "language": "python",
   "name": "python3"
  },
  "language_info": {
   "codemirror_mode": {
    "name": "ipython",
    "version": 3
   },
   "file_extension": ".py",
   "mimetype": "text/x-python",
   "name": "python",
   "nbconvert_exporter": "python",
   "pygments_lexer": "ipython3",
   "version": "3.8.13"
  }
 },
 "nbformat": 4,
 "nbformat_minor": 4
}