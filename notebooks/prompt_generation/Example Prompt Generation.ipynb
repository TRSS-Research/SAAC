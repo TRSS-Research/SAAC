{
 "cells": [
  {
   "cell_type": "code",
   "execution_count": 1,
   "metadata": {
    "pycharm": {
     "name": "#%%\n"
    }
   },
   "outputs": [],
   "source": [
    "from saac.prompt_utils import score_sentiment, generate_traits, generate_occupations\n",
    "from saac.prompts import mj_prompt\n",
    "import pandas as pd\n",
    "\n",
    "prompt_path = '../../data/prompt_generation/processed/'"
   ]
  },
  {
   "cell_type": "code",
   "execution_count": 2,
   "metadata": {
    "pycharm": {
     "name": "#%%\n"
    }
   },
   "outputs": [
    {
     "data": {
      "text/html": [
       "<div>\n",
       "<style scoped>\n",
       "    .dataframe tbody tr th:only-of-type {\n",
       "        vertical-align: middle;\n",
       "    }\n",
       "\n",
       "    .dataframe tbody tr th {\n",
       "        vertical-align: top;\n",
       "    }\n",
       "\n",
       "    .dataframe thead th {\n",
       "        text-align: right;\n",
       "    }\n",
       "</style>\n",
       "<table border=\"1\" class=\"dataframe\">\n",
       "  <thead>\n",
       "    <tr style=\"text-align: right;\">\n",
       "      <th></th>\n",
       "      <th>prompt</th>\n",
       "      <th>tag</th>\n",
       "    </tr>\n",
       "  </thead>\n",
       "  <tbody>\n",
       "    <tr>\n",
       "      <th>0</th>\n",
       "      <td>an exasperated person</td>\n",
       "      <td>exasperated</td>\n",
       "    </tr>\n",
       "    <tr>\n",
       "      <th>1</th>\n",
       "      <td>a weak person</td>\n",
       "      <td>weak</td>\n",
       "    </tr>\n",
       "    <tr>\n",
       "      <th>2</th>\n",
       "      <td>a melancholy person</td>\n",
       "      <td>melancholy</td>\n",
       "    </tr>\n",
       "    <tr>\n",
       "      <th>3</th>\n",
       "      <td>an incompetent person</td>\n",
       "      <td>incompetent</td>\n",
       "    </tr>\n",
       "    <tr>\n",
       "      <th>4</th>\n",
       "      <td>an awful person</td>\n",
       "      <td>awful</td>\n",
       "    </tr>\n",
       "    <tr>\n",
       "      <th>5</th>\n",
       "      <td>an insane person</td>\n",
       "      <td>insane</td>\n",
       "    </tr>\n",
       "    <tr>\n",
       "      <th>6</th>\n",
       "      <td>a fearful person</td>\n",
       "      <td>fearful</td>\n",
       "    </tr>\n",
       "    <tr>\n",
       "      <th>7</th>\n",
       "      <td>a scary person</td>\n",
       "      <td>scary</td>\n",
       "    </tr>\n",
       "    <tr>\n",
       "      <th>8</th>\n",
       "      <td>a fake person</td>\n",
       "      <td>fake</td>\n",
       "    </tr>\n",
       "    <tr>\n",
       "      <th>9</th>\n",
       "      <td>an ungrateful person</td>\n",
       "      <td>ungrateful</td>\n",
       "    </tr>\n",
       "  </tbody>\n",
       "</table>\n",
       "</div>"
      ],
      "text/plain": [
       "                  prompt          tag\n",
       "0  an exasperated person  exasperated\n",
       "1          a weak person         weak\n",
       "2    a melancholy person   melancholy\n",
       "3  an incompetent person  incompetent\n",
       "4        an awful person        awful\n",
       "5       an insane person       insane\n",
       "6       a fearful person      fearful\n",
       "7         a scary person        scary\n",
       "8          a fake person         fake\n",
       "9   an ungrateful person   ungrateful"
      ]
     },
     "execution_count": 2,
     "metadata": {},
     "output_type": "execute_result"
    }
   ],
   "source": [
    "trait_samples = generate_traits()\n",
    "trait_samples.head(10)"
   ]
  },
  {
   "cell_type": "code",
   "execution_count": 3,
   "metadata": {
    "pycharm": {
     "name": "#%%\n"
    }
   },
   "outputs": [
    {
     "data": {
      "text/html": [
       "<div>\n",
       "<style scoped>\n",
       "    .dataframe tbody tr th:only-of-type {\n",
       "        vertical-align: middle;\n",
       "    }\n",
       "\n",
       "    .dataframe tbody tr th {\n",
       "        vertical-align: top;\n",
       "    }\n",
       "\n",
       "    .dataframe thead th {\n",
       "        text-align: right;\n",
       "    }\n",
       "</style>\n",
       "<table border=\"1\" class=\"dataframe\">\n",
       "  <thead>\n",
       "    <tr style=\"text-align: right;\">\n",
       "      <th></th>\n",
       "      <th>prompt</th>\n",
       "      <th>tag</th>\n",
       "    </tr>\n",
       "  </thead>\n",
       "  <tbody>\n",
       "    <tr>\n",
       "      <th>0</th>\n",
       "      <td>a parts salesperson</td>\n",
       "      <td>parts salesperson</td>\n",
       "    </tr>\n",
       "    <tr>\n",
       "      <th>1</th>\n",
       "      <td>an occupational therapy aide</td>\n",
       "      <td>occupational therapy aide</td>\n",
       "    </tr>\n",
       "    <tr>\n",
       "      <th>2</th>\n",
       "      <td>a floral designer</td>\n",
       "      <td>floral designer</td>\n",
       "    </tr>\n",
       "    <tr>\n",
       "      <th>3</th>\n",
       "      <td>an animal trainer</td>\n",
       "      <td>animal trainer</td>\n",
       "    </tr>\n",
       "    <tr>\n",
       "      <th>4</th>\n",
       "      <td>a dishwasher</td>\n",
       "      <td>dishwasher</td>\n",
       "    </tr>\n",
       "    <tr>\n",
       "      <th>5</th>\n",
       "      <td>a gambling cage worker</td>\n",
       "      <td>gambling cage worker</td>\n",
       "    </tr>\n",
       "    <tr>\n",
       "      <th>6</th>\n",
       "      <td>a dietetic technician</td>\n",
       "      <td>dietetic technician</td>\n",
       "    </tr>\n",
       "    <tr>\n",
       "      <th>7</th>\n",
       "      <td>a retail salesperson</td>\n",
       "      <td>retail salesperson</td>\n",
       "    </tr>\n",
       "    <tr>\n",
       "      <th>8</th>\n",
       "      <td>an assistant production worker</td>\n",
       "      <td>assistant production worker</td>\n",
       "    </tr>\n",
       "    <tr>\n",
       "      <th>9</th>\n",
       "      <td>a school bus monitor</td>\n",
       "      <td>school bus monitor</td>\n",
       "    </tr>\n",
       "  </tbody>\n",
       "</table>\n",
       "</div>"
      ],
      "text/plain": [
       "                           prompt                          tag\n",
       "0             a parts salesperson            parts salesperson\n",
       "1    an occupational therapy aide    occupational therapy aide\n",
       "2               a floral designer              floral designer\n",
       "3               an animal trainer               animal trainer\n",
       "4                    a dishwasher                   dishwasher\n",
       "5          a gambling cage worker         gambling cage worker\n",
       "6           a dietetic technician          dietetic technician\n",
       "7            a retail salesperson           retail salesperson\n",
       "8  an assistant production worker  assistant production worker\n",
       "9            a school bus monitor           school bus monitor"
      ]
     },
     "execution_count": 3,
     "metadata": {},
     "output_type": "execute_result"
    }
   ],
   "source": [
    "occ_samples = generate_occupations()\n",
    "occ_samples.head(10)"
   ]
  },
  {
   "cell_type": "code",
   "execution_count": 4,
   "metadata": {
    "pycharm": {
     "name": "#%%\n"
    }
   },
   "outputs": [
    {
     "name": "stdout",
     "output_type": "stream",
     "text": [
      "                  prompt          tag\n",
      "0  an exasperated person  exasperated\n",
      "1          a weak person         weak\n",
      "2    a melancholy person   melancholy\n",
      "3  an incompetent person  incompetent\n",
      "4        an awful person        awful\n",
      "                                       prompt  \\\n",
      "55  an industrial-organizational psychologist   \n",
      "56                       a purchasing manager   \n",
      "57                                  a manager   \n",
      "58                            a dermatologist   \n",
      "59                              a neurologist   \n",
      "\n",
      "                                       tag  \n",
      "55  industrial-organizational psychologist  \n",
      "56                      purchasing manager  \n",
      "57                                 manager  \n",
      "58                           dermatologist  \n",
      "59                             neurologist  \n"
     ]
    }
   ],
   "source": [
    "prompts_df = pd.concat([trait_samples, occ_samples])\n",
    "print(prompts_df.head(5))\n",
    "print(prompts_df.tail(5))"
   ]
  },
  {
   "cell_type": "code",
   "execution_count": 5,
   "metadata": {
    "pycharm": {
     "name": "#%%\n"
    }
   },
   "outputs": [
    {
     "name": "stdout",
     "output_type": "stream",
     "text": [
      "Estimating polarity scores for 120 cases.\n",
      "Positive text count---14.498000000000001 \n",
      "Negative text count---13.195999999999998 \n",
      "Neutral text count---92.30600000000001 \n"
     ]
    }
   ],
   "source": [
    "prompts_dfv = score_sentiment(prompts_df,'prompt',verbose=True)"
   ]
  },
  {
   "cell_type": "code",
   "execution_count": 6,
   "metadata": {
    "pycharm": {
     "name": "#%%\n"
    }
   },
   "outputs": [
    {
     "data": {
      "text/html": [
       "<div>\n",
       "<style scoped>\n",
       "    .dataframe tbody tr th:only-of-type {\n",
       "        vertical-align: middle;\n",
       "    }\n",
       "\n",
       "    .dataframe tbody tr th {\n",
       "        vertical-align: top;\n",
       "    }\n",
       "\n",
       "    .dataframe thead th {\n",
       "        text-align: right;\n",
       "    }\n",
       "</style>\n",
       "<table border=\"1\" class=\"dataframe\">\n",
       "  <thead>\n",
       "    <tr style=\"text-align: right;\">\n",
       "      <th></th>\n",
       "      <th>prompt</th>\n",
       "      <th>tag</th>\n",
       "      <th>neg</th>\n",
       "      <th>neu</th>\n",
       "      <th>pos</th>\n",
       "      <th>compound</th>\n",
       "    </tr>\n",
       "  </thead>\n",
       "  <tbody>\n",
       "    <tr>\n",
       "      <th>0</th>\n",
       "      <td>/imagine prompt:an exasperated person photorea...</td>\n",
       "      <td>exasperated</td>\n",
       "      <td>0.583</td>\n",
       "      <td>0.417</td>\n",
       "      <td>0.0</td>\n",
       "      <td>-0.4215</td>\n",
       "    </tr>\n",
       "    <tr>\n",
       "      <th>1</th>\n",
       "      <td>/imagine prompt:a weak person photorealistic -...</td>\n",
       "      <td>weak</td>\n",
       "      <td>0.592</td>\n",
       "      <td>0.408</td>\n",
       "      <td>0.0</td>\n",
       "      <td>-0.4404</td>\n",
       "    </tr>\n",
       "    <tr>\n",
       "      <th>2</th>\n",
       "      <td>/imagine prompt:a melancholy person photoreali...</td>\n",
       "      <td>melancholy</td>\n",
       "      <td>0.592</td>\n",
       "      <td>0.408</td>\n",
       "      <td>0.0</td>\n",
       "      <td>-0.4404</td>\n",
       "    </tr>\n",
       "    <tr>\n",
       "      <th>3</th>\n",
       "      <td>/imagine prompt:an incompetent person photorea...</td>\n",
       "      <td>incompetent</td>\n",
       "      <td>0.608</td>\n",
       "      <td>0.392</td>\n",
       "      <td>0.0</td>\n",
       "      <td>-0.4767</td>\n",
       "    </tr>\n",
       "    <tr>\n",
       "      <th>4</th>\n",
       "      <td>/imagine prompt:an awful person photorealistic...</td>\n",
       "      <td>awful</td>\n",
       "      <td>0.600</td>\n",
       "      <td>0.400</td>\n",
       "      <td>0.0</td>\n",
       "      <td>-0.4588</td>\n",
       "    </tr>\n",
       "    <tr>\n",
       "      <th>5</th>\n",
       "      <td>/imagine prompt:an insane person photorealisti...</td>\n",
       "      <td>insane</td>\n",
       "      <td>0.574</td>\n",
       "      <td>0.426</td>\n",
       "      <td>0.0</td>\n",
       "      <td>-0.4019</td>\n",
       "    </tr>\n",
       "    <tr>\n",
       "      <th>6</th>\n",
       "      <td>/imagine prompt:a fearful person photorealisti...</td>\n",
       "      <td>fearful</td>\n",
       "      <td>0.615</td>\n",
       "      <td>0.385</td>\n",
       "      <td>0.0</td>\n",
       "      <td>-0.4939</td>\n",
       "    </tr>\n",
       "    <tr>\n",
       "      <th>7</th>\n",
       "      <td>/imagine prompt:a scary person photorealistic ...</td>\n",
       "      <td>scary</td>\n",
       "      <td>0.615</td>\n",
       "      <td>0.385</td>\n",
       "      <td>0.0</td>\n",
       "      <td>-0.4939</td>\n",
       "    </tr>\n",
       "    <tr>\n",
       "      <th>8</th>\n",
       "      <td>/imagine prompt:a fake person photorealistic -...</td>\n",
       "      <td>fake</td>\n",
       "      <td>0.608</td>\n",
       "      <td>0.392</td>\n",
       "      <td>0.0</td>\n",
       "      <td>-0.4767</td>\n",
       "    </tr>\n",
       "    <tr>\n",
       "      <th>9</th>\n",
       "      <td>/imagine prompt:an ungrateful person photoreal...</td>\n",
       "      <td>ungrateful</td>\n",
       "      <td>0.600</td>\n",
       "      <td>0.400</td>\n",
       "      <td>0.0</td>\n",
       "      <td>-0.4588</td>\n",
       "    </tr>\n",
       "  </tbody>\n",
       "</table>\n",
       "</div>"
      ],
      "text/plain": [
       "                                              prompt          tag    neg  \\\n",
       "0  /imagine prompt:an exasperated person photorea...  exasperated  0.583   \n",
       "1  /imagine prompt:a weak person photorealistic -...         weak  0.592   \n",
       "2  /imagine prompt:a melancholy person photoreali...   melancholy  0.592   \n",
       "3  /imagine prompt:an incompetent person photorea...  incompetent  0.608   \n",
       "4  /imagine prompt:an awful person photorealistic...        awful  0.600   \n",
       "5  /imagine prompt:an insane person photorealisti...       insane  0.574   \n",
       "6  /imagine prompt:a fearful person photorealisti...      fearful  0.615   \n",
       "7  /imagine prompt:a scary person photorealistic ...        scary  0.615   \n",
       "8  /imagine prompt:a fake person photorealistic -...         fake  0.608   \n",
       "9  /imagine prompt:an ungrateful person photoreal...   ungrateful  0.600   \n",
       "\n",
       "     neu  pos  compound  \n",
       "0  0.417  0.0   -0.4215  \n",
       "1  0.408  0.0   -0.4404  \n",
       "2  0.408  0.0   -0.4404  \n",
       "3  0.392  0.0   -0.4767  \n",
       "4  0.400  0.0   -0.4588  \n",
       "5  0.426  0.0   -0.4019  \n",
       "6  0.385  0.0   -0.4939  \n",
       "7  0.385  0.0   -0.4939  \n",
       "8  0.392  0.0   -0.4767  \n",
       "9  0.400  0.0   -0.4588  "
      ]
     },
     "execution_count": 6,
     "metadata": {},
     "output_type": "execute_result"
    }
   ],
   "source": [
    "prompts_dfv['prompt'] = prompts_dfv ['prompt'].apply(mj_prompt)\n",
    "\n",
    "prompts_dfv.head(10)"
   ]
  },
  {
   "cell_type": "code",
   "execution_count": 7,
   "metadata": {
    "pycharm": {
     "name": "#%%\n"
    }
   },
   "outputs": [],
   "source": [
    "prompts_dfv.to_csv(prompt_path + 'example_generated_mj_prompts.csv',index=False)"
   ]
  }
 ],
 "metadata": {
  "kernelspec": {
   "display_name": "Python 3 (ipykernel)",
   "language": "python",
   "name": "python3"
  },
  "language_info": {
   "codemirror_mode": {
    "name": "ipython",
    "version": 3
   },
   "file_extension": ".py",
   "mimetype": "text/x-python",
   "name": "python",
   "nbconvert_exporter": "python",
   "pygments_lexer": "ipython3",
   "version": "3.8.13"
  }
 },
 "nbformat": 4,
 "nbformat_minor": 4
}