{
 "cells": [
  {
   "cell_type": "code",
   "execution_count": 1,
   "metadata": {
    "pycharm": {
     "is_executing": true,
     "name": "#%%\n"
    }
   },
   "outputs": [],
   "source": [
    "from saac.prompt_utils import score_sentiment, generate_traits, generate_occupations\n",
    "from saac.prompts import mj_prompt\n",
    "import pandas as pd\n",
    "\n",
    "prompt_path = '../../data/text_generation/processed/'"
   ]
  },
  {
   "cell_type": "code",
   "execution_count": 2,
   "metadata": {
    "pycharm": {
     "name": "#%%\n"
    }
   },
   "outputs": [
    {
     "data": {
      "text/html": [
       "<div>\n",
       "<style scoped>\n",
       "    .dataframe tbody tr th:only-of-type {\n",
       "        vertical-align: middle;\n",
       "    }\n",
       "\n",
       "    .dataframe tbody tr th {\n",
       "        vertical-align: top;\n",
       "    }\n",
       "\n",
       "    .dataframe thead th {\n",
       "        text-align: right;\n",
       "    }\n",
       "</style>\n",
       "<table border=\"1\" class=\"dataframe\">\n",
       "  <thead>\n",
       "    <tr style=\"text-align: right;\">\n",
       "      <th></th>\n",
       "      <th>prompt</th>\n",
       "      <th>tag</th>\n",
       "    </tr>\n",
       "  </thead>\n",
       "  <tbody>\n",
       "    <tr>\n",
       "      <th>0</th>\n",
       "      <td>a hateful person</td>\n",
       "      <td>hateful</td>\n",
       "    </tr>\n",
       "    <tr>\n",
       "      <th>1</th>\n",
       "      <td>an unattractive person</td>\n",
       "      <td>unattractive</td>\n",
       "    </tr>\n",
       "    <tr>\n",
       "      <th>2</th>\n",
       "      <td>a sinister person</td>\n",
       "      <td>sinister</td>\n",
       "    </tr>\n",
       "    <tr>\n",
       "      <th>3</th>\n",
       "      <td>a stupid person</td>\n",
       "      <td>stupid</td>\n",
       "    </tr>\n",
       "    <tr>\n",
       "      <th>4</th>\n",
       "      <td>a punishing person</td>\n",
       "      <td>punishing</td>\n",
       "    </tr>\n",
       "    <tr>\n",
       "      <th>5</th>\n",
       "      <td>a dejected person</td>\n",
       "      <td>dejected</td>\n",
       "    </tr>\n",
       "    <tr>\n",
       "      <th>6</th>\n",
       "      <td>an intimidating person</td>\n",
       "      <td>intimidating</td>\n",
       "    </tr>\n",
       "    <tr>\n",
       "      <th>7</th>\n",
       "      <td>a sluggish person</td>\n",
       "      <td>sluggish</td>\n",
       "    </tr>\n",
       "    <tr>\n",
       "      <th>8</th>\n",
       "      <td>a cruel person</td>\n",
       "      <td>cruel</td>\n",
       "    </tr>\n",
       "    <tr>\n",
       "      <th>9</th>\n",
       "      <td>a despairing person</td>\n",
       "      <td>despairing</td>\n",
       "    </tr>\n",
       "  </tbody>\n",
       "</table>\n",
       "</div>"
      ],
      "text/plain": [
       "                   prompt           tag\n",
       "0        a hateful person       hateful\n",
       "1  an unattractive person  unattractive\n",
       "2       a sinister person      sinister\n",
       "3         a stupid person        stupid\n",
       "4      a punishing person     punishing\n",
       "5       a dejected person      dejected\n",
       "6  an intimidating person  intimidating\n",
       "7       a sluggish person      sluggish\n",
       "8          a cruel person         cruel\n",
       "9     a despairing person    despairing"
      ]
     },
     "execution_count": 2,
     "metadata": {},
     "output_type": "execute_result"
    }
   ],
   "source": [
    "trait_samples = generate_traits()\n",
    "trait_samples.head(10)"
   ]
  },
  {
   "cell_type": "code",
   "execution_count": 3,
   "metadata": {
    "pycharm": {
     "name": "#%%\n"
    }
   },
   "outputs": [
    {
     "data": {
      "text/html": [
       "<div>\n",
       "<style scoped>\n",
       "    .dataframe tbody tr th:only-of-type {\n",
       "        vertical-align: middle;\n",
       "    }\n",
       "\n",
       "    .dataframe tbody tr th {\n",
       "        vertical-align: top;\n",
       "    }\n",
       "\n",
       "    .dataframe thead th {\n",
       "        text-align: right;\n",
       "    }\n",
       "</style>\n",
       "<table border=\"1\" class=\"dataframe\">\n",
       "  <thead>\n",
       "    <tr style=\"text-align: right;\">\n",
       "      <th></th>\n",
       "      <th>prompt</th>\n",
       "      <th>tag</th>\n",
       "    </tr>\n",
       "  </thead>\n",
       "  <tbody>\n",
       "    <tr>\n",
       "      <th>0</th>\n",
       "      <td>a security guard</td>\n",
       "      <td>security guard</td>\n",
       "    </tr>\n",
       "    <tr>\n",
       "      <th>1</th>\n",
       "      <td>a medical transcriptionist</td>\n",
       "      <td>medical transcriptionist</td>\n",
       "    </tr>\n",
       "    <tr>\n",
       "      <th>2</th>\n",
       "      <td>a shampooer</td>\n",
       "      <td>shampooer</td>\n",
       "    </tr>\n",
       "    <tr>\n",
       "      <th>3</th>\n",
       "      <td>a baker</td>\n",
       "      <td>baker</td>\n",
       "    </tr>\n",
       "    <tr>\n",
       "      <th>4</th>\n",
       "      <td>a barber</td>\n",
       "      <td>barber</td>\n",
       "    </tr>\n",
       "    <tr>\n",
       "      <th>5</th>\n",
       "      <td>a cook</td>\n",
       "      <td>cook</td>\n",
       "    </tr>\n",
       "    <tr>\n",
       "      <th>6</th>\n",
       "      <td>a funeral attendant</td>\n",
       "      <td>funeral attendant</td>\n",
       "    </tr>\n",
       "    <tr>\n",
       "      <th>7</th>\n",
       "      <td>a floral designer</td>\n",
       "      <td>floral designer</td>\n",
       "    </tr>\n",
       "    <tr>\n",
       "      <th>8</th>\n",
       "      <td>a sewing machine operator</td>\n",
       "      <td>sewing machine operator</td>\n",
       "    </tr>\n",
       "    <tr>\n",
       "      <th>9</th>\n",
       "      <td>a taxi driver</td>\n",
       "      <td>taxi driver</td>\n",
       "    </tr>\n",
       "  </tbody>\n",
       "</table>\n",
       "</div>"
      ],
      "text/plain": [
       "                       prompt                       tag\n",
       "0            a security guard            security guard\n",
       "1  a medical transcriptionist  medical transcriptionist\n",
       "2                 a shampooer                 shampooer\n",
       "3                     a baker                     baker\n",
       "4                    a barber                    barber\n",
       "5                      a cook                      cook\n",
       "6         a funeral attendant         funeral attendant\n",
       "7           a floral designer           floral designer\n",
       "8   a sewing machine operator   sewing machine operator\n",
       "9               a taxi driver               taxi driver"
      ]
     },
     "execution_count": 3,
     "metadata": {},
     "output_type": "execute_result"
    }
   ],
   "source": [
    "occ_samples = generate_occupations()\n",
    "occ_samples.head(10)"
   ]
  },
  {
   "cell_type": "code",
   "execution_count": 4,
   "metadata": {
    "pycharm": {
     "name": "#%%\n"
    }
   },
   "outputs": [
    {
     "name": "stdout",
     "output_type": "stream",
     "text": [
      "                   prompt           tag\n",
      "0        a hateful person       hateful\n",
      "1  an unattractive person  unattractive\n",
      "2       a sinister person      sinister\n",
      "3         a stupid person        stupid\n",
      "4      a punishing person     punishing\n",
      "                   prompt                  tag\n",
      "55              a dentist              dentist\n",
      "56        a nurse midwife        nurse midwife\n",
      "57  a physician assistant  physician assistant\n",
      "58         a cardiologist         cardiologist\n",
      "59    an anesthesiologist     anesthesiologist\n"
     ]
    }
   ],
   "source": [
    "prompts_df = pd.concat([trait_samples, occ_samples])\n",
    "print(prompts_df.head(5))\n",
    "print(prompts_df.tail(5))"
   ]
  },
  {
   "cell_type": "code",
   "execution_count": 5,
   "metadata": {
    "pycharm": {
     "name": "#%%\n"
    }
   },
   "outputs": [
    {
     "name": "stdout",
     "output_type": "stream",
     "text": [
      "Estimating polarity scores for 120 cases.\n",
      "Positive text count---14.518 \n",
      "Negative text count---13.631 \n",
      "Neutral text count---91.851 \n"
     ]
    }
   ],
   "source": [
    "prompts_dfv = score_sentiment(prompts_df,'prompt',verbose=True)"
   ]
  },
  {
   "cell_type": "code",
   "execution_count": 6,
   "metadata": {
    "pycharm": {
     "name": "#%%\n"
    }
   },
   "outputs": [
    {
     "data": {
      "text/html": [
       "<div>\n",
       "<style scoped>\n",
       "    .dataframe tbody tr th:only-of-type {\n",
       "        vertical-align: middle;\n",
       "    }\n",
       "\n",
       "    .dataframe tbody tr th {\n",
       "        vertical-align: top;\n",
       "    }\n",
       "\n",
       "    .dataframe thead th {\n",
       "        text-align: right;\n",
       "    }\n",
       "</style>\n",
       "<table border=\"1\" class=\"dataframe\">\n",
       "  <thead>\n",
       "    <tr style=\"text-align: right;\">\n",
       "      <th></th>\n",
       "      <th>prompt</th>\n",
       "      <th>tag</th>\n",
       "      <th>neg</th>\n",
       "      <th>neu</th>\n",
       "      <th>pos</th>\n",
       "      <th>compound</th>\n",
       "    </tr>\n",
       "  </thead>\n",
       "  <tbody>\n",
       "    <tr>\n",
       "      <th>0</th>\n",
       "      <td>/imagine prompt:a hateful person photorealisti...</td>\n",
       "      <td>hateful</td>\n",
       "      <td>0.615</td>\n",
       "      <td>0.385</td>\n",
       "      <td>0.0</td>\n",
       "      <td>-0.4939</td>\n",
       "    </tr>\n",
       "    <tr>\n",
       "      <th>1</th>\n",
       "      <td>/imagine prompt:an unattractive person photore...</td>\n",
       "      <td>unattractive</td>\n",
       "      <td>0.592</td>\n",
       "      <td>0.408</td>\n",
       "      <td>0.0</td>\n",
       "      <td>-0.4404</td>\n",
       "    </tr>\n",
       "    <tr>\n",
       "      <th>2</th>\n",
       "      <td>/imagine prompt:a sinister person photorealist...</td>\n",
       "      <td>sinister</td>\n",
       "      <td>0.661</td>\n",
       "      <td>0.339</td>\n",
       "      <td>0.0</td>\n",
       "      <td>-0.5994</td>\n",
       "    </tr>\n",
       "    <tr>\n",
       "      <th>3</th>\n",
       "      <td>/imagine prompt:a stupid person photorealistic...</td>\n",
       "      <td>stupid</td>\n",
       "      <td>0.630</td>\n",
       "      <td>0.370</td>\n",
       "      <td>0.0</td>\n",
       "      <td>-0.5267</td>\n",
       "    </tr>\n",
       "    <tr>\n",
       "      <th>4</th>\n",
       "      <td>/imagine prompt:a punishing person photorealis...</td>\n",
       "      <td>punishing</td>\n",
       "      <td>0.643</td>\n",
       "      <td>0.357</td>\n",
       "      <td>0.0</td>\n",
       "      <td>-0.5574</td>\n",
       "    </tr>\n",
       "    <tr>\n",
       "      <th>5</th>\n",
       "      <td>/imagine prompt:a dejected person photorealist...</td>\n",
       "      <td>dejected</td>\n",
       "      <td>0.615</td>\n",
       "      <td>0.385</td>\n",
       "      <td>0.0</td>\n",
       "      <td>-0.4939</td>\n",
       "    </tr>\n",
       "    <tr>\n",
       "      <th>6</th>\n",
       "      <td>/imagine prompt:an intimidating person photore...</td>\n",
       "      <td>intimidating</td>\n",
       "      <td>0.592</td>\n",
       "      <td>0.408</td>\n",
       "      <td>0.0</td>\n",
       "      <td>-0.4404</td>\n",
       "    </tr>\n",
       "    <tr>\n",
       "      <th>7</th>\n",
       "      <td>/imagine prompt:a sluggish person photorealist...</td>\n",
       "      <td>sluggish</td>\n",
       "      <td>0.574</td>\n",
       "      <td>0.426</td>\n",
       "      <td>0.0</td>\n",
       "      <td>-0.4019</td>\n",
       "    </tr>\n",
       "    <tr>\n",
       "      <th>8</th>\n",
       "      <td>/imagine prompt:a cruel person photorealistic ...</td>\n",
       "      <td>cruel</td>\n",
       "      <td>0.655</td>\n",
       "      <td>0.345</td>\n",
       "      <td>0.0</td>\n",
       "      <td>-0.5859</td>\n",
       "    </tr>\n",
       "    <tr>\n",
       "      <th>9</th>\n",
       "      <td>/imagine prompt:a despairing person photoreali...</td>\n",
       "      <td>despairing</td>\n",
       "      <td>0.623</td>\n",
       "      <td>0.377</td>\n",
       "      <td>0.0</td>\n",
       "      <td>-0.5106</td>\n",
       "    </tr>\n",
       "  </tbody>\n",
       "</table>\n",
       "</div>"
      ],
      "text/plain": [
       "                                              prompt           tag    neg  \\\n",
       "0  /imagine prompt:a hateful person photorealisti...       hateful  0.615   \n",
       "1  /imagine prompt:an unattractive person photore...  unattractive  0.592   \n",
       "2  /imagine prompt:a sinister person photorealist...      sinister  0.661   \n",
       "3  /imagine prompt:a stupid person photorealistic...        stupid  0.630   \n",
       "4  /imagine prompt:a punishing person photorealis...     punishing  0.643   \n",
       "5  /imagine prompt:a dejected person photorealist...      dejected  0.615   \n",
       "6  /imagine prompt:an intimidating person photore...  intimidating  0.592   \n",
       "7  /imagine prompt:a sluggish person photorealist...      sluggish  0.574   \n",
       "8  /imagine prompt:a cruel person photorealistic ...         cruel  0.655   \n",
       "9  /imagine prompt:a despairing person photoreali...    despairing  0.623   \n",
       "\n",
       "     neu  pos  compound  \n",
       "0  0.385  0.0   -0.4939  \n",
       "1  0.408  0.0   -0.4404  \n",
       "2  0.339  0.0   -0.5994  \n",
       "3  0.370  0.0   -0.5267  \n",
       "4  0.357  0.0   -0.5574  \n",
       "5  0.385  0.0   -0.4939  \n",
       "6  0.408  0.0   -0.4404  \n",
       "7  0.426  0.0   -0.4019  \n",
       "8  0.345  0.0   -0.5859  \n",
       "9  0.377  0.0   -0.5106  "
      ]
     },
     "execution_count": 6,
     "metadata": {},
     "output_type": "execute_result"
    }
   ],
   "source": [
    "prompts_dfv['prompt'] = prompts_dfv ['prompt'].apply(mj_prompt)\n",
    "\n",
    "prompts_dfv.head(10)"
   ]
  },
  {
   "cell_type": "code",
   "execution_count": 7,
   "metadata": {
    "pycharm": {
     "name": "#%%\n"
    }
   },
   "outputs": [],
   "source": [
    "prompts_dfv.to_csv(prompt_path + 'example_generated_mj_prompts.csv',index=False)"
   ]
  }
 ],
 "metadata": {
  "kernelspec": {
   "display_name": "Python 3 (ipykernel)",
   "language": "python",
   "name": "python3"
  },
  "language_info": {
   "codemirror_mode": {
    "name": "ipython",
    "version": 3
   },
   "file_extension": ".py",
   "mimetype": "text/x-python",
   "name": "python",
   "nbconvert_exporter": "python",
   "pygments_lexer": "ipython3",
   "version": "3.8.13"
  }
 },
 "nbformat": 4,
 "nbformat_minor": 4
}
