{
 "cells": [
  {
   "cell_type": "code",
   "execution_count": 1,
   "metadata": {},
   "outputs": [],
   "source": [
    "import os\n",
    "import glob\n",
    "import pandas as pd\n",
    "import re\n",
    "import warnings\n",
    "from saac.eval_utils import load_tda_data, load_occupation_data, rgb_intensity\n",
    "\n",
    "warnings.filterwarnings('ignore')"
   ]
  },
  {
   "cell_type": "code",
   "execution_count": 2,
   "outputs": [],
   "source": [
    "'''\n",
    "Midjourney has a file name limit of 100 characters,which cuts off a number of the submitted prompts in the file name\n",
    "In order to merge the results with the generated prompt data\n",
    "We will parse and extract the base prompt from the analysis results csv as well as the original prompts csv\n",
    "'''\n",
    "\n",
    "def clean_prompts(prompts_data):\n",
    "    base_prompt = []\n",
    "    for line in prompts_data['prompt']:\n",
    "        if '/imagine prompt:' in line:  # \"/imagine prompt:a pitiless person, photorealistic --s 625\"\n",
    "            line = line.replace('/imagine prompt:', '')\n",
    "            line = line.replace(', photorealistic --s 625', ' photorealistic')\n",
    "            line = line.replace(' photorealistic --s 625', ' photorealistic')\n",
    "            line = line.replace(',', ' ')\n",
    "            line = re.sub(' +', ' ', line).strip().rstrip()\n",
    "            words = line.split(' ')\n",
    "            if words[len(words)-1]!='photorealistic':\n",
    "                words[len(words)-1] = 'photorealistic'\n",
    "            line = \" \".join(words)\n",
    "            base_prompt.append(line)\n",
    "        else:  # \"a passionless person, photorealistic\"\n",
    "            line = line.replace(',', ' ')\n",
    "            line = re.sub(' +', ' ', line).strip().rstrip()\n",
    "            words = line.split(' ')\n",
    "            if words[len(words) - 1] != 'photorealistic':\n",
    "                words[len(words) - 1] = 'photorealistic'\n",
    "            line = \" \".join(words)\n",
    "            base_prompt.append(line)\n",
    "    prompts_data['prompt'] = base_prompt\n",
    "    return prompts_data"
   ],
   "metadata": {
    "collapsed": false
   }
  },
  {
   "cell_type": "code",
   "execution_count": 3,
   "outputs": [],
   "source": [
    "def load_image_analysis_results():\n",
    "    eval_data_path = os.path.join('..','..', 'data','evaluation','raw')\n",
    "    files = glob.glob(os.path.join(eval_data_path, '*.csv'))\n",
    "    colnames = ['prompt','image','quadrant','bbox','skin color','gender.Woman','gender.Man']\n",
    "    results = pd.concat([pd.read_csv(fp,header=0, names=colnames)for fp in files],sort=False)\n",
    "    results['prompt'] = results['prompt'].apply(\n",
    "        lambda x: 'a ' + x + \" photorealistic\" if x[0] != 'a' and 'photorealistic' not in x else x)\n",
    "    results = clean_prompts(results)\n",
    "    #Normalizing gender categories\n",
    "    results['gender.Woman'] = results['gender.Woman'].apply(lambda x: x / 100.)\n",
    "    results['gender.Man'] = results['gender.Man'].apply(lambda x: x / 100.)\n",
    "    #Mapping gender detection values to single column\n",
    "    noface= (results['skin color'].isnull()).values\n",
    "    unknown=  ((results['gender.Woman']<=.50) & (results['gender.Man']<=.50)).values\n",
    "    woman= ((results['gender.Woman']>=.50) & (results['gender.Man']<.50)).values\n",
    "    man= ((results['gender.Man']>=.50) & (results['gender.Woman']<.50)).values\n",
    "\n",
    "    results['gender_detected_cat'] = 0\n",
    "    results['gender_detected_cat'][noface]=1\n",
    "    results['gender_detected_cat'][unknown]=2\n",
    "    results['gender_detected_cat'][woman]=3\n",
    "    results['gender_detected_cat'][man]=4\n",
    "    gender_dict=  {\n",
    "                 1: 'no face',\n",
    "                 2: 'unknown',\n",
    "                 3: 'woman',\n",
    "                 4: 'man'\n",
    "                    }\n",
    "    results['gender_detected_val'] = results['gender_detected_cat'].map(gender_dict)\n",
    "    #Extracting RGB intensity from skin color\n",
    "    results['rgb_intensity'] = results['skin color'].apply(lambda x:rgb_intensity(eval(x)) if not pd.isna(x) else None)\n",
    "    return results"
   ],
   "metadata": {
    "collapsed": false
   }
  },
  {
   "cell_type": "code",
   "execution_count": 4,
   "outputs": [
    {
     "data": {
      "text/plain": "                           prompt  \\\n0  a abrupt person photorealistic   \n1  a abrupt person photorealistic   \n2  a abrupt person photorealistic   \n3  a abrupt person photorealistic   \n4  a absurd person photorealistic   \n\n                                               image  quadrant  \\\n0  alocasia_a_abrupt_person_photorealistic_e2a54c...         0   \n1  alocasia_a_abrupt_person_photorealistic_e2a54c...         1   \n2  alocasia_a_abrupt_person_photorealistic_e2a54c...         2   \n3  alocasia_a_abrupt_person_photorealistic_e2a54c...         3   \n4  alocasia_a_absurd_person_photorealistic_2c5ea2...         0   \n\n                   bbox                 skin color  gender.Woman  gender.Man  \\\n0    [55, 14, 200, 208]      (224.5, 215.7, 205.5)      0.965517    0.034483   \n1                   NaN                        NaN           NaN         NaN   \n2   [334, 42, 433, 179]   (159.725, 131.0, 119.95)      0.965517    0.034483   \n3  [341, 316, 387, 382]  (222.325, 211.25, 178.25)      0.500000    0.500000   \n4                   NaN                        NaN           NaN         NaN   \n\n   gender_detected_cat gender_detected_val  rgb_intensity  \n0                    3               woman     216.834440  \n1                    1             no face            NaN  \n2                    3               woman     136.309125  \n3                    2             unknown     211.221945  \n4                    1             no face            NaN  ",
      "text/html": "<div>\n<style scoped>\n    .dataframe tbody tr th:only-of-type {\n        vertical-align: middle;\n    }\n\n    .dataframe tbody tr th {\n        vertical-align: top;\n    }\n\n    .dataframe thead th {\n        text-align: right;\n    }\n</style>\n<table border=\"1\" class=\"dataframe\">\n  <thead>\n    <tr style=\"text-align: right;\">\n      <th></th>\n      <th>prompt</th>\n      <th>image</th>\n      <th>quadrant</th>\n      <th>bbox</th>\n      <th>skin color</th>\n      <th>gender.Woman</th>\n      <th>gender.Man</th>\n      <th>gender_detected_cat</th>\n      <th>gender_detected_val</th>\n      <th>rgb_intensity</th>\n    </tr>\n  </thead>\n  <tbody>\n    <tr>\n      <th>0</th>\n      <td>a abrupt person photorealistic</td>\n      <td>alocasia_a_abrupt_person_photorealistic_e2a54c...</td>\n      <td>0</td>\n      <td>[55, 14, 200, 208]</td>\n      <td>(224.5, 215.7, 205.5)</td>\n      <td>0.965517</td>\n      <td>0.034483</td>\n      <td>3</td>\n      <td>woman</td>\n      <td>216.834440</td>\n    </tr>\n    <tr>\n      <th>1</th>\n      <td>a abrupt person photorealistic</td>\n      <td>alocasia_a_abrupt_person_photorealistic_e2a54c...</td>\n      <td>1</td>\n      <td>NaN</td>\n      <td>NaN</td>\n      <td>NaN</td>\n      <td>NaN</td>\n      <td>1</td>\n      <td>no face</td>\n      <td>NaN</td>\n    </tr>\n    <tr>\n      <th>2</th>\n      <td>a abrupt person photorealistic</td>\n      <td>alocasia_a_abrupt_person_photorealistic_e2a54c...</td>\n      <td>2</td>\n      <td>[334, 42, 433, 179]</td>\n      <td>(159.725, 131.0, 119.95)</td>\n      <td>0.965517</td>\n      <td>0.034483</td>\n      <td>3</td>\n      <td>woman</td>\n      <td>136.309125</td>\n    </tr>\n    <tr>\n      <th>3</th>\n      <td>a abrupt person photorealistic</td>\n      <td>alocasia_a_abrupt_person_photorealistic_e2a54c...</td>\n      <td>3</td>\n      <td>[341, 316, 387, 382]</td>\n      <td>(222.325, 211.25, 178.25)</td>\n      <td>0.500000</td>\n      <td>0.500000</td>\n      <td>2</td>\n      <td>unknown</td>\n      <td>211.221945</td>\n    </tr>\n    <tr>\n      <th>4</th>\n      <td>a absurd person photorealistic</td>\n      <td>alocasia_a_absurd_person_photorealistic_2c5ea2...</td>\n      <td>0</td>\n      <td>NaN</td>\n      <td>NaN</td>\n      <td>NaN</td>\n      <td>NaN</td>\n      <td>1</td>\n      <td>no face</td>\n      <td>NaN</td>\n    </tr>\n  </tbody>\n</table>\n</div>"
     },
     "execution_count": 4,
     "metadata": {},
     "output_type": "execute_result"
    }
   ],
   "source": [
    "image_analysis = load_image_analysis_results()\n",
    "image_analysis.head()"
   ],
   "metadata": {
    "collapsed": false
   }
  },
  {
   "cell_type": "code",
   "execution_count": 5,
   "metadata": {},
   "outputs": [
    {
     "data": {
      "text/plain": "                                 prompt           tag  compound\n0      a pitiless person photorealistic      pitiless   -0.4215\n1          a rash person photorealistic          rash   -0.4019\n2        a sinful person photorealistic        sinful   -0.5574\n3          a fake person photorealistic          fake   -0.4767\n4  a discontented person photorealistic  discontented   -0.4215",
      "text/html": "<div>\n<style scoped>\n    .dataframe tbody tr th:only-of-type {\n        vertical-align: middle;\n    }\n\n    .dataframe tbody tr th {\n        vertical-align: top;\n    }\n\n    .dataframe thead th {\n        text-align: right;\n    }\n</style>\n<table border=\"1\" class=\"dataframe\">\n  <thead>\n    <tr style=\"text-align: right;\">\n      <th></th>\n      <th>prompt</th>\n      <th>tag</th>\n      <th>compound</th>\n    </tr>\n  </thead>\n  <tbody>\n    <tr>\n      <th>0</th>\n      <td>a pitiless person photorealistic</td>\n      <td>pitiless</td>\n      <td>-0.4215</td>\n    </tr>\n    <tr>\n      <th>1</th>\n      <td>a rash person photorealistic</td>\n      <td>rash</td>\n      <td>-0.4019</td>\n    </tr>\n    <tr>\n      <th>2</th>\n      <td>a sinful person photorealistic</td>\n      <td>sinful</td>\n      <td>-0.5574</td>\n    </tr>\n    <tr>\n      <th>3</th>\n      <td>a fake person photorealistic</td>\n      <td>fake</td>\n      <td>-0.4767</td>\n    </tr>\n    <tr>\n      <th>4</th>\n      <td>a discontented person photorealistic</td>\n      <td>discontented</td>\n      <td>-0.4215</td>\n    </tr>\n  </tbody>\n</table>\n</div>"
     },
     "execution_count": 5,
     "metadata": {},
     "output_type": "execute_result"
    }
   ],
   "source": [
    "def load_prompts():\n",
    "    prompt_data_path = os.path.join('..','..', 'data','prompt_generation','processed')\n",
    "    files = glob.glob(os.path.join(prompt_data_path, '*.csv'))\n",
    "    cols = [0, 1, 5]\n",
    "    colnames = ['prompt','tag','compound']\n",
    "    prompts_df = pd.concat([pd.read_csv(fp,header=0,usecols= cols, names=colnames)for fp in files],sort=False)\n",
    "    prompts_df = clean_prompts(prompts_df)\n",
    "    return prompts_df\n",
    "\n",
    "prompts = load_prompts()\n",
    "prompts.head()"
   ]
  },
  {
   "cell_type": "code",
   "execution_count": 6,
   "metadata": {},
   "outputs": [],
   "source": [
    "def get_occupation_results():\n",
    "    results = load_image_analysis_results()\n",
    "    prompts = load_prompts()\n",
    "    res_prompts = results.merge(prompts, right_on=['prompt'], left_on=['prompt'])\n",
    "    occupations = load_occupation_data()\n",
    "    occ_results = res_prompts.merge(occupations,right_on=['norm_title'],left_on=['tag'],how='inner')\n",
    "    return occ_results\n",
    "\n",
    "def get_tda_results():\n",
    "    results = load_image_analysis_results()\n",
    "    prompts = load_prompts()\n",
    "    res_prompts = results.merge(prompts, right_on=['prompt'], left_on=['prompt'])\n",
    "    tda_data = load_tda_data()\n",
    "    tda_results = res_prompts.merge(tda_data,right_on=['tda'],left_on=['tag'],how='inner')\n",
    "    return tda_results"
   ]
  },
  {
   "cell_type": "code",
   "execution_count": 7,
   "metadata": {},
   "outputs": [
    {
     "name": "stdout",
     "output_type": "stream",
     "text": [
      "1440\n"
     ]
    }
   ],
   "source": [
    "#Retrieving the prompts focused on trait sentiment and merging them with the TDA Bank data and the image results\n",
    "tda = get_tda_results() \n",
    "print(len(tda))"
   ]
  },
  {
   "cell_type": "code",
   "execution_count": 8,
   "metadata": {},
   "outputs": [
    {
     "name": "stdout",
     "output_type": "stream",
     "text": [
      "1436\n"
     ]
    }
   ],
   "source": [
    "#Retrieving the prompts focused on occupations and merging them with the Occuoation Bank data and the image results\n",
    "\n",
    "occ = get_occupation_results()\n",
    "print(len(occ))"
   ]
  },
  {
   "cell_type": "code",
   "execution_count": 9,
   "metadata": {},
   "outputs": [],
   "source": [
    "savepath='../../data/evaluation/processed/'\n",
    "\n",
    "tda.to_csv(savepath+ 'TDA_Results.csv',index=False)\n",
    "occ.to_csv(savepath+ 'Occupation_Results.csv',index=False)"
   ]
  }
 ],
 "metadata": {
  "kernelspec": {
   "display_name": "Python 3 (ipykernel)",
   "language": "python",
   "name": "python3"
  },
  "language_info": {
   "codemirror_mode": {
    "name": "ipython",
    "version": 3
   },
   "file_extension": ".py",
   "mimetype": "text/x-python",
   "name": "python",
   "nbconvert_exporter": "python",
   "pygments_lexer": "ipython3",
   "version": "3.8.13"
  }
 },
 "nbformat": 4,
 "nbformat_minor": 4
}
