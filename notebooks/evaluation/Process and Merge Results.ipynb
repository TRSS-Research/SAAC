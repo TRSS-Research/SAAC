{
 "cells": [
  {
   "cell_type": "code",
   "execution_count": 1,
   "metadata": {
    "pycharm": {
     "name": "#%%\n"
    }
   },
   "outputs": [],
   "source": [
    "import os\n",
    "import glob\n",
    "import pandas as pd\n",
    "import re\n",
    "import warnings\n",
    "from saac.eval_utils import load_tda_data, load_occupation_data\n",
    "\n",
    "warnings.filterwarnings('once')"
   ]
  },
  {
   "cell_type": "code",
   "execution_count": 2,
   "metadata": {
    "pycharm": {
     "name": "#%%\n"
    }
   },
   "outputs": [],
   "source": [
    "'''\n",
    "Midjourney has a file name limit of 100 characters,which cuts off a number of the submitted prompts in the file name\n",
    "In order to merge the results with the generated prompt data\n",
    "We will parse and extract the base prompt from the image_file column\n",
    "'''\n",
    "def load_image_analysis_results():\n",
    "    eval_data_path = os.path.join('..','..', 'data','evaluation','raw')\n",
    "    files = glob.glob(os.path.join(eval_data_path, '*.csv'))\n",
    "    colnames = ['file_prompt','image_file','quadrant','bbox','skincolor','gender_woman','gender_man']\n",
    "    results = pd.concat([pd.read_csv(fp,header=0, names=colnames)\\\n",
    "                     .assign(model =os.path.basename(fp).split('_')[0]) for fp in files],sort=False)\n",
    "    base_prompt= []\n",
    "    for row in results['image_file']:\n",
    "        try:\n",
    "            base_prompt.append(row.split('_')[1:-2])\n",
    "        except:\n",
    "            base_prompt.append('')\n",
    "    results['base_prompt'] = base_prompt\n",
    "    results['base_prompt'] = results['base_prompt'].apply(lambda x: ' '.join(x)+\" photorealistic\")\n",
    "    results['base_prompt'] = results['base_prompt'].str.strip().str.rstrip()\n",
    "    #Mapping gender detection values to single column\n",
    "    noface= (results['skincolor'].isnull()).values\n",
    "    unknown=  ((results['gender_woman']<=50.000000) & (results['gender_man']<=50.000000)).values\n",
    "    woman= ((results['gender_woman']>50.000000) & (results['gender_man']<=50.000000)).values\n",
    "    man= ((results['gender_man']>50.000000) & (results['gender_woman']<=50.000000)).values\n",
    "    results['gender_detected_cat'] = 0\n",
    "    results['gender_detected_cat'][noface]=1\n",
    "    results['gender_detected_cat'][unknown]=2\n",
    "    results['gender_detected_cat'][woman]=3\n",
    "    results['gender_detected_cat'][man]=4\n",
    "    gender_dict=  {\n",
    "             1: 'no face',\n",
    "             2: 'unknown',\n",
    "             3: 'man',\n",
    "             4: 'woman'\n",
    "                }\n",
    "    results['gender_detected_val'] = results['gender_detected_cat'].map(gender_dict)\n",
    "    return results"
   ]
  },
  {
   "cell_type": "code",
   "execution_count": 3,
   "metadata": {
    "pycharm": {
     "name": "#%%\n"
    }
   },
   "outputs": [],
   "source": [
    "def load_prompts():\n",
    "    prompt_data_path = os.path.join('..','..', 'data','prompt_generation','processed')\n",
    "    files = glob.glob(os.path.join(prompt_data_path, '*.csv'))\n",
    "    cols = [0, 1, 5]\n",
    "    colnames = ['full_prompt','tag','prompt_compound']\n",
    "    prompts = pd.concat([pd.read_csv(fp,header=0,usecols= cols, names=colnames)for fp in files],sort=False)\n",
    "    base_prompt =[]\n",
    "    for line in prompts['full_prompt']:\n",
    "        if '/imagine prompt:' in line:\n",
    "            line = line.replace('/imagine prompt:','')\n",
    "            line = line.replace(', photorealistic --s 625',' photorealistic')\n",
    "            line = line.replace(',',' ')\n",
    "            line = re.sub(' +',' ',line).strip().rstrip()\n",
    "            base_prompt.append(line)\n",
    "        else:\n",
    "            base_prompt.append(line)\n",
    "    prompts['base_prompt'] = base_prompt\n",
    "    return prompts"
   ]
  },
  {
   "cell_type": "code",
   "execution_count": 4,
   "metadata": {
    "pycharm": {
     "name": "#%%\n"
    }
   },
   "outputs": [],
   "source": [
    "def get_occupation_results():\n",
    "    results = load_image_analysis_results()\n",
    "    prompts = load_prompts()\n",
    "    res_prompts = results.merge(prompts, right_on=['base_prompt'], left_on=['base_prompt'])\n",
    "    occupations = load_occupation_data()\n",
    "    occ_results = res_prompts.merge(occupations,right_on=['norm_title'],left_on=['tag'],how='inner')\n",
    "    return occ_results\n",
    "\n",
    "def get_tda_results():\n",
    "    results = load_image_analysis_results()\n",
    "    prompts = load_prompts()\n",
    "    res_prompts = results.merge(prompts, right_on=['base_prompt'], left_on=['base_prompt'])\n",
    "    tda_data = load_tda_data()\n",
    "    tda_results = res_prompts.merge(tda_data,right_on=['tda'],left_on=['tag'],how='inner')\n",
    "    return tda_results"
   ]
  },
  {
   "cell_type": "code",
   "execution_count": 5,
   "metadata": {
    "pycharm": {
     "name": "#%%\n"
    }
   },
   "outputs": [
    {
     "name": "stdout",
     "output_type": "stream",
     "text": [
      "1440\n"
     ]
    },
    {
     "name": "stderr",
     "output_type": "stream",
     "text": [
      "C:\\Users\\vrozenbaum\\AppData\\Local\\Temp\\ipykernel_18160\\4010911928.py:27: SettingWithCopyWarning: \n",
      "A value is trying to be set on a copy of a slice from a DataFrame\n",
      "\n",
      "See the caveats in the documentation: https://pandas.pydata.org/pandas-docs/stable/user_guide/indexing.html#returning-a-view-versus-a-copy\n",
      "  results['gender_detected_cat'][noface]=1\n"
     ]
    }
   ],
   "source": [
    "tda = get_tda_results()\n",
    "print(len(tda))"
   ]
  },
  {
   "cell_type": "code",
   "execution_count": 6,
   "metadata": {
    "pycharm": {
     "name": "#%%\n"
    }
   },
   "outputs": [
    {
     "name": "stdout",
     "output_type": "stream",
     "text": [
      "1440\n"
     ]
    },
    {
     "name": "stderr",
     "output_type": "stream",
     "text": [
      "C:\\Users\\vrozenbaum\\AppData\\Local\\Temp\\ipykernel_18160\\4010911928.py:27: SettingWithCopyWarning: \n",
      "A value is trying to be set on a copy of a slice from a DataFrame\n",
      "\n",
      "See the caveats in the documentation: https://pandas.pydata.org/pandas-docs/stable/user_guide/indexing.html#returning-a-view-versus-a-copy\n",
      "  results['gender_detected_cat'][noface]=1\n"
     ]
    }
   ],
   "source": [
    "occ = get_occupation_results()\n",
    "print(len(occ))"
   ]
  },
  {
   "cell_type": "code",
   "execution_count": 7,
   "metadata": {
    "pycharm": {
     "name": "#%%\n"
    }
   },
   "outputs": [],
   "source": [
    "savepath='../../data/evaluation/processed/'\n",
    "\n",
    "tda.to_csv(savepath+ 'TDA_Results.csv',index=False)\n",
    "occ.to_csv(savepath+ 'Occupation_Results.csv',index=False)"
   ]
  }
 ],
 "metadata": {
  "kernelspec": {
   "display_name": "Python 3",
   "language": "python",
   "name": "python3"
  },
  "language_info": {
   "codemirror_mode": {
    "name": "ipython",
    "version": 3
   },
   "file_extension": ".py",
   "mimetype": "text/x-python",
   "name": "python",
   "nbconvert_exporter": "python",
   "pygments_lexer": "ipython3",
   "version": "3.8.13"
  }
 },
 "nbformat": 4,
 "nbformat_minor": 4
}
