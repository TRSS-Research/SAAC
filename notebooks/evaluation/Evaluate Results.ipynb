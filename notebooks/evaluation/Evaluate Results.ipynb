{
 "cells": [
  {
   "cell_type": "code",
   "execution_count": null,
   "metadata": {
    "pycharm": {
     "name": "#%%\n"
    }
   },
   "outputs": [],
   "source": [
    "import pandas as pd\n",
    "import numpy as np\n",
    "\n",
    "import matplotlib.pyplot as plt\n",
    "\n",
    "from saac.eval_utils import rgb_sorter, rgb_intensity\n",
    "from saac.statistics import ks2sample_test\n",
    "\n",
    "from scipy.stats import f_oneway, ranksums\n",
    "\n",
    "import seaborn as sns\n",
    "sns.set(style='darkgrid', palette ='colorblind', color_codes=True)\n",
    "\n",
    "%matplotlib inline  "
   ]
  },
  {
   "cell_type": "code",
   "execution_count": null,
   "metadata": {
    "pycharm": {
     "name": "#%%\n"
    }
   },
   "outputs": [],
   "source": [
    "respath='../../data/evaluation/processed/'"
   ]
  },
  {
   "cell_type": "markdown",
   "metadata": {
    "pycharm": {
     "name": "#%% md\n"
    }
   },
   "source": [
    "# Trait Sentiment (TDA) Evaluation"
   ]
  },
  {
   "cell_type": "code",
   "execution_count": null,
   "metadata": {
    "pycharm": {
     "name": "#%%\n"
    }
   },
   "outputs": [],
   "source": [
    "tda_res_all = pd.read_csv(respath+'TDA_Results.csv' )\n",
    "print(f'Total rows: {len(tda_res_all)}')\n",
    "\n",
    "sentcheck = tda_res_all[tda_res_all['tda_compound']==tda_res_all['prompt_compound']]\n",
    "print(f'Total rows where tda sentiment is equal to prompt sentiment : {len(sentcheck)}')\n",
    "\n",
    "print('Counts of sampled sentiment categories for all possible gender detected values ')\n",
    "sentiment_order = ['very negative', 'negative', 'neutral','positive','very positive'] \n",
    "gender_order = ['man', 'woman', 'unknown','no face']\n",
    "pd.crosstab(tda_res_all['gender_detected_val'], tda_res_all['tda_sentiment_val']).reindex(gender_order)[sentiment_order] "
   ]
  },
  {
   "cell_type": "code",
   "execution_count": null,
   "metadata": {
    "pycharm": {
     "name": "#%%\n"
    }
   },
   "outputs": [],
   "source": [
    "tda_res = tda_res_all[~tda_res_all['gender_detected_val'].isin(['unknown','no face'])]\n",
    "print(f\"Total rows after removing faceless and unknown gender detected results: {len(tda_res)}\")"
   ]
  },
  {
   "cell_type": "markdown",
   "metadata": {
    "pycharm": {
     "name": "#%% md\n"
    }
   },
   "source": [
    "#### Two Sample Kolmogorov-Smirnov Test\n",
    "<p>Using the default two-sided parameter for alternative, the null hypothesis is that the two distributions are identical and the alternative is that they are not identical.\n",
    "<p>If the p-value is lower than our confidence level of 95%, we can reject the null hypothesis in favor of the alternative and conclude that the data were not drawn from the same distribution."
   ]
  },
  {
   "cell_type": "code",
   "execution_count": null,
   "metadata": {
    "pycharm": {
     "name": "#%%\n"
    }
   },
   "outputs": [],
   "source": [
    "t = [x for x in ks2sample_test(tda_res, group_col='gender_detected_val', value_col='tda_compound')]\n",
    "t"
   ]
  },
  {
   "cell_type": "code",
   "execution_count": null,
   "metadata": {
    "pycharm": {
     "name": "#%%\n"
    }
   },
   "outputs": [],
   "source": [
    "sns.displot(data=tda_res, x=\"tda_compound\", hue=\"gender_detected_val\", kind=\"kde\").set(title='Gender Distribution by TDA Sentiment')"
   ]
  },
  {
   "cell_type": "markdown",
   "metadata": {
    "pycharm": {
     "name": "#%% md\n"
    }
   },
   "source": [
    "## Map trait sentiment values to skin color and gender"
   ]
  },
  {
   "cell_type": "code",
   "execution_count": null,
   "metadata": {
    "pycharm": {
     "name": "#%%\n"
    }
   },
   "outputs": [],
   "source": [
    "## Visual test of RGB skin color intensity sorting\n",
    "# ax1 = plt.subplots(1, 1)\n",
    "\n",
    "# sorted_rgb = rgb_sorter(tda_res['skincolor'].apply(eval))\n",
    "# x_vals = np.linspace(0, len(sorted_rgb))\n",
    "\n",
    "# for x, c in enumerate(sorted_rgb):\n",
    "#     plt.plot(x*np.ones(2), [0, 1], color=np.array(c)/255)\n",
    "\n",
    "# # fig2 = plt.figure(figsize=(1, 14))\n",
    "# fig2, ax2 = plt.subplots(3, 1)\n",
    "\n",
    "# sorted_rgb_neg = rgb_sorter(tda_res[tda_res['tda_compound'] < 0]['skincolor'].apply(eval))\n",
    "# sorted_rgb_neu = rgb_sorter(tda_res[tda_res['tda_compound'] == 0]['skincolor'].apply(eval))\n",
    "# sorted_rgb_pos = rgb_sorter(tda_res[tda_res['tda_compound'] > 0]['skincolor'].apply(eval))\n",
    "\n",
    "# x_vals_neg = np.linspace(0, len(sorted_rgb_neg))\n",
    "# x_vals_neu = np.linspace(0, len(sorted_rgb_neu))\n",
    "# x_vals_pos = np.linspace(0, len(sorted_rgb_pos))\n",
    "\n",
    "# for x, c in enumerate(sorted_rgb_neg):\n",
    "#     ax2[0].plot(x*np.ones(2), [0, 1], color=np.array(c)/255)\n",
    "# for x, c in enumerate(sorted_rgb_neu):\n",
    "#     ax2[1].plot(x*np.ones(2), [0, 1], color=np.array(c)/255)\n",
    "# for x, c in enumerate(sorted_rgb_pos):\n",
    "#     ax2[2].plot(x*np.ones(2), [0, 1], color=np.array(c)/255)"
   ]
  },
  {
   "cell_type": "code",
   "execution_count": null,
   "metadata": {
    "pycharm": {
     "name": "#%%\n"
    }
   },
   "outputs": [],
   "source": [
    "# Mostly just a visual test of intensity sorting per sentiment bin\n",
    "\n",
    "n_bins = 21\n",
    "\n",
    "fig, ax1 = plt.subplots(1, 1)\n",
    "\n",
    "tda_count, tda_division = np.histogram(tda_res['tda_compound'], bins=n_bins)\n",
    "\n",
    "for idx in range(1, len(tda_division)):\n",
    "    if idx + 1 == len(tda_division):\n",
    "        mask = (tda_res['tda_compound'] >= tda_division[idx - 1]) & (tda_res['tda_compound'] <= tda_division[idx])\n",
    "    else:\n",
    "        mask = (tda_res['tda_compound'] >= tda_division[idx - 1]) & (tda_res['tda_compound'] < tda_division[idx])\n",
    "        \n",
    "    sorted_rgb = rgb_sorter(tda_res[mask]['skincolor'].apply(eval))\n",
    "    \n",
    "    for y, c in enumerate(sorted_rgb):\n",
    "        plt.plot(tda_division[idx - 1: idx + 1], y * np.ones(2), color=np.array(c)/255)\n",
    "        \n",
    "ax1.set_xlabel('TDA Sentiment')\n",
    "ax1.set_ylabel('Face Count')\n",
    "ax1.set_title('Visual Examples of Skin Color Intensity, Binned by TDA Sentiment')"
   ]
  },
  {
   "cell_type": "code",
   "execution_count": null,
   "metadata": {
    "pycharm": {
     "name": "#%%\n"
    }
   },
   "outputs": [],
   "source": [
    "# Violin plots of skin intensity per yearly salary bin\n",
    "\n",
    "fig, ax1 = plt.subplots(1, 1)\n",
    "\n",
    "tda_count, tda_division = np.histogram(tda_res['tda_compound'], bins=n_bins)\n",
    "\n",
    "all_rgb_intensities = []\n",
    "\n",
    "for idx in range(1, len(tda_division)):\n",
    "    if idx + 1 == len(tda_division):\n",
    "        mask = (tda_res['tda_compound'] >= tda_division[idx - 1]) & (tda_res['tda_compound'] <= tda_division[idx])\n",
    "    else:\n",
    "        mask = (tda_res['tda_compound'] >= tda_division[idx - 1]) & (tda_res['tda_compound'] < tda_division[idx])\n",
    "        \n",
    "    if sum(mask) <= 0:\n",
    "        continue\n",
    "        \n",
    "    rgb_intensities = tda_res[mask]['skincolor'].apply(eval).apply(rgb_intensity)\n",
    "    all_rgb_intensities.append(list(rgb_intensities.values))\n",
    "    \n",
    "    parts = ax1.violinplot(rgb_intensities, positions=[np.mean(tda_division[idx - 1:idx + 1])],\n",
    "                           # showmedians=True,\n",
    "                           showmeans=True,\n",
    "                           showextrema=False,\n",
    "                           widths=0.05,\n",
    "                           points=100)\n",
    "    \n",
    "    hex_str = str(hex(int(np.median(rgb_intensities))))[2:]\n",
    "    hex_color = f\"#{hex_str}{hex_str}{hex_str}\"\n",
    "    \n",
    "    for pc in parts['bodies']:\n",
    "        pc.set_facecolor(hex_color)\n",
    "        pc.set_edgecolor(hex_color)\n",
    "        pc.set_alpha(1)\n",
    "    parts['cmeans'].set_facecolor(hex_color)\n",
    "    parts['cmeans'].set_edgecolor('black')\n",
    "    \n",
    "ax1.set_xlabel('TDA Sentiment')\n",
    "ax1.set_ylabel('Skin Color Intensity')\n",
    "ax1.set_title('Visual Examples of Skin Color Intensity, Binned by TDA Sentiment')"
   ]
  },
  {
   "cell_type": "code",
   "execution_count": null,
   "metadata": {
    "pycharm": {
     "name": "#%%\n"
    }
   },
   "outputs": [],
   "source": [
    "# ANOVA test\n",
    "\n",
    "F, p = f_oneway(*all_rgb_intensities)\n",
    "print(F)\n",
    "print(p)"
   ]
  },
  {
   "cell_type": "markdown",
   "metadata": {
    "pycharm": {
     "name": "#%% md\n"
    }
   },
   "source": [
    "# Occupation Evaluation"
   ]
  },
  {
   "cell_type": "code",
   "execution_count": null,
   "metadata": {
    "pycharm": {
     "name": "#%%\n"
    }
   },
   "outputs": [],
   "source": [
    "occ_res_all = pd.read_csv(respath +'Occupation_Results.csv').sort_values('a_median')\n",
    "print(f'Total rows: {len(occ_res_all)}')\n",
    "print('Counts of sampled wage categories for median annual wage for all possible gender detected values ')\n",
    "\n",
    "wage_order = ['very low', 'low', 'medium','high','very high'] # Presetting order of values for easier interpretation\n",
    "gender_order = ['man', 'woman', 'unknown','no face']\n",
    "pd.crosstab(occ_res_all['gender_detected_val'], occ_res_all['wage_val']).reindex(gender_order)[wage_order] "
   ]
  },
  {
   "cell_type": "code",
   "execution_count": null,
   "metadata": {
    "pycharm": {
     "name": "#%%\n"
    }
   },
   "outputs": [],
   "source": [
    "#For the case of this evaluation we will not be including images where a face could not be detected \n",
    "#or where the gender could not be determined  \n",
    "\n",
    "occ_res = occ_res_all[~occ_res_all['gender_detected_val'].isin(['unknown','no face'])]\n",
    "print(f\"Total rows after removing faceless and unknown gender detected results: {len(occ_res)}\")"
   ]
  },
  {
   "cell_type": "markdown",
   "metadata": {
    "pycharm": {
     "name": "#%% md\n"
    }
   },
   "source": [
    "#### Two Sample Kolmogorov-Smirnov Test\n",
    "<p>Using the default two-sided parameter for alternative, the null hypothesis is that the two distributions are identical and the alternative is that they are not identical.\n",
    "<p>If the p-value is lower than our confidence level of 95%, we can reject the null hypothesis in favor of the alternative and conclude that the data were not drawn from the same distribution."
   ]
  },
  {
   "cell_type": "code",
   "execution_count": null,
   "metadata": {
    "pycharm": {
     "name": "#%%\n"
    }
   },
   "outputs": [],
   "source": [
    "o = [x for x in ks2sample_test(occ_res, group_col='gender_detected_val', value_col='a_median')]\n",
    "o"
   ]
  },
  {
   "cell_type": "code",
   "execution_count": null,
   "metadata": {
    "pycharm": {
     "name": "#%%\n"
    }
   },
   "outputs": [],
   "source": [
    "sns.displot(data=occ_res, x=\"a_median\", hue=\"gender_detected_val\", kind=\"kde\").set(title=\"Gender Distribution by Annual Median Salary\")"
   ]
  },
  {
   "cell_type": "code",
   "execution_count": null,
   "metadata": {
    "pycharm": {
     "name": "#%%\n"
    }
   },
   "outputs": [],
   "source": [
    "mask_male = occ_res['gender_detected_cat'] == 4\n",
    "mask_female = occ_res['gender_detected_cat'] == 3\n",
    "male_salary = occ_res[mask_male]['a_median'].median()\n",
    "female_salary = occ_res[mask_female]['a_median'].median()\n",
    "\n",
    "print(f\"Median salary for male faces: {male_salary:0.2f}\")\n",
    "print(f\"Median salary for female faces: {female_salary:0.2f}\")\n",
    "\n",
    "wcox_results = ranksums(occ_res[mask_male]['a_median'], occ_res[mask_female]['a_median'])\n",
    "\n",
    "print(wcox_results.statistic)\n",
    "print(wcox_results.pvalue)"
   ]
  },
  {
   "cell_type": "markdown",
   "metadata": {
    "pycharm": {
     "name": "#%%\n"
    }
   },
   "source": [
    "## Map Median Annual Salary to Skin Color"
   ]
  },
  {
   "cell_type": "code",
   "execution_count": null,
   "metadata": {
    "pycharm": {
     "name": "#%%\n"
    }
   },
   "outputs": [],
   "source": [
    "# Mostly just a visual test of intensity sorting per salary bin\n",
    "\n",
    "n_bins = 21\n",
    "\n",
    "fig, ax1 = plt.subplots(1, 1)\n",
    "\n",
    "occ_count, occ_division = np.histogram(occ_res['a_median'], bins=n_bins)\n",
    "\n",
    "for idx in range(1, len(occ_division)):\n",
    "    if idx + 1 == len(occ_division):\n",
    "        mask = (occ_res['a_median'] >= occ_division[idx - 1]) & (occ_res['a_median'] <= occ_division[idx])\n",
    "    else:\n",
    "        mask = (occ_res['a_median'] >= occ_division[idx - 1]) & (occ_res['a_median'] < occ_division[idx])\n",
    "        \n",
    "    sorted_rgb = rgb_sorter(occ_res[mask]['skincolor'].apply(eval))\n",
    "    \n",
    "    for y, c in enumerate(sorted_rgb):\n",
    "        plt.plot(occ_division[idx - 1: idx + 1], y * np.ones(2), color=np.array(c)/255)\n",
    "\n",
    "ax1.set_xlabel('Median Salary')\n",
    "ax1.set_ylabel('Face Count')\n",
    "ax1.set_title('Visual Examples of Skin Color Intensity, Binned by Median Salary')"
   ]
  },
  {
   "cell_type": "code",
   "execution_count": null,
   "metadata": {
    "pycharm": {
     "name": "#%%\n"
    }
   },
   "outputs": [],
   "source": [
    "# Violin plots of skin intensity per yearly salary bin\n",
    "\n",
    "fig, ax1 = plt.subplots(1, 1)\n",
    "\n",
    "occ_count, occ_division = np.histogram(occ_res['a_median'], bins=n_bins)\n",
    "\n",
    "all_rgb_intensities = []\n",
    "\n",
    "for idx in range(1, len(occ_division)):\n",
    "    if idx + 1 == len(occ_division):\n",
    "        mask = (occ_res['a_median'] >= occ_division[idx - 1]) & (occ_res['a_median'] <= occ_division[idx])\n",
    "    else:\n",
    "        mask = (occ_res['a_median'] >= occ_division[idx - 1]) & (occ_res['a_median'] < occ_division[idx])\n",
    "        \n",
    "    if sum(mask) <= 0:\n",
    "        continue\n",
    "        \n",
    "    rgb_intensities = occ_res[mask]['skincolor'].apply(eval).apply(rgb_intensity)\n",
    "    all_rgb_intensities.append(list(rgb_intensities.values))\n",
    "    \n",
    "    parts = ax1.violinplot(rgb_intensities, positions=[np.mean(occ_division[idx - 1:idx + 1])],\n",
    "                           # showmedians=True,\n",
    "                           showmeans=True,\n",
    "                           showextrema=False,\n",
    "                           widths=7500.0,\n",
    "                           points=100)\n",
    "    \n",
    "    hex_str = str(hex(int(np.median(rgb_intensities))))[2:]\n",
    "    hex_color = f\"#{hex_str}{hex_str}{hex_str}\"\n",
    "    \n",
    "    for pc in parts['bodies']:\n",
    "        pc.set_facecolor(hex_color)\n",
    "        pc.set_edgecolor(hex_color)\n",
    "        pc.set_alpha(1)\n",
    "    parts['cmeans'].set_facecolor(hex_color)\n",
    "    parts['cmeans'].set_edgecolor('black')\n",
    "    \n",
    "ax1.set_xlabel('Median Salary')\n",
    "ax1.set_ylabel('Skin Color Intensity')\n",
    "ax1.set_title('Skin Color Intensity, Binned by Median Salary')"
   ]
  },
  {
   "cell_type": "code",
   "execution_count": null,
   "metadata": {
    "pycharm": {
     "name": "#%%\n"
    }
   },
   "outputs": [],
   "source": [
    "# ANOVA test\n",
    "\n",
    "F, p = f_oneway(*all_rgb_intensities)\n",
    "print(F)\n",
    "print(p)"
   ]
  }
 ],
 "metadata": {
  "kernelspec": {
   "display_name": "Python 3 (ipykernel)",
   "language": "python",
   "name": "python3"
  },
  "language_info": {
   "codemirror_mode": {
    "name": "ipython",
    "version": 3
   },
   "file_extension": ".py",
   "mimetype": "text/x-python",
   "name": "python",
   "nbconvert_exporter": "python",
   "pygments_lexer": "ipython3",
   "version": "3.8.13"
  }
 },
 "nbformat": 4,
 "nbformat_minor": 4
}
