{
 "cells": [
  {
   "cell_type": "code",
   "execution_count": null,
   "metadata": {
    "pycharm": {
     "is_executing": true,
     "name": "#%%\n"
    }
   },
   "outputs": [],
   "source": [
    "import pandas as pd\n",
    "import matplotlib.pyplot as plt\n",
    "from matplotlib import style\n",
    "import numpy as np\n",
    "import seaborn as sns\n",
    "\n",
    "%matplotlib inline  \n",
    "style.use('fivethirtyeight')\n",
    "sns.set(style='whitegrid',color_codes=True)\n",
    "%matplotlib inline"
   ]
  },
  {
   "cell_type": "code",
   "execution_count": null,
   "metadata": {
    "pycharm": {
     "name": "#%%\n"
    }
   },
   "outputs": [],
   "source": [
    "respath='../../data/evaluation/processed/'\n",
    "\n",
    "\n",
    "\n",
    "\n",
    "#prompt sentiment and tda sentiment are the same"
   ]
  },
  {
   "cell_type": "markdown",
   "metadata": {},
   "source": [
    "# Map trait sentiment values to skin color and gender"
   ]
  },
  {
   "cell_type": "code",
   "execution_count": null,
   "metadata": {},
   "outputs": [],
   "source": [
    "tda_res = pd.read_csv(respath+'TDA_Results.csv' )\n",
    "\n",
    "print(f\"Total rows: {len(tda_res)}\")\n",
    "\n",
    "tda_res = tda_res[~tda_res['gender_detected_val'].isin({'no face', 'unknown'})]\n",
    "\n",
    "print(f\"Number of rows after removing faceless and unknown gender bboxes: {len(tda_res)}\")\n",
    "\n",
    "tda_res['gender_woman'] = tda_res['gender_woman'].apply(lambda x: x / 100.)\n",
    "tda_res['gender_man'] = tda_res['gender_man'].apply(lambda x: x / 100.)\n",
    "\n",
    "tda_res.head()"
   ]
  },
  {
   "cell_type": "markdown",
   "metadata": {},
   "source": [
    "## Gender imbalance"
   ]
  },
  {
   "cell_type": "code",
   "execution_count": null,
   "metadata": {},
   "outputs": [],
   "source": [
    "from scipy.stats import binomtest\n",
    "\n",
    "gender_sig = binomtest(len(tda_res[tda_res['gender_detected_val'] == 'woman']), n=len(tda_res), p=0.5)\n",
    "print(f\"p-value of hypothesis that both men and women are represented equally: {gender_sig}\")"
   ]
  },
  {
   "cell_type": "code",
   "execution_count": null,
   "metadata": {},
   "outputs": [],
   "source": [
    "tda_res.hist(column='tda_compound', by='gender_detected_val')"
   ]
  },
  {
   "cell_type": "code",
   "execution_count": null,
   "outputs": [],
   "source": [
    "# Visual test of RGB skin color intensity sorting\n",
    "\n",
    "from saac.eval_utils import rgb_sorter\n",
    "\n",
    "ax1 = plt.subplots(1, 1)\n",
    "\n",
    "sorted_rgb = rgb_sorter(tda_res['skincolor'].apply(eval))\n",
    "x_vals = np.linspace(0, len(sorted_rgb))\n",
    "\n",
    "for x, c in enumerate(sorted_rgb):\n",
    "    plt.plot(x*np.ones(2), [0, 1], color=np.array(c)/255)\n",
    "\n",
    "# fig2 = plt.figure(figsize=(1, 14))\n",
    "fig2, ax2 = plt.subplots(3, 1)\n",
    "\n",
    "sorted_rgb_neg = rgb_sorter(tda_res[tda_res['tda_compound'] < 0]['skincolor'].apply(eval))\n",
    "sorted_rgb_neu = rgb_sorter(tda_res[tda_res['tda_compound'] == 0]['skincolor'].apply(eval))\n",
    "sorted_rgb_pos = rgb_sorter(tda_res[tda_res['tda_compound'] > 0]['skincolor'].apply(eval))\n",
    "\n",
    "x_vals_neg = np.linspace(0, len(sorted_rgb_neg))\n",
    "x_vals_neu = np.linspace(0, len(sorted_rgb_neu))\n",
    "x_vals_pos = np.linspace(0, len(sorted_rgb_pos))\n",
    "\n",
    "for x, c in enumerate(sorted_rgb_neg):\n",
    "    ax2[0].plot(x*np.ones(2), [0, 1], color=np.array(c)/255)\n",
    "for x, c in enumerate(sorted_rgb_neu):\n",
    "    ax2[1].plot(x*np.ones(2), [0, 1], color=np.array(c)/255)\n",
    "for x, c in enumerate(sorted_rgb_pos):\n",
    "    ax2[2].plot(x*np.ones(2), [0, 1], color=np.array(c)/255)"
   ],
   "metadata": {
    "collapsed": false,
    "pycharm": {
     "name": "#%%\n"
    }
   }
  },
  {
   "cell_type": "markdown",
   "source": [
    "# Map salary to skin color and gender"
   ],
   "metadata": {
    "collapsed": false,
    "pycharm": {
     "name": "#%% md\n"
    }
   }
  },
  {
   "cell_type": "code",
   "execution_count": null,
   "outputs": [],
   "source": [
    "occ_res = pd.read_csv(respath +'Occupation_Results.csv')\n",
    "\n",
    "print(f\"Total rows: {len(occ_res)}\")\n",
    "\n",
    "occ_res = occ_res[~occ_res['gender_detected_val'].isin({'no face', 'unknown'})]\n",
    "\n",
    "print(f\"Number of rows after removing faceless and unknown gender bboxes: {len(occ_res)}\")\n",
    "\n",
    "occ_res['gender_woman'] = occ_res['gender_woman'].apply(lambda x: x / 100.)\n",
    "occ_res['gender_man'] = occ_res['gender_man'].apply(lambda x: x / 100.)\n",
    "\n",
    "occ_res.head()"
   ],
   "metadata": {
    "collapsed": false,
    "pycharm": {
     "name": "#%%\n"
    }
   }
  },
  {
   "cell_type": "code",
   "execution_count": null,
   "outputs": [],
   "source": [
    "# Histograms\n",
    "\n",
    "n_bins = 20\n",
    "\n",
    "occ_hist = occ_res.hist(column='a_median', bins=n_bins)"
   ],
   "metadata": {
    "collapsed": false,
    "pycharm": {
     "name": "#%%\n"
    }
   }
  },
  {
   "cell_type": "code",
   "execution_count": null,
   "outputs": [],
   "source": [
    "# Mostly just a visual test of intensity sorting per salary bin\n",
    "\n",
    "from saac.eval_utils import rgb_sorter, rgb_intensity\n",
    "\n",
    "ax1 = plt.subplots(1, 1)\n",
    "\n",
    "occ_count, occ_division = np.histogram(occ_res['a_median'], bins=n_bins)\n",
    "\n",
    "for idx in range(1, len(occ_division)):\n",
    "    if idx + 1 == len(occ_division):\n",
    "        mask = (occ_res['a_median'] >= occ_division[idx - 1]) & (occ_res['a_median'] <= occ_division[idx])\n",
    "    else:\n",
    "        mask = (occ_res['a_median'] >= occ_division[idx - 1]) & (occ_res['a_median'] < occ_division[idx])\n",
    "        \n",
    "    sorted_rgb = rgb_sorter(occ_res[mask]['skincolor'].apply(eval))\n",
    "    \n",
    "    for y, c in enumerate(sorted_rgb):\n",
    "        plt.plot(occ_division[idx - 1: idx + 1], y * np.ones(2), color=np.array(c)/255)"
   ],
   "metadata": {
    "collapsed": false,
    "pycharm": {
     "name": "#%%\n"
    }
   }
  },
  {
   "cell_type": "code",
   "execution_count": null,
   "outputs": [],
   "source": [
    "# Violin plots of skin intensity per yearly salary bin\n",
    "\n",
    "from saac.eval_utils import rgb_sorter, rgb_intensity\n",
    "\n",
    "fig, ax = plt.subplots(1, 1)\n",
    "\n",
    "occ_count, occ_division = np.histogram(occ_res['a_median'], bins=n_bins)\n",
    "\n",
    "all_rgb_intensities = []\n",
    "\n",
    "for idx in range(1, len(occ_division)):\n",
    "    if idx + 1 == len(occ_division):\n",
    "        mask = (occ_res['a_median'] >= occ_division[idx - 1]) & (occ_res['a_median'] <= occ_division[idx])\n",
    "    else:\n",
    "        mask = (occ_res['a_median'] >= occ_division[idx - 1]) & (occ_res['a_median'] < occ_division[idx])\n",
    "        \n",
    "    if sum(mask) <= 0:\n",
    "        continue\n",
    "        \n",
    "    rgb_intensities = occ_res[mask]['skincolor'].apply(eval).apply(rgb_intensity)\n",
    "    all_rgb_intensities.append(list(rgb_intensities.values))\n",
    "    \n",
    "    parts = ax.violinplot(rgb_intensities, positions=[np.mean(occ_division[idx - 1:idx + 1])],\n",
    "                          # showmedians=True,\n",
    "                          showmeans=True,\n",
    "                          showextrema=False,\n",
    "                          widths=7500.0,\n",
    "                          points=100)\n",
    "    \n",
    "    hex_str = str(hex(int(np.median(rgb_intensities))))[2:]\n",
    "    hex_color = f\"#{hex_str}{hex_str}{hex_str}\"\n",
    "    \n",
    "    for pc in parts['bodies']:\n",
    "        pc.set_facecolor(hex_color)\n",
    "        pc.set_edgecolor(hex_color)\n",
    "        pc.set_alpha(1)\n",
    "    parts['cmeans'].set_facecolor(hex_color)\n",
    "    parts['cmeans'].set_edgecolor('black')"
   ],
   "metadata": {
    "collapsed": false,
    "pycharm": {
     "name": "#%%\n"
    }
   }
  },
  {
   "cell_type": "code",
   "execution_count": null,
   "outputs": [],
   "source": [
    "rgb_intensities = list()\n",
    "\n",
    "for idx in range(1, len(occ_division)):\n",
    "    if idx + 1 == len(occ_division):\n",
    "        mask = (occ_res['a_median'] >= occ_division[idx - 1]) & (occ_res['a_median'] <= occ_division[idx])\n",
    "    else:\n",
    "        mask = (occ_res['a_median'] >= occ_division[idx - 1]) & (occ_res['a_median'] < occ_division[idx])\n",
    "        \n",
    "    rgb_intensities.append(np.mean(occ_res[mask]['skincolor'].apply(eval).apply(rgb_intensity)))\n",
    "\n",
    "ax1 = plt.subplots(1, 1)\n",
    "\n",
    "for idx, c in enumerate(rgb_intensities):\n",
    "    if c is not np.nan:\n",
    "        plt.plot(occ_division[idx: idx + 2], c * np.ones(2), color=c*np.ones(3)/255)"
   ],
   "metadata": {
    "collapsed": false,
    "pycharm": {
     "name": "#%%\n"
    }
   }
  },
  {
   "cell_type": "code",
   "execution_count": null,
   "outputs": [],
   "source": [
    "# ANOVA test\n",
    "\n",
    "from scipy.stats import f_oneway\n",
    "\n",
    "F, p = f_oneway(*all_rgb_intensities)\n",
    "print(F)\n",
    "print(p)"
   ],
   "metadata": {
    "collapsed": false,
    "pycharm": {
     "name": "#%%\n"
    }
   }
  },
  {
   "cell_type": "code",
   "execution_count": null,
   "metadata": {},
   "outputs": [],
   "source": []
  },
  {
   "cell_type": "code",
   "execution_count": null,
   "metadata": {},
   "outputs": [],
   "source": []
  }
 ],
 "metadata": {
  "kernelspec": {
   "display_name": "Python 3",
   "language": "python",
   "name": "python3"
  },
  "language_info": {
   "codemirror_mode": {
    "name": "ipython",
    "version": 3
   },
   "file_extension": ".py",
   "mimetype": "text/x-python",
   "name": "python",
   "nbconvert_exporter": "python",
   "pygments_lexer": "ipython3",
   "version": "3.8.13"
  }
 },
 "nbformat": 4,
 "nbformat_minor": 4
}