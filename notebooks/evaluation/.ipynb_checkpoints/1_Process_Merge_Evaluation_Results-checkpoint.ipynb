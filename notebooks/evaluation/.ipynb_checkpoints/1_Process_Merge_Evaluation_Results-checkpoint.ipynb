{
 "cells": [
  {
   "cell_type": "code",
   "execution_count": 1,
   "metadata": {},
   "outputs": [],
   "source": [
    "import pandas as pd\n",
    "import re\n",
    "import warnings\n",
    "warnings.filterwarnings('once')\n",
    "\n",
    "def load_image_analysis_results(readpath='../../data/evaluation/raw/'):\n",
    "    cols = [1,2,4,5,6]\n",
    "    colnames = ['image','quadrant','skincolor','gender_woman','gender_man']\n",
    "    results = pd.read_csv(readpath+'midjourney_deepface_calibrated_equalized.csv', header=0, usecols=cols, names=colnames)\n",
    "    #Midjourney appears to have a file name limitation which cuts off a number of the submitted prompts \n",
    "    #at or after the word photorealistic\n",
    "    #Parsing the image column(raw file name) allows us to extract the base prompt to merge on \n",
    "    base_prompt= []\n",
    "    for row in results['image']:\n",
    "        try:\n",
    "            base_prompt.append(row.split('_')[1:-2])\n",
    "        except:\n",
    "            base_prompt.append('none')\n",
    "    results['base_prompt'] = base_prompt\n",
    "    results['base_prompt'] = results['base_prompt'].apply(lambda x: ' '.join(x)+\" photorealistic\")\n",
    "    results['base_prompt'] = results['base_prompt'].str.strip().str.rstrip()\n",
    "    #Two prompt generations (8 images total) were corrected to singular.\n",
    "    #While these are grammatically improved, they can no longer be used in the evaluation\n",
    "    strings = ['a architecture teacher postsecondary',\n",
    "               'a environmental science teacher postsecondary']\n",
    "    pat = '|'.join(strings)\n",
    "    results = results[~results['base_prompt'].str.contains(pat)]\n",
    "    #Mapping gender detection values to single column\n",
    "    noface= (results['skincolor'].isnull()).values \n",
    "    unknown=  ((results['gender_woman']<=50.000000) & (results['gender_man']<=50.000000)).values\n",
    "    woman= ((results['gender_woman']>50.000000) & (results['gender_man']<=50.000000)).values\n",
    "    man= ((results['gender_man']>50.000000) & (results['gender_woman']<=50.000000)).values\n",
    "    results['gender_detected'] = 0\n",
    "    results['gender_detected'][noface]='no_face'\n",
    "    results['gender_detected'][unknown]='unknown'\n",
    "    results['gender_detected'][woman]='woman'\n",
    "    results['gender_detected'][man]='man'\n",
    "    return(results)\n",
    "\n",
    "def load_prompts(readpath='../../data/text_generation/processed/'):\n",
    "    cols = [0,1,5]\n",
    "    colnames = ['full_prompt','tag','prompt_compound']\n",
    "    prompts = pd.read_csv(readpath+'generated_mj_prompts.csv',header=0, usecols=cols, names=colnames)\n",
    "    base_prompt =[]\n",
    "    for line in prompts['full_prompt']:\n",
    "        line = line.replace('/imagine prompt:','')\n",
    "        line = line.replace(', photorealistic --s 625',' photorealistic')\n",
    "        line = line.replace(',',' ')\n",
    "        line = re.sub(' +',' ',line).strip().rstrip()\n",
    "        base_prompt.append(line)\n",
    "    prompts['base_prompt'] = base_prompt  \n",
    "    return prompts\n",
    "\n",
    "def load_tda_data(readpath='../../data/text_generation/interim/'):\n",
    "    cols = [0,4,5]\n",
    "    colnames = ['tda','tda_compound','tda_sentiment_cat']\n",
    "    tda_data = pd.read_csv(readpath+'TDA_Bank.csv',header=0, usecols=cols, names=colnames)\n",
    "    return tda_data\n",
    "\n",
    "def load_occupation_data(readpath='../../data/text_generation/interim/'):\n",
    "    cols=[ 'occ_code','norm_title','a_median','wage_cat']\n",
    "    occupation_data = pd.read_csv(readpath+'AnnualOccupations_TitleBank.csv',usecols=cols)\n",
    "    return occupation_data"
   ]
  },
  {
   "cell_type": "code",
   "execution_count": 2,
   "metadata": {},
   "outputs": [],
   "source": [
    "def get_occupation_results():\n",
    "    results = load_image_analysis_results()\n",
    "    prompts = load_prompts()\n",
    "    res_prompts = results.merge(prompts, right_on=['base_prompt'], left_on=['base_prompt'])\n",
    "    occupations = load_occupation_data()\n",
    "    occ_results = res_prompts.merge(occupations,right_on=['norm_title'],left_on=['tag'],how='inner')\n",
    "    return occ_results\n",
    "\n",
    "def get_tda_results():\n",
    "    results = load_image_analysis_results()\n",
    "    prompts = load_prompts()\n",
    "    res_prompts = results.merge(prompts, right_on=['base_prompt'], left_on=['base_prompt'])\n",
    "    tda = load_tda_data()\n",
    "    tda_results = res_prompts.merge(tda,right_on=['tda'],left_on=['tag'],how='inner')\n",
    "    return tda_results"
   ]
  },
  {
   "cell_type": "code",
   "execution_count": 3,
   "metadata": {},
   "outputs": [
    {
     "name": "stderr",
     "output_type": "stream",
     "text": [
      "/wgsprod/data/home/TRSSLLC/savrozenbaum/miniconda3/envs/greatsuccess2/lib/python3.7/site-packages/ipykernel_launcher.py:34: SettingWithCopyWarning: \n",
      "A value is trying to be set on a copy of a slice from a DataFrame\n",
      "\n",
      "See the caveats in the documentation: https://pandas.pydata.org/pandas-docs/stable/user_guide/indexing.html#returning-a-view-versus-a-copy\n"
     ]
    }
   ],
   "source": [
    "savepath='../../data/evaluation/processed/'\n",
    "\n",
    "tda = get_tda_results()\n",
    "tda.to_csv(savepath+ 'TDA_Results.csv',index=False)\n",
    "\n",
    "occ = get_occupation_results()\n",
    "occ.to_csv(savepath+ 'Occupation_Results.csv',index=False)"
   ]
  }
 ],
 "metadata": {
  "kernelspec": {
   "display_name": "Python [conda env:greatsuccess2]",
   "language": "python",
   "name": "conda-env-greatsuccess2-py"
  },
  "language_info": {
   "codemirror_mode": {
    "name": "ipython",
    "version": 3
   },
   "file_extension": ".py",
   "mimetype": "text/x-python",
   "name": "python",
   "nbconvert_exporter": "python",
   "pygments_lexer": "ipython3",
   "version": "3.7.6"
  }
 },
 "nbformat": 4,
 "nbformat_minor": 4
}
