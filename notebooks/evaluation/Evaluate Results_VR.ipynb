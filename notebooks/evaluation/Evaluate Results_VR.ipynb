{
 "cells": [
  {
   "cell_type": "code",
   "execution_count": null,
   "metadata": {
    "pycharm": {
     "is_executing": true,
     "name": "#%%\n"
    }
   },
   "outputs": [],
   "source": [
    "import pandas as pd\n",
    "from saac.statistics import ks2sample_test\n",
    "import seaborn as sns; sns.set(style='darkgrid', palette ='colorblind', color_codes=True)\n",
    "\n",
    "respath='../../data/evaluation/processed/'"
   ]
  },
  {
   "cell_type": "markdown",
   "metadata": {
    "pycharm": {
     "name": "#%% md\n"
    }
   },
   "source": [
    "## Occupation Results"
   ]
  },
  {
   "cell_type": "code",
   "execution_count": null,
   "metadata": {
    "pycharm": {
     "name": "#%%\n"
    }
   },
   "outputs": [],
   "source": [
    "occ_res_all = pd.read_csv(respath +'Occupation_Results.csv').sort_values('a_median')\n",
    "print(f'Total rows: {len(occ_res_all)}')\n",
    "print('Counts of sampled wage categories for median annual wage for all possible gender detected values ')\n",
    "\n",
    "wage_order = ['very low', 'low', 'medium','high','very high'] # Presetting order of values for easier interpretation\n",
    "gender_order = ['man', 'woman', 'unknown','no face']\n",
    "pd.crosstab(occ_res_all['gender_detected_val'], occ_res_all['wage_val']).reindex(gender_order)[wage_order] "
   ]
  },
  {
   "cell_type": "code",
   "execution_count": null,
   "metadata": {
    "pycharm": {
     "name": "#%%\n"
    }
   },
   "outputs": [],
   "source": [
    "#For the case of this evaluation we will not be including images where a face could not be detected \n",
    "#or where the gender could not be determined  \n",
    "\n",
    "occ_res = occ_res_all[~occ_res_all['gender_detected_val'].isin(['unknown','no face'])]\n",
    "print(f\"Total rows after removing faceless and unknown gender detected results: {len(occ_res)}\")"
   ]
  },
  {
   "cell_type": "markdown",
   "metadata": {},
   "source": [
    "#### Two Sample Kolmogorov-Smirnov Test\n",
    "<p>Using the default two-sided parameter for alternative, the null hypothesis is that the two distributions are identical and the alternative is that they are not identical.\n",
    "<p>If the p-value is lower than our confidence level of 95%, we can reject the null hypothesis in favor of the alternative and conclude that the data were not drawn from the same distribution."
   ]
  },
  {
   "cell_type": "code",
   "execution_count": null,
   "metadata": {
    "pycharm": {
     "name": "#%%\n"
    }
   },
   "outputs": [],
   "source": [
    "o = [x for x in ks2sample_test(occ_res, group_col='gender_detected_val', value_col='a_median')]\n",
    "o"
   ]
  },
  {
   "cell_type": "code",
   "execution_count": null,
   "metadata": {
    "pycharm": {
     "name": "#%%\n"
    }
   },
   "outputs": [],
   "source": [
    "sns.displot(data=occ_res, x=\"a_median\", hue=\"gender_detected_val\", kind=\"kde\")\n",
    "sns.displot(data=occ_res, x='a_median', col='gender_detected_val',hue=\"gender_detected_val\")"
   ]
  },
  {
   "cell_type": "code",
   "execution_count": null,
   "metadata": {},
   "outputs": [],
   "source": [
    "# #Creating a new dataframe from a groupby that profiles the filtered results and extracts counts of unique and valid\n",
    "# #image files, image file quadrant and genders detected  for every base prompt.\n",
    "\n",
    "# prompt_profile = occ_res.groupby('base_prompt', as_index=False)\\\n",
    "#                                .agg(ct_valid_image_files =('image_file', 'nunique'),\\\n",
    "#                                     ct_valid_quadrants =('quadrant', 'nunique'),\\\n",
    "#                                     ct_detected_genders =('gender_detected_val', 'nunique'))\\\n",
    "#                             .sort_values(['ct_valid_image_files', 'ct_valid_quadrants','ct_detected_genders'],ascending=False)\n",
    "\n",
    "# #Extracting the prompts where all image files consistently contained quadrants with a detectable face of the same gender \n",
    "# const_prompts= prompt_profile.loc[(prompt_profile['ct_valid_image_files']== 6)\\\n",
    "#                                  & (prompt_profile['ct_valid_quadrants']== 4)\\\n",
    "#                                  & (prompt_profile['ct_detected_genders']== 1)]\n",
    "# print(f'Total number of occupation prompts that consistently generated images of the same gender: {len(const_prompts)}')\n",
    "\n",
    "# #Creating a list of the extracted consistent prompts and filtering the occ_results dataframe to \n",
    "# #gather the occupation titles,genders and a_median salaries for the associated consistent prompts\n",
    "# const_prompt_list = const_prompts['base_prompt'].tolist()\n",
    "# occ_const_prompt_res = occ_res[occ_res['base_prompt'].isin(const_prompt_list)]\\\n",
    "#                                                     .drop_duplicates(subset=['base_prompt'])"
   ]
  },
  {
   "cell_type": "code",
   "execution_count": null,
   "metadata": {},
   "outputs": [],
   "source": [
    "from scipy.stats import ranksums\n",
    "\n",
    "mask_male = occ_res['gender_detected_cat'] == 4\n",
    "mask_female = occ_res['gender_detected_cat'] == 3\n",
    "male_salary = occ_res[mask_male]['a_median'].median()\n",
    "female_salary = occ_res[mask_female]['a_median'].median()\n",
    "\n",
    "print(f\"Median salary for male faces: {male_salary:0.2f}\")\n",
    "print(f\"Median salary for female faces: {female_salary:0.2f}\")\n",
    "\n",
    "wcox_results = ranksums(occ_res[mask_male]['a_median'], occ_res[mask_female]['a_median'])"
   ]
  },
  {
   "cell_type": "code",
   "execution_count": null,
   "metadata": {},
   "outputs": [],
   "source": [
    "print(wcox_results.statistic)\n",
    "print(wcox_results.pvalue)"
   ]
  },
  {
   "cell_type": "code",
   "execution_count": null,
   "metadata": {
    "pycharm": {
     "name": "#%%\n"
    }
   },
   "outputs": [],
   "source": [
    "# g = sns.catplot(\n",
    "#     data=occ_const_prompt_res,\n",
    "#     y='a_median', \n",
    "#     x='norm_title', \n",
    "#     hue='gender_detected_val',\n",
    "#     kind='point', orient='v',\n",
    "#     sharex=False,sharey=False, margin_titles=True,\n",
    "#     height=5, aspect=1.5,\n",
    "# )\n",
    "# g.set(xlabel='norm_title', ylabel='a_median')\n",
    "# g.set_xticklabels(rotation= 65, ha='right',fontsize=10)\n",
    "# g.tight_layout()"
   ]
  },
  {
   "cell_type": "code",
   "execution_count": null,
   "metadata": {},
   "outputs": [],
   "source": []
  },
  {
   "cell_type": "markdown",
   "metadata": {
    "pycharm": {
     "name": "#%%\n"
    }
   },
   "source": [
    "## Trait Descriptive Adjective (TDA) Results"
   ]
  },
  {
   "cell_type": "code",
   "execution_count": null,
   "metadata": {
    "pycharm": {
     "name": "#%%\n"
    }
   },
   "outputs": [],
   "source": [
    "tda_res_all = pd.read_csv(respath+'TDA_Results.csv' )\n",
    "print(f'Total rows: {len(tda_res_all)}')\n",
    "\n",
    "sentcheck = tda_res_all[tda_res_all['tda_compound']==tda_res_all['prompt_compound']]\n",
    "print(f'Total rows where tda sentiment is equal to prompt sentiment : {len(sentcheck)}')\n",
    "\n",
    "print('Counts of sampled sentiment categories for all possible gender detected values ')\n",
    "sentiment_order = ['very negative', 'negative', 'neutral','positive','very positive'] \n",
    "gender_order = ['man', 'woman', 'unknown','no face']\n",
    "pd.crosstab(tda_res_all['gender_detected_val'], tda_res_all['tda_sentiment_val']).reindex(gender_order)[sentiment_order] "
   ]
  },
  {
   "cell_type": "code",
   "execution_count": null,
   "metadata": {
    "pycharm": {
     "name": "#%%\n"
    }
   },
   "outputs": [],
   "source": [
    "tda_res = tda_res_all[~tda_res_all['gender_detected_val'].isin(['unknown','no face'])]\n",
    "print(f\"Total rows after removing faceless and unknown gender detected results: {len(tda_res)}\")"
   ]
  },
  {
   "cell_type": "markdown",
   "metadata": {},
   "source": [
    "#### Two Sample Kolmogorov-Smirnov Test\n",
    "<p>Using the default two-sided parameter for alternative, the null hypothesis is that the two distributions are identical and the alternative is that they are not identical.\n",
    "<p>If the p-value is lower than our confidence level of 95%, we can reject the null hypothesis in favor of the alternative and conclude that the data were not drawn from the same distribution."
   ]
  },
  {
   "cell_type": "code",
   "execution_count": null,
   "metadata": {
    "pycharm": {
     "name": "#%%\n"
    }
   },
   "outputs": [],
   "source": [
    "t = [x for x in ks2sample_test(tda_res, group_col='gender_detected_val', value_col='tda_compound')]\n",
    "t"
   ]
  },
  {
   "cell_type": "code",
   "execution_count": null,
   "metadata": {
    "pycharm": {
     "name": "#%%\n"
    }
   },
   "outputs": [],
   "source": [
    "sns.displot(data=tda_res, x=\"tda_compound\", hue=\"gender_detected_val\", kind=\"kde\")\n",
    "sns.displot(data=tda_res, x='tda_compound', col='gender_detected_val',hue=\"gender_detected_val\")"
   ]
  }
 ],
 "metadata": {
  "kernelspec": {
   "display_name": "Python 3",
   "language": "python",
   "name": "python3"
  },
  "language_info": {
   "codemirror_mode": {
    "name": "ipython",
    "version": 3
   },
   "file_extension": ".py",
   "mimetype": "text/x-python",
   "name": "python",
   "nbconvert_exporter": "python",
   "pygments_lexer": "ipython3",
   "version": "3.8.13"
  }
 },
 "nbformat": 4,
 "nbformat_minor": 4
}
