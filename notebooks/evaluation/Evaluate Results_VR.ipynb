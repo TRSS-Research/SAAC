{
 "cells": [
  {
   "cell_type": "code",
   "execution_count": 1,
   "metadata": {
    "pycharm": {
     "name": "#%%\n"
    }
   },
   "outputs": [],
   "source": [
    "import pandas as pd\n",
    "from saac.statistics import ks2sample_test\n",
    "import seaborn as sns; sns.set(style='darkgrid', palette ='colorblind', color_codes=True)\n",
    "\n",
    "respath='../../data/evaluation/processed/'"
   ]
  },
  {
   "cell_type": "markdown",
   "source": [
    "### Occupational Data Results"
   ],
   "metadata": {
    "collapsed": false,
    "pycharm": {
     "name": "#%% md\n"
    }
   }
  },
  {
   "cell_type": "code",
   "execution_count": null,
   "outputs": [],
   "source": [
    "occ_res_all = pd.read_csv(respath +'Occupation_Results.csv').sort_values('a_median')\n",
    "print(f'Total rows: {len(occ_res_all)}')\n",
    "print('Counts of sampled wage categories for median annual wage for all possible gender detected values ')\n",
    "\n",
    "wage_order = ['very low', 'low', 'medium','high','very high'] # Presetting order of values for easier interpretation\n",
    "gender_order = ['man', 'woman', 'unknown','no face']\n",
    "pd.crosstab(occ_res_all['gender_detected_val'], occ_res_all['wage_val']).reindex(gender_order)[wage_order] "
   ],
   "metadata": {
    "collapsed": false,
    "pycharm": {
     "name": "#%%\n"
    }
   }
  },
  {
   "cell_type": "code",
   "execution_count": null,
   "outputs": [],
   "source": [
    "occ_res = occ_res_all[~occ_res_all['gender_detected_val'].isin(['unknown','no face'])]\n",
    "print(f\"Total rows after removing faceless and unknown gender detected results: {len(occ_res)}\")\n",
    "occ_res.head(3)"
   ],
   "metadata": {
    "collapsed": false,
    "pycharm": {
     "name": "#%%\n"
    }
   }
  },
  {
   "cell_type": "code",
   "execution_count": null,
   "outputs": [],
   "source": [
    "o = [x for x in ks2sample_test(occ_res, id_key='gender_detected_val', value_key='a_median')]\n",
    "print(o)\n",
    "#We can conclude that the a_median data for men and women were not drawn from the same distribution"
   ],
   "metadata": {
    "collapsed": false,
    "pycharm": {
     "name": "#%%\n"
    }
   }
  },
  {
   "cell_type": "code",
   "execution_count": null,
   "outputs": [],
   "source": [
    "sns.histplot(occ_res, x='a_median', hue='gender_detected_val', element='poly',stat='density')\n",
    "# sns.displot(occ_res, x=\"a_median\", hue=\"gender_detected_val\", multiple=\"dodge\")\n",
    "sns.displot(data=occ_res, x='a_median', col='gender_detected_val',hue=\"gender_detected_val\")\n",
    "g = sns.JointGrid(data=occ_res, x='a_median', y='a_mean', hue='gender_detected_val')\n",
    "g.plot(sns.scatterplot, sns.histplot)"
   ],
   "metadata": {
    "collapsed": false,
    "pycharm": {
     "name": "#%%\n"
    }
   }
  },
  {
   "cell_type": "code",
   "execution_count": null,
   "outputs": [],
   "source": [],
   "metadata": {
    "collapsed": false,
    "pycharm": {
     "name": "#%%\n"
    }
   }
  },
  {
   "cell_type": "code",
   "execution_count": null,
   "outputs": [],
   "source": [
    "### Trait Descriptive Adjective (TDA) Results"
   ],
   "metadata": {
    "collapsed": false,
    "pycharm": {
     "name": "#%%\n"
    }
   }
  },
  {
   "cell_type": "code",
   "execution_count": null,
   "outputs": [],
   "source": [
    "tda_res_all = pd.read_csv(respath+'TDA_Results.csv' )\n",
    "print(f'Total rows: {len(tda_res_all)}')\n",
    "\n",
    "sentcheck = tda_res_all[tda_res_all['tda_compound']==tda_res_all['prompt_compound']]\n",
    "print(f'Total rows where tda sentiment is equal to prompt sentiment : {len(sentcheck)}')\n",
    "\n",
    "print('Counts of sampled sentiment categories for all possible gender detected values ')\n",
    "sentiment_order = ['very negative', 'negative', 'neutral','positive','very positive'] \n",
    "gender_order = ['man', 'woman', 'unknown','no face']\n",
    "pd.crosstab(tda_res_all['gender_detected_val'], tda_res_all['tda_sentiment_val']).reindex(gender_order)[sentiment_order] "
   ],
   "metadata": {
    "collapsed": false,
    "pycharm": {
     "name": "#%%\n"
    }
   }
  },
  {
   "cell_type": "code",
   "execution_count": null,
   "outputs": [],
   "source": [
    "tda_res = tda_res_all[~tda_res_all['gender_detected_val'].isin(['unknown','no face'])]\n",
    "print(f\"Total rows after removing faceless and unknown gender detected results: {len(tda_res)}\")\n",
    "tda_res.head(3)"
   ],
   "metadata": {
    "collapsed": false,
    "pycharm": {
     "name": "#%%\n"
    }
   }
  },
  {
   "cell_type": "code",
   "execution_count": null,
   "outputs": [],
   "source": [
    "t = [x for x in ks2sample_test(tda_res, id_key='gender_detected_val', value_key='tda_compound')]\n",
    "t\n",
    "# The samples of sentiment scores for men and women are not drawn from the same distribution."
   ],
   "metadata": {
    "collapsed": false,
    "pycharm": {
     "name": "#%%\n"
    }
   }
  },
  {
   "cell_type": "code",
   "execution_count": null,
   "outputs": [],
   "source": [
    "sns.histplot(tda_res, x='prompt_compound', hue='gender_detected_val', element='poly',stat='density')\n",
    "sns.displot(data=tda_res, x=\"tda_compound\", hue=\"gender_detected_val\", kind=\"kde\")\n",
    "sns.displot(data=tda_res, x='tda_compound', col='gender_detected_val',hue=\"gender_detected_val\")\n"
   ],
   "metadata": {
    "collapsed": false,
    "pycharm": {
     "name": "#%%\n"
    }
   }
  }
 ],
 "metadata": {
  "kernelspec": {
   "display_name": "Python 3 (ipykernel)",
   "language": "python",
   "name": "python3"
  },
  "language_info": {
   "codemirror_mode": {
    "name": "ipython",
    "version": 3
   },
   "file_extension": ".py",
   "mimetype": "text/x-python",
   "name": "python",
   "nbconvert_exporter": "python",
   "pygments_lexer": "ipython3",
   "version": "3.8.13"
  }
 },
 "nbformat": 4,
 "nbformat_minor": 4
}