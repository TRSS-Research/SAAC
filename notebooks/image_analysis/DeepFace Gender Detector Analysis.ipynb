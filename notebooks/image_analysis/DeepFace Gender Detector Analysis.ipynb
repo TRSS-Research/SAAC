{
 "cells": [
  {
   "cell_type": "markdown",
   "id": "dcc20014-3316-4d2b-a5d3-e6c42ddc2c52",
   "metadata": {
    "pycharm": {
     "name": "#%% md\n"
    }
   },
   "source": [
    "# Analysis of DeepFace Gender Detector"
   ]
  },
  {
   "cell_type": "code",
   "execution_count": null,
   "id": "f4d9c600-3f49-44a0-a789-878d98d70bb1",
   "metadata": {
    "pycharm": {
     "name": "#%%\n"
    }
   },
   "outputs": [],
   "source": [
    "import itertools\n",
    "import json\n",
    "from pathlib import Path\n",
    "from pprint import pprint\n",
    "import shutil\n",
    "\n",
    "\n",
    "import cv2 as cv\n",
    "import joblib\n",
    "import numpy as np\n",
    "import pandas as pd\n",
    "from sklearn import base, calibration, metrics, model_selection\n",
    "from tqdm import tqdm\n",
    "\n",
    "from deepface import DeepFace\n",
    "from deepface.commons import functions\n",
    "from deepface.extendedmodels import Gender\n",
    "\n",
    "import matplotlib\n",
    "from matplotlib import pyplot as plt"
   ]
  },
  {
   "cell_type": "code",
   "execution_count": null,
   "id": "0bf1cf9d-4992-4a9d-8eba-b15363b830e3",
   "metadata": {
    "pycharm": {
     "name": "#%%\n"
    }
   },
   "outputs": [],
   "source": [
    "from saac.utils import cv_imshow, color_show, quadrant_bboxes, crop_bbox\n",
    "from saac.models import IdentityClassifier, CalibratedGenderModel\n",
    "from saac.process import MidJourneyProcessor"
   ]
  },
  {
   "cell_type": "markdown",
   "id": "5aae0b36-d7f2-4a19-b50d-1a4af4459935",
   "metadata": {
    "pycharm": {
     "name": "#%% md\n"
    }
   },
   "source": [
    "## Labeled Midjourney dataset"
   ]
  },
  {
   "cell_type": "code",
   "execution_count": null,
   "id": "7409a9b2-161b-48b6-b294-5fb1cd6deb5a",
   "metadata": {
    "pycharm": {
     "name": "#%%\n"
    }
   },
   "outputs": [],
   "source": [
    "midjourney_root = Path('../../data/images/test/raw')\n",
    "\n",
    "labels = sorted(list(map(lambda p: p.stem, midjourney_root.glob('*'))))\n",
    "print(f'Labels: {labels}')\n",
    "\n",
    "midjourney_ds = list(itertools.chain.from_iterable([zip((midjourney_root / Path(label)).glob('*.png'), itertools.repeat(idx)) for idx, label in enumerate(labels)]))\n",
    "\n",
    "print('Midjourney Dataset:')\n",
    "for idx, label in enumerate(labels):\n",
    "    count = len(list(filter(lambda ex: ex[1] == idx, midjourney_ds)))\n",
    "    print(f'{label}: {count}')"
   ]
  },
  {
   "cell_type": "markdown",
   "id": "c2ca230a-581f-4f28-84d3-bb9014d2baea",
   "metadata": {
    "pycharm": {
     "name": "#%% md\n"
    }
   },
   "source": [
    "### Load desired gender detector"
   ]
  },
  {
   "cell_type": "code",
   "execution_count": null,
   "id": "932d27df-1f55-4fc5-a723-307d1a60f145",
   "metadata": {
    "pycharm": {
     "name": "#%%\n"
    },
    "scrolled": true,
    "tags": []
   },
   "outputs": [],
   "source": [
    "df_weight_cache = Path(functions.get_deepface_home()) / Path('.deepface/weights/gender_model_weights.h5')\n",
    "df_weight_cache.unlink(missing_ok=True)\n",
    "\n",
    "gender_model = Gender.loadModel()\n",
    "\n",
    "# df_model_version = Path('../../models/gender_model_transfer.h5')\n",
    "# shutil.copy(df_model_version, df_weight_cache)\n",
    "# gender_model = Gender.loadModel()"
   ]
  },
  {
   "cell_type": "markdown",
   "id": "cb16bb57-1824-49c1-a4f2-05dcb4006649",
   "metadata": {
    "pycharm": {
     "name": "#%% md\n"
    }
   },
   "source": [
    "### Collect predictions"
   ]
  },
  {
   "cell_type": "code",
   "execution_count": null,
   "id": "87d7b13c-ccba-4703-8b55-66e1d75b14c1",
   "metadata": {
    "pycharm": {
     "name": "#%%\n"
    },
    "scrolled": true,
    "tags": []
   },
   "outputs": [],
   "source": [
    "kwargs = {\n",
    "    'equalizer': True,\n",
    "    'detector_backend': 'mtcnn',\n",
    "    'actions': ('gender',),\n",
    "    'models': { 'gender': gender_model }\n",
    "}\n",
    "\n",
    "processor = MidJourneyProcessor()\n",
    "\n",
    "all_predictions = []\n",
    "\n",
    "for image_path, label in tqdm(midjourney_ds):\n",
    "    image = cv.imread(str(image_path))\n",
    "    assert(image.shape == (256, 256, 3))\n",
    "    predictions =  processor.image_predictions(image, **kwargs)\n",
    "    if predictions is None:\n",
    "        predictions = {}\n",
    "    predictions['image'] = image_path\n",
    "    predictions['label'] = label\n",
    "    all_predictions.append(predictions)"
   ]
  },
  {
   "cell_type": "code",
   "execution_count": null,
   "id": "ba21b740-08b1-4dd1-b024-a96b316a192e",
   "metadata": {
    "pycharm": {
     "name": "#%%\n"
    }
   },
   "outputs": [],
   "source": [
    "predictions_path = Path('./analysis_deepface_default_equalized.csv')\n",
    "\n",
    "if not predictions_path.exists():\n",
    "    df = pd.json_normalize(all_predictions)\n",
    "    df = df.reindex(columns=['image', 'label', 'bbox', 'gender.Woman', 'gender.Man'])\n",
    "    df.to_csv(str(predictions_path), index=False)"
   ]
  },
  {
   "cell_type": "markdown",
   "id": "de9cd48d-e561-44db-9308-bc3743e676a4",
   "metadata": {
    "pycharm": {
     "name": "#%% md\n"
    }
   },
   "source": [
    "### Analyze face detections"
   ]
  },
  {
   "cell_type": "code",
   "execution_count": null,
   "id": "a9dee494-d45f-4d15-975b-b18873685c09",
   "metadata": {
    "pycharm": {
     "name": "#%%\n"
    }
   },
   "outputs": [],
   "source": [
    "all_predictions = json.loads(pd.read_csv(str(predictions_path)).to_json(orient='records'))\n",
    "all_labels = list(map(lambda p: p['label'], all_predictions))"
   ]
  },
  {
   "cell_type": "code",
   "execution_count": null,
   "id": "7a1cfe44-2fba-4e94-948b-a47cc4e1268d",
   "metadata": {
    "pycharm": {
     "name": "#%%\n"
    }
   },
   "outputs": [],
   "source": [
    "predictions_detect = list(map(lambda p: 1 if p['bbox'] is not None else 0, all_predictions))\n",
    "labels_detect = [1]*len(all_labels)\n",
    "\n",
    "print(metrics.classification_report(labels_detect, predictions_detect, target_names=['no detect', 'detect']))"
   ]
  },
  {
   "cell_type": "code",
   "execution_count": null,
   "id": "0b1b0625-8804-433c-8077-33c6f17151a7",
   "metadata": {
    "pycharm": {
     "name": "#%%\n"
    }
   },
   "outputs": [],
   "source": [
    "cm = metrics.confusion_matrix(labels_detect, predictions_detect)\n",
    "disp = metrics.ConfusionMatrixDisplay(confusion_matrix=cm, display_labels=['no detect', 'detect'])\n",
    "disp.plot()"
   ]
  },
  {
   "cell_type": "markdown",
   "id": "ff60f499-b9b4-41f8-8d7f-cd49ba6cde2b",
   "metadata": {
    "pycharm": {
     "name": "#%% md\n"
    }
   },
   "source": [
    "### Analyze gender detections"
   ]
  },
  {
   "cell_type": "code",
   "execution_count": null,
   "id": "cc9751a8-ec8c-4a2b-b3d9-f4be40ee5a04",
   "metadata": {
    "pycharm": {
     "name": "#%%\n"
    }
   },
   "outputs": [],
   "source": [
    "threshold = 0.5\n",
    "\n",
    "predictions_gender = list(map(lambda p: (p['gender.Man']/100, 1 if p['gender.Man']/100 >= threshold else 0) if p['bbox'] else None, all_predictions))\n",
    "                \n",
    "labels_gender = all_labels\n",
    "\n",
    "labels_gender, predictions_gender = zip(*list(filter(lambda p: p[0] is not None and p[1] is not None, zip(labels_gender, predictions_gender))))\n",
    "labels_gender = list(labels_gender)"
   ]
  },
  {
   "cell_type": "code",
   "execution_count": null,
   "id": "8de2d0bc-52c0-41ed-ba3b-3dbe5f1495d1",
   "metadata": {
    "pycharm": {
     "name": "#%%\n"
    }
   },
   "outputs": [],
   "source": [
    "print(metrics.classification_report(labels_gender, [p[1] for p in predictions_gender], target_names=['Woman', 'Man']))"
   ]
  },
  {
   "cell_type": "code",
   "execution_count": null,
   "id": "ad6507d9-d160-4a96-af30-cd8f6e92aab8",
   "metadata": {
    "pycharm": {
     "name": "#%%\n"
    }
   },
   "outputs": [],
   "source": [
    "cm = metrics.confusion_matrix(labels_gender, [p[1] for p in predictions_gender])\n",
    "disp = metrics.ConfusionMatrixDisplay(confusion_matrix=cm, display_labels=['Woman', 'Man'])\n",
    "disp.plot()"
   ]
  },
  {
   "cell_type": "code",
   "execution_count": null,
   "id": "82767df9-5cf0-4460-8cff-b899c28a92f9",
   "metadata": {
    "pycharm": {
     "name": "#%%\n"
    }
   },
   "outputs": [],
   "source": [
    "disp = metrics.RocCurveDisplay.from_predictions(labels_gender, [p[0] for p in predictions_gender])\n",
    "disp"
   ]
  },
  {
   "cell_type": "code",
   "execution_count": null,
   "id": "f1dd1b67-568d-42e0-b75a-ad03c867a0b3",
   "metadata": {
    "pycharm": {
     "name": "#%%\n"
    }
   },
   "outputs": [],
   "source": [
    "plt.hist([p[0] for p in predictions_gender], bins=20)\n",
    "plt.title('Gender Probabilities')"
   ]
  },
  {
   "cell_type": "markdown",
   "id": "ea9f4430-7288-41a4-94b0-1ab0d05d545d",
   "metadata": {
    "pycharm": {
     "name": "#%% md\n"
    }
   },
   "source": [
    "## Gender detector calibration"
   ]
  },
  {
   "cell_type": "code",
   "execution_count": null,
   "id": "7abc30ef-db1a-4400-9d0b-6e66d4463312",
   "metadata": {
    "pycharm": {
     "name": "#%%\n"
    }
   },
   "outputs": [],
   "source": [
    "disp = calibration.CalibrationDisplay.from_predictions(labels_gender, [p[0] for p in predictions_gender], n_bins=5)\n",
    "disp"
   ]
  },
  {
   "cell_type": "code",
   "execution_count": null,
   "id": "8f11291a-cd24-4c78-a77d-2e52ebc52eeb",
   "metadata": {
    "pycharm": {
     "name": "#%%\n"
    }
   },
   "outputs": [],
   "source": [
    "predictions_gender_train, predictions_gender_test, labels_gender_train, labels_gender_test = model_selection.train_test_split(\n",
    "    predictions_gender, labels_gender,\n",
    "    test_size=0.33,\n",
    "    stratify=labels_gender,\n",
    "    random_state=42)"
   ]
  },
  {
   "cell_type": "markdown",
   "id": "8c6e5ed5-aad3-4233-b701-0b82b3f2db78",
   "metadata": {
    "pycharm": {
     "name": "#%% md\n"
    }
   },
   "source": [
    "### Fit calibrated classifier"
   ]
  },
  {
   "cell_type": "code",
   "execution_count": null,
   "id": "9a7c2492-12a7-4c06-9d7e-07bd0df3d131",
   "metadata": {
    "pycharm": {
     "name": "#%%\n"
    }
   },
   "outputs": [],
   "source": [
    "base_clf = IdentityClassifier(threshold=0.5)\n",
    "pprint(base_clf.predict_proba(np.array([p[0] for p in predictions_gender_train]))[:10])\n",
    "pprint(np.array([p[0] for p in predictions_gender_train])[:10])"
   ]
  },
  {
   "cell_type": "code",
   "execution_count": null,
   "id": "8e8307c6-36c4-4b78-9546-219667213097",
   "metadata": {
    "pycharm": {
     "name": "#%%\n"
    }
   },
   "outputs": [],
   "source": [
    "calibrated_clf = calibration.CalibratedClassifierCV(base_estimator=base_clf, method='isotonic', cv='prefit')\n",
    "calibrated_clf.fit(np.array([p[0] for p in predictions_gender_train]), np.array(labels_gender_train))"
   ]
  },
  {
   "cell_type": "markdown",
   "id": "d2cf56bf-cad7-48ad-ab4d-69c40156de37",
   "metadata": {
    "pycharm": {
     "name": "#%% md\n"
    }
   },
   "source": [
    "### Evaluate calibrated classifier"
   ]
  },
  {
   "cell_type": "code",
   "execution_count": null,
   "id": "8a3772a0-9477-4964-9254-640618f1ab1d",
   "metadata": {
    "pycharm": {
     "name": "#%%\n"
    }
   },
   "outputs": [],
   "source": [
    "print(metrics.classification_report(labels_gender_test,\n",
    "                                    calibrated_clf.predict(np.array([p[0] for p in predictions_gender_test])),\n",
    "                                    target_names=['Woman', 'Man']))"
   ]
  },
  {
   "cell_type": "code",
   "execution_count": null,
   "id": "7e7c1d58-e296-4459-9be5-840024fd3270",
   "metadata": {
    "pycharm": {
     "name": "#%%\n"
    }
   },
   "outputs": [],
   "source": [
    "cm = metrics.confusion_matrix(labels_gender_test, calibrated_clf.predict(np.array([p[0] for p in predictions_gender_test])))\n",
    "disp = metrics.ConfusionMatrixDisplay(confusion_matrix=cm, display_labels=['Woman', 'Man'])\n",
    "disp.plot()"
   ]
  },
  {
   "cell_type": "code",
   "execution_count": null,
   "id": "3d20e060-dd34-4207-9e5c-c7d8f024e888",
   "metadata": {
    "pycharm": {
     "name": "#%%\n"
    }
   },
   "outputs": [],
   "source": [
    "disp = metrics.RocCurveDisplay.from_predictions(labels_gender_test, calibrated_clf.predict_proba(np.array([p[0] for p in predictions_gender_test]))[:, 1])\n",
    "disp"
   ]
  },
  {
   "cell_type": "code",
   "execution_count": null,
   "id": "5ac86573-a3af-4fce-a6d5-3a5e4837604d",
   "metadata": {
    "pycharm": {
     "name": "#%%\n"
    }
   },
   "outputs": [],
   "source": [
    "disp = calibration.CalibrationDisplay.from_predictions(labels_gender_test, calibrated_clf.predict_proba(np.array([p[0] for p in predictions_gender_test]))[:, 1], n_bins=5)\n",
    "disp"
   ]
  },
  {
   "cell_type": "markdown",
   "id": "757ad0e8-080f-45a7-89fd-54bf4f9d75ed",
   "metadata": {
    "pycharm": {
     "name": "#%% md\n"
    }
   },
   "source": [
    "### Save model"
   ]
  },
  {
   "cell_type": "code",
   "execution_count": null,
   "id": "5c00ec9f-7ec9-4b66-8b17-fb458deae7bb",
   "metadata": {
    "pycharm": {
     "name": "#%%\n"
    }
   },
   "outputs": [],
   "source": [
    "calibrated_model_path = Path('../../models/gender_model_default_calibrated.joblib')\n",
    "\n",
    "joblib.dump(calibrated_clf, calibrated_model_path)"
   ]
  },
  {
   "cell_type": "code",
   "execution_count": null,
   "id": "748771fc-07c6-48e6-9040-02aa651c2165",
   "metadata": {
    "pycharm": {
     "name": "#%%\n"
    }
   },
   "outputs": [],
   "source": [
    "calibrated_clf = joblib.load(calibrated_model_path)"
   ]
  },
  {
   "cell_type": "markdown",
   "id": "478f8d27-569d-4139-b18f-896cde834a39",
   "metadata": {
    "pycharm": {
     "name": "#%% md\n"
    }
   },
   "source": [
    "### Run calibrated model on test data"
   ]
  },
  {
   "cell_type": "code",
   "execution_count": null,
   "id": "4449dd05-7cae-4744-b4a4-d27d624c13af",
   "metadata": {
    "pycharm": {
     "name": "#%%\n"
    }
   },
   "outputs": [],
   "source": [
    "df_default_models = {\n",
    "    'age': DeepFace.build_model('Age'),\n",
    "    'gender': DeepFace.build_model('Gender'),\n",
    "    'emotion': DeepFace.build_model('Emotion'),\n",
    "    'race': DeepFace.build_model('Race')\n",
    "}\n",
    "\n",
    "calibrated_gender_model = CalibratedGenderModel(\n",
    "    gender_model=df_default_models['gender'],\n",
    "    calibrator=calibrated_clf\n",
    ")"
   ]
  },
  {
   "cell_type": "code",
   "execution_count": null,
   "id": "6a73a1a9-a448-4186-a25b-bc0d4edb1cc4",
   "metadata": {
    "pycharm": {
     "name": "#%%\n"
    },
    "scrolled": true,
    "tags": []
   },
   "outputs": [],
   "source": [
    "kwargs = {\n",
    "    'equalizer': True,\n",
    "    'detector_backend': 'mtcnn',\n",
    "    'actions': ('gender',),\n",
    "    'models': { 'gender': calibrated_gender_model }\n",
    "}\n",
    "\n",
    "all_predictions = []\n",
    "\n",
    "for image_path, label in tqdm(midjourney_ds):\n",
    "    image = cv.imread(str(image_path))\n",
    "    assert(image.shape == (256, 256, 3))\n",
    "    predictions =  processor.image_predictions(image, **kwargs)\n",
    "    if predictions is None:\n",
    "        predictions = {}\n",
    "    predictions['image'] = image_path\n",
    "    predictions['label'] = label\n",
    "    all_predictions.append(predictions)"
   ]
  },
  {
   "cell_type": "code",
   "execution_count": null,
   "id": "d16a9e5d-baf5-4b79-8d33-3284915b4958",
   "metadata": {
    "pycharm": {
     "name": "#%%\n"
    }
   },
   "outputs": [],
   "source": [
    "predictions_path = Path('./analysis_deepface_calibrated_equalized.csv')\n",
    "\n",
    "if not predictions_path.exists():\n",
    "    df = pd.json_normalize(all_predictions)\n",
    "    df = df.reindex(columns=['image', 'label', 'bbox', 'gender.Woman', 'gender.Man'])\n",
    "    df.to_csv(str(predictions_path), index=False)"
   ]
  },
  {
   "cell_type": "code",
   "execution_count": null,
   "id": "05db5e2d-6391-4fba-b774-87f308691d96",
   "metadata": {
    "pycharm": {
     "name": "#%%\n"
    }
   },
   "outputs": [],
   "source": [
    "all_predictions = json.loads(pd.read_csv(str(predictions_path)).to_json(orient='records'))\n",
    "all_labels = list(map(lambda p: p['label'], all_predictions))"
   ]
  },
  {
   "cell_type": "markdown",
   "id": "d0fc6e05-40b5-4351-80ec-32f4b7576ea9",
   "metadata": {
    "pycharm": {
     "name": "#%% md\n"
    }
   },
   "source": [
    "### Evaluate calibrated model"
   ]
  },
  {
   "cell_type": "code",
   "execution_count": null,
   "id": "e26a86d5-d04c-4971-bc87-d51f2160d7c6",
   "metadata": {
    "pycharm": {
     "name": "#%%\n"
    }
   },
   "outputs": [],
   "source": [
    "threshold = 0.5\n",
    "\n",
    "predictions_gender = list(map(lambda p: (p['gender.Man']/100, 1 if p['gender.Man']/100 >= threshold else 0) if p['bbox'] else None, all_predictions))\n",
    "                \n",
    "labels_gender = all_labels\n",
    "\n",
    "labels_gender, predictions_gender = zip(*list(filter(lambda p: p[0] is not None and p[1] is not None, zip(labels_gender, predictions_gender))))\n",
    "labels_gender = list(labels_gender)"
   ]
  },
  {
   "cell_type": "code",
   "execution_count": null,
   "id": "536c9f1e-1ce1-4abf-b1bc-1b77d4c4358d",
   "metadata": {
    "pycharm": {
     "name": "#%%\n"
    }
   },
   "outputs": [],
   "source": [
    "print(metrics.classification_report(labels_gender, [p[1] for p in predictions_gender], target_names=['Woman', 'Man']))"
   ]
  },
  {
   "cell_type": "code",
   "execution_count": null,
   "id": "a95efcc9-0636-4f7f-bca9-85d71fd7ad9e",
   "metadata": {
    "pycharm": {
     "name": "#%%\n"
    }
   },
   "outputs": [],
   "source": [
    "cm = metrics.confusion_matrix(labels_gender, [p[1] for p in predictions_gender])\n",
    "disp = metrics.ConfusionMatrixDisplay(confusion_matrix=cm, display_labels=['Woman', 'Man'])\n",
    "disp.plot()"
   ]
  },
  {
   "cell_type": "code",
   "execution_count": null,
   "id": "e609f60e-a750-4b66-87d4-4f6f3ced9e11",
   "metadata": {
    "pycharm": {
     "name": "#%%\n"
    }
   },
   "outputs": [],
   "source": [
    "disp = metrics.RocCurveDisplay.from_predictions(labels_gender, [p[0] for p in predictions_gender])\n",
    "disp"
   ]
  },
  {
   "cell_type": "code",
   "execution_count": null,
   "id": "b37d2678-198a-4866-93ef-75825224bf75",
   "metadata": {
    "pycharm": {
     "name": "#%%\n"
    }
   },
   "outputs": [],
   "source": []
  }
 ],
 "metadata": {
  "kernelspec": {
   "display_name": "Python 3 (ipykernel)",
   "language": "python",
   "name": "python3"
  },
  "language_info": {
   "codemirror_mode": {
    "name": "ipython",
    "version": 3
   },
   "file_extension": ".py",
   "mimetype": "text/x-python",
   "name": "python",
   "nbconvert_exporter": "python",
   "pygments_lexer": "ipython3",
   "version": "3.8.13"
  }
 },
 "nbformat": 4,
 "nbformat_minor": 5
}
