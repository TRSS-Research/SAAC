{
 "cells": [
  {
   "cell_type": "code",
   "execution_count": null,
   "metadata": {},
   "outputs": [],
   "source": [
    "import os\n",
    "from pathlib import Path\n",
    "\n",
    "import numpy as np\n",
    "from PIL import Image\n",
    "from PIL import Image, ImageDraw, ImageFont\n",
    "from tqdm import tqdm\n",
    "\n",
    "import torch\n",
    "from facenet_pytorch import MTCNN\n",
    "\n",
    "from matplotlib import pyplot as plt"
   ]
  },
  {
   "cell_type": "code",
   "execution_count": null,
   "metadata": {},
   "outputs": [],
   "source": [
    "midjourney_root = Path('../data/raw/midjourney')\n",
    "midjourney_pngs = list(midjourney_root.glob('*.png'))\n",
    "midjourney_pngs[:5]"
   ]
  },
  {
   "cell_type": "code",
   "execution_count": null,
   "metadata": {},
   "outputs": [],
   "source": [
    "device = torch.device('cuda:0' if torch.cuda.is_available() else 'cpu')\n",
    "print('Running on device: {}'.format(device))"
   ]
  },
  {
   "cell_type": "code",
   "execution_count": null,
   "metadata": {},
   "outputs": [],
   "source": [
    "mtcnn = MTCNN(\n",
    "    image_size=160, margin=0, min_face_size=20,\n",
    "    thresholds=[0.6, 0.7, 0.7], factor=0.709, post_process=True,\n",
    "    device=device\n",
    ")"
   ]
  },
  {
   "cell_type": "code",
   "execution_count": null,
   "metadata": {},
   "outputs": [],
   "source": [
    "results = []\n",
    "\n",
    "for png_path in tqdm(midjourney_pngs):\n",
    "    img = Image.open(png_path)\n",
    "    result = mtcnn.detect(img)\n",
    "    results.append(result)"
   ]
  },
  {
   "cell_type": "code",
   "execution_count": null,
   "metadata": {},
   "outputs": [],
   "source": [
    "results [0]"
   ]
  },
  {
   "cell_type": "code",
   "execution_count": null,
   "metadata": {},
   "outputs": [],
   "source": [
    "def draw_bboxes(image: Image, bboxes: np.array, probabilities: np.array):\n",
    "    draw = ImageDraw.Draw(image)\n",
    "    for bbox, prob in zip(bboxes, probabilities):\n",
    "        draw.rectangle(bbox, fill=None, outline=None, width=1)\n",
    "        draw.text(bbox[:2], f'{prob: .6f}', anchor='lb')"
   ]
  },
  {
   "cell_type": "code",
   "execution_count": null,
   "metadata": {},
   "outputs": [],
   "source": [
    "img = Image.open(midjourney_pngs[0])\n",
    "\n",
    "draw_bboxes(img, *results[0])\n",
    "display(img)"
   ]
  },
  {
   "cell_type": "code",
   "execution_count": null,
   "metadata": {},
   "outputs": [],
   "source": [
    "for png, result in zip(midjourney_pngs, results):\n",
    "    img = Image.open(png)\n",
    "    draw_bboxes(img, *result)\n",
    "    display(img)"
   ]
  },
  {
   "cell_type": "code",
   "execution_count": null,
   "metadata": {},
   "outputs": [],
   "source": [
    "def crop_bboxes(image: Image, bboxes: np.array):\n",
    "    chips = list(map(lambda bbox: image.crop(bbox), bboxes))\n",
    "    return chips"
   ]
  },
  {
   "cell_type": "code",
   "execution_count": null,
   "metadata": {},
   "outputs": [],
   "source": [
    "idx = 0\n",
    "img = Image.open(midjourney_pngs[idx])\n",
    "bboxes = results[idx][0]"
   ]
  },
  {
   "cell_type": "code",
   "execution_count": null,
   "metadata": {},
   "outputs": [],
   "source": [
    "chips = crop_bboxes(img, bboxes)\n",
    "for i, chip in enumerate(chips):\n",
    "    display(chip)\n",
    "    chip.save(f'chip_{i}.png')"
   ]
  },
  {
   "cell_type": "code",
   "execution_count": null,
   "metadata": {},
   "outputs": [],
   "source": [
    "def plot_histogram(image, color_model=['r', 'g', 'b']):\n",
    "    w, h = image.size\n",
    "    pixels = w*h\n",
    "    channels = image.split()\n",
    "    for color, channel in zip(color_model, channels):\n",
    "        hist = list(map(lambda bin: bin/pixels, channel.histogram()))\n",
    "        plt.plot(hist, color=color)\n",
    "    plt.xlim([0,256])\n",
    "    plt.show()"
   ]
  },
  {
   "cell_type": "code",
   "execution_count": null,
   "metadata": {},
   "outputs": [],
   "source": [
    "display(chips[0])\n",
    "plot_histogram(chips[0])"
   ]
  },
  {
   "cell_type": "code",
   "execution_count": null,
   "metadata": {},
   "outputs": [],
   "source": [
    "chip_cmyk = chips[0].convert('CMYK')\n",
    "plot_histogram(chip_cmyk, ['c', 'm', 'y'])"
   ]
  },
  {
   "cell_type": "code",
   "execution_count": null,
   "metadata": {},
   "outputs": [],
   "source": [
    "gender_model_path = '../models/Gender_model/final/model_2020-05-02-23-57_accuracy_0.9711_step_38525.pth'"
   ]
  },
  {
   "cell_type": "code",
   "execution_count": null,
   "metadata": {},
   "outputs": [],
   "source": []
  }
 ],
 "metadata": {
  "kernelspec": {
   "display_name": "Python [conda env:saac_p38]",
   "language": "python",
   "name": "conda-env-saac_p38-py"
  },
  "language_info": {
   "codemirror_mode": {
    "name": "ipython",
    "version": 3
   },
   "file_extension": ".py",
   "mimetype": "text/x-python",
   "name": "python",
   "nbconvert_exporter": "python",
   "pygments_lexer": "ipython3",
   "version": "3.8.13"
  }
 },
 "nbformat": 4,
 "nbformat_minor": 4
}
