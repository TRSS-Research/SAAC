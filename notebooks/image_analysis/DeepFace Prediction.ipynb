{
 "cells": [
  {
   "cell_type": "markdown",
   "id": "96f26d90-c631-4fe1-855f-3a1f7fb36790",
   "metadata": {},
   "source": [
    "# Face Predictions using DeepFace"
   ]
  },
  {
   "cell_type": "code",
   "execution_count": null,
   "id": "f4d9c600-3f49-44a0-a789-878d98d70bb1",
   "metadata": {},
   "outputs": [],
   "source": [
    "from pathlib import Path\n",
    "from pprint import pprint\n",
    "\n",
    "import cv2 as cv\n",
    "import joblib\n",
    "import pandas as pd\n",
    "from tqdm import tqdm\n",
    "\n",
    "from deepface import DeepFace\n",
    "\n",
    "import matplotlib\n",
    "from matplotlib import pyplot as plt"
   ]
  },
  {
   "cell_type": "code",
   "execution_count": null,
   "id": "857563cf-089b-4df8-9024-7ee871e4d5ab",
   "metadata": {},
   "outputs": [],
   "source": [
    "from saac.utils import cv_imshow, color_show, quadrant_bboxes, crop_bbox, draw_bbox\n",
    "from saac.models import IdentityClassifier, CalibratedGenderModel\n",
    "from saac.process import ImageEqualizer, SkinColorExtractor, MidJourneyProcessor"
   ]
  },
  {
   "cell_type": "code",
   "execution_count": null,
   "id": "f3677bd7-1054-4695-a6f2-9439c1185e89",
   "metadata": {},
   "outputs": [],
   "source": [
    "midjourney_raw_root = Path('../../data/images/raw')\n",
    "\n",
    "img_path = list(midjourney_raw_root.glob('*.png'))[0]\n",
    "\n",
    "img_2x2 = cv.imread(str(img_path))\n",
    "cv_imshow(img_2x2)"
   ]
  },
  {
   "cell_type": "code",
   "execution_count": null,
   "id": "b043f196-2889-4b74-a7c4-9e856be9128d",
   "metadata": {},
   "outputs": [],
   "source": [
    "for i, bbox in enumerate(quadrant_bboxes(img_2x2.shape[:2])):\n",
    "    draw_bbox(img_2x2, bbox, text=f'{i}', color=(0, 255, 255))\n",
    "\n",
    "cv_imshow(img_2x2)"
   ]
  },
  {
   "cell_type": "code",
   "execution_count": null,
   "id": "a0bda221-99bb-4088-b4f7-2d609187c4ce",
   "metadata": {},
   "outputs": [],
   "source": [
    "quadrant = 2\n",
    "img_quad = crop_bbox(img_2x2, quadrant_bboxes(img_2x2.shape[:2])[quadrant])\n",
    "cv_imshow(img_quad)"
   ]
  },
  {
   "cell_type": "code",
   "execution_count": null,
   "id": "1e8273de-b7c4-426b-b594-df52098e7977",
   "metadata": {},
   "outputs": [],
   "source": [
    "processor = MidJourneyProcessor()\n",
    "\n",
    "predictions = processor.quadrant_predictions(img_2x2)\n",
    "pprint(predictions[quadrant])"
   ]
  },
  {
   "cell_type": "code",
   "execution_count": null,
   "id": "d6eb1638-076e-40e7-abe0-ba06be26aec1",
   "metadata": {},
   "outputs": [],
   "source": [
    "img_face = crop_bbox(img_2x2, predictions[quadrant]['bbox'])\n",
    "color = predictions[quadrant]['skin color']\n",
    "\n",
    "fig, ax = plt.subplots(1, 2, figsize=(6, 3))\n",
    "cv_imshow(img_face, ax=ax[0])\n",
    "color_show(color, ax=ax[1])"
   ]
  },
  {
   "cell_type": "code",
   "execution_count": null,
   "id": "231813a3-a4dc-49f8-a1be-51b2338f3893",
   "metadata": {},
   "outputs": [],
   "source": [
    "df_default_models = {\n",
    "    'age': DeepFace.build_model('Age'),\n",
    "    'gender': DeepFace.build_model('Gender'),\n",
    "    'emotion': DeepFace.build_model('Emotion'),\n",
    "    'race': DeepFace.build_model('Race')\n",
    "}\n",
    "\n",
    "calibrated_model_path = Path('../../models/gender_model_default_calibrated.joblib')\n",
    "calibrated_clf = joblib.load(calibrated_model_path)\n",
    "\n",
    "calibrated_gender_model = CalibratedGenderModel(\n",
    "    gender_model=df_default_models['gender'],\n",
    "    calibrator=calibrated_clf\n",
    ")"
   ]
  },
  {
   "cell_type": "code",
   "execution_count": null,
   "id": "c3f94afb-fad0-4984-99ec-b30c82e23465",
   "metadata": {},
   "outputs": [],
   "source": [
    "def prompt_extract(path: str) -> str:\n",
    "    return ' '.join(path.split('_')[1:-1])"
   ]
  },
  {
   "cell_type": "code",
   "execution_count": null,
   "id": "75f26575-5262-4b68-ab9d-ad4e0ae4c538",
   "metadata": {
    "scrolled": true,
    "tags": []
   },
   "outputs": [],
   "source": [
    "# gender_model = df_default_models['gender']\n",
    "gender_model = calibrated_gender_model\n",
    "\n",
    "kwargs = {\n",
    "    'equalizer': True,\n",
    "    'actions': ('gender', 'skin'),\n",
    "    'models': { 'gender': gender_model },\n",
    "    'detector_backend': 'mtcnn'\n",
    "}\n",
    "\n",
    "all_predictions = []\n",
    "\n",
    "for quad_path in tqdm(list(midjourney_raw_root.glob('*.png'))):\n",
    "    quad_image = cv.imread(str(quad_path))\n",
    "    prompt = prompt_extract(quad_path.stem)\n",
    "    quad_predictions = [p if p else {} for p in processor.quadrant_predictions(quad_image, **kwargs)]\n",
    "    for idx, pred in enumerate(quad_predictions):\n",
    "        pred['image'] = quad_path.stem\n",
    "        pred['quadrant'] = idx\n",
    "        pred['prompt'] = prompt\n",
    "    all_predictions.extend(quad_predictions)"
   ]
  },
  {
   "cell_type": "code",
   "execution_count": null,
   "id": "9c0af08e-7f64-4d08-84f5-57aca47fb639",
   "metadata": {},
   "outputs": [],
   "source": [
    "results_df = pd.json_normalize(all_predictions)\n",
    "\n",
    "lead_cols = [\n",
    "    'prompt',\n",
    "    'image',\n",
    "    'quadrant',\n",
    "    'bbox'\n",
    "]\n",
    "\n",
    "results_df = results_df.reindex(columns=lead_cols+[col for col in results_df.columns if col not in lead_cols])\n",
    "results_df"
   ]
  },
  {
   "cell_type": "code",
   "execution_count": null,
   "id": "d4f074af-efdc-442d-96c6-b089c1f28dfd",
   "metadata": {},
   "outputs": [],
   "source": [
    "results_df.to_csv(Path('./midjourney_deepface_calibrated_equalized.csv'), index=False)"
   ]
  },
  {
   "cell_type": "code",
   "execution_count": null,
   "id": "5c96f740-a236-45b1-82c4-bfd513cbd317",
   "metadata": {},
   "outputs": [],
   "source": []
  }
 ],
 "metadata": {
  "kernelspec": {
   "display_name": "Python [conda env:saac_p38]",
   "language": "python",
   "name": "conda-env-saac_p38-py"
  },
  "language_info": {
   "codemirror_mode": {
    "name": "ipython",
    "version": 3
   },
   "file_extension": ".py",
   "mimetype": "text/x-python",
   "name": "python",
   "nbconvert_exporter": "python",
   "pygments_lexer": "ipython3",
   "version": "3.8.13"
  }
 },
 "nbformat": 4,
 "nbformat_minor": 5
}
