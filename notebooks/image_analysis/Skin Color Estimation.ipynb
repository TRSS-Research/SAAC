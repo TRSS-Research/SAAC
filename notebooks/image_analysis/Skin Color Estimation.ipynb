{
 "cells": [
  {
   "cell_type": "markdown",
   "id": "33ff4896-a0d8-40a0-8bff-8d832b85a29a",
   "metadata": {
    "pycharm": {
     "name": "#%% md\n"
    }
   },
   "source": [
    "# Skin Color Estimation"
   ]
  },
  {
   "cell_type": "code",
   "execution_count": null,
   "id": "f4d9c600-3f49-44a0-a789-878d98d70bb1",
   "metadata": {
    "pycharm": {
     "name": "#%%\n"
    }
   },
   "outputs": [],
   "source": [
    "from pathlib import Path\n",
    "from pprint import pprint\n",
    "\n",
    "import cv2 as cv\n",
    "import numpy as np\n",
    "\n",
    "import matplotlib\n",
    "from matplotlib import pyplot as plt"
   ]
  },
  {
   "cell_type": "code",
   "execution_count": null,
   "id": "39f0ebf0-5ec5-4542-9a11-0d3e107e568b",
   "metadata": {
    "pycharm": {
     "name": "#%%\n"
    }
   },
   "outputs": [],
   "source": [
    "%load_ext autoreload\n",
    "%autoreload 2\n",
    "\n",
    "from saac.utils import cv_imshow, color_show, quadrant_bboxes, crop_bbox\n",
    "from saac.models import SkinColorMeanExtractor, SkinColorModeExtractor\n",
    "from saac.process import ImageEqualizer, MidJourneyProcessor"
   ]
  },
  {
   "cell_type": "markdown",
   "id": "8f0c0d93-2386-492e-9370-46f8b217408c",
   "metadata": {
    "pycharm": {
     "name": "#%% md\n"
    }
   },
   "source": [
    "## Sample Midjourney image"
   ]
  },
  {
   "cell_type": "code",
   "execution_count": null,
   "id": "22883183-5cbc-47a6-8bf9-288c2fe4fc86",
   "metadata": {
    "pycharm": {
     "name": "#%%\n"
    }
   },
   "outputs": [],
   "source": [
    "images_root = Path('../../data/images/raw')\n",
    "\n",
    "img_path = list(images_root.glob('*.png'))[23]\n",
    "print(img_path)\n",
    "\n",
    "img_2x2 = cv.imread(str(img_path))\n",
    "cv_imshow(img_2x2)"
   ]
  },
  {
   "cell_type": "markdown",
   "id": "cf19c26a-6c47-4749-9a5f-5f270135d539",
   "metadata": {
    "pycharm": {
     "name": "#%% md\n"
    }
   },
   "source": [
    "### Crop quadrant and get DeepFace predictions"
   ]
  },
  {
   "cell_type": "code",
   "execution_count": null,
   "id": "c30ea078-effb-4add-ab5a-942ab8a1fcf2",
   "metadata": {
    "pycharm": {
     "name": "#%%\n"
    }
   },
   "outputs": [],
   "source": [
    "image = crop_bbox(img_2x2, quadrant_bboxes(img_2x2.shape[:2])[2])\n",
    "cv_imshow(image)"
   ]
  },
  {
   "cell_type": "code",
   "execution_count": null,
   "id": "79db647a-8bce-4651-a48c-feba6f206628",
   "metadata": {
    "pycharm": {
     "name": "#%%\n"
    }
   },
   "outputs": [],
   "source": [
    "processor = MidJourneyProcessor()\n",
    "\n",
    "preds = processor.image_predictions(image)\n",
    "pprint(preds)\n",
    "bbox = preds['bbox']\n",
    "face = crop_bbox(image, bbox)\n",
    "cv_imshow(face)"
   ]
  },
  {
   "cell_type": "markdown",
   "id": "fb3ee09c-fcf8-48b3-b882-ee4f49d45424",
   "metadata": {
    "pycharm": {
     "name": "#%% md\n"
    }
   },
   "source": [
    "## Apply skin color extractors"
   ]
  },
  {
   "cell_type": "code",
   "execution_count": null,
   "id": "26e27280-d1b1-4e1d-b532-13d2e9e43925",
   "metadata": {
    "pycharm": {
     "name": "#%%\n"
    }
   },
   "outputs": [],
   "source": [
    "lower_quantile = 0.5\n",
    "upper_quantile = 0.9\n",
    "rgb_threshold = True\n",
    "hist_bins = 25\n",
    "\n",
    "mean_extractor = SkinColorMeanExtractor(\n",
    "    lower_quantile=lower_quantile,\n",
    "    upper_quantile=upper_quantile,\n",
    ")\n",
    "\n",
    "mode_extractor = SkinColorModeExtractor(\n",
    "    lower_quantile=lower_quantile,\n",
    "    upper_quantile=upper_quantile,\n",
    "    hist_bins=hist_bins\n",
    ")\n",
    "\n",
    "mean_color, mean_mask = mean_extractor.extract(face)\n",
    "mode_color, mode_mask = mode_extractor.extract(face)\n",
    "\n",
    "fig, ax = plt.subplots(2, 2, figsize=(8, 8))\n",
    "\n",
    "cv_imshow(face*mean_mask[:, :, np.newaxis], ax=ax[0,0])\n",
    "color_show(mean_color, ax=ax[1, 0])\n",
    "ax[0,0].set_title('Mean')\n",
    "\n",
    "cv_imshow(face*mode_mask[:, :, np.newaxis], ax=ax[0,1])\n",
    "color_show(mode_color, ax=ax[1, 1])\n",
    "ax[0,1].set_title('Mode')\n",
    "\n",
    "fig.suptitle('Skin Color Extractors');"
   ]
  },
  {
   "cell_type": "markdown",
   "id": "0fdbe27c-c546-4cc9-bb29-d402b4e88ed9",
   "metadata": {
    "pycharm": {
     "name": "#%% md\n"
    }
   },
   "source": [
    "## Apply image equalizer before extraction"
   ]
  },
  {
   "cell_type": "code",
   "execution_count": null,
   "id": "482709c9-5e33-425d-a19b-e50ec52203fb",
   "metadata": {
    "pycharm": {
     "name": "#%%\n"
    }
   },
   "outputs": [],
   "source": [
    "clip_limit = 2.0\n",
    "grid_size = 8\n",
    "\n",
    "equalizer = ImageEqualizer(\n",
    "    clipLimit=clip_limit,\n",
    "    grid_size=grid_size\n",
    ")\n",
    "\n",
    "image_cl = equalizer.equalize(image)\n",
    "\n",
    "fig, ax = plt.subplots(1, 2, figsize=(8, 4))\n",
    "                       \n",
    "cv_imshow(image, ax=ax[0])\n",
    "ax[0].set_title('Unequalized')\n",
    "\n",
    "cv_imshow(image_cl, ax=ax[1])\n",
    "ax[1].set_title('Equalized')"
   ]
  },
  {
   "cell_type": "code",
   "execution_count": null,
   "id": "bcdaf70b-f754-482e-9622-53ac06dd324d",
   "metadata": {
    "pycharm": {
     "name": "#%%\n"
    }
   },
   "outputs": [],
   "source": [
    "face_cl = crop_bbox(image_cl, bbox)\n",
    "\n",
    "mean_color, mean_mask = mean_extractor.extract(face_cl)\n",
    "mode_color, mode_mask = mode_extractor.extract(face_cl)\n",
    "\n",
    "fig, ax = plt.subplots(2, 2, figsize=(8, 8))\n",
    "\n",
    "cv_imshow(face*mean_mask[:, :, np.newaxis], ax=ax[0,0])\n",
    "color_show(mean_color, ax=ax[1, 0])\n",
    "ax[0,0].set_title('Mean')\n",
    "\n",
    "cv_imshow(face*mode_mask[:, :, np.newaxis], ax=ax[0,1])\n",
    "color_show(mode_color, ax=ax[1, 1])\n",
    "ax[0,1].set_title('Mode')\n",
    "\n",
    "fig.suptitle('Skin Color Extractors (Equalized)');"
   ]
  },
  {
   "cell_type": "code",
   "execution_count": null,
   "id": "4322c34c-6c41-4936-92ee-4d74a087345e",
   "metadata": {
    "pycharm": {
     "name": "#%%\n"
    }
   },
   "outputs": [],
   "source": []
  }
 ],
 "metadata": {
  "kernelspec": {
   "display_name": "Python 3 (ipykernel)",
   "language": "python",
   "name": "python3"
  },
  "language_info": {
   "codemirror_mode": {
    "name": "ipython",
    "version": 3
   },
   "file_extension": ".py",
   "mimetype": "text/x-python",
   "name": "python",
   "nbconvert_exporter": "python",
   "pygments_lexer": "ipython3",
   "version": "3.8.13"
  }
 },
 "nbformat": 4,
 "nbformat_minor": 5
}
