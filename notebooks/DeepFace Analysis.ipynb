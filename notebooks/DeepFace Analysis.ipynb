{
 "cells": [
  {
   "cell_type": "markdown",
   "id": "dcc20014-3316-4d2b-a5d3-e6c42ddc2c52",
   "metadata": {},
   "source": [
    "# DeepFace Analysis"
   ]
  },
  {
   "cell_type": "code",
   "execution_count": 1,
   "id": "f4d9c600-3f49-44a0-a789-878d98d70bb1",
   "metadata": {},
   "outputs": [],
   "source": [
    "import itertools\n",
    "import json\n",
    "import os\n",
    "from pprint import pprint\n",
    "import tempfile\n",
    "from typing import List, Optional, Tuple\n",
    "\n",
    "from tqdm import tqdm\n",
    "\n",
    "import cv2 as cv\n",
    "import numpy as np\n",
    "from sklearn import metrics\n",
    "\n",
    "from deepface import DeepFace\n",
    "\n",
    "import matplotlib\n",
    "from matplotlib import pyplot as plt"
   ]
  },
  {
   "cell_type": "code",
   "execution_count": 9,
   "id": "d1aabecd-70ae-4340-87ab-5e2e05203afa",
   "metadata": {},
   "outputs": [
    {
     "name": "stdout",
     "output_type": "stream",
     "text": [
      "'Predictions for 24 images'\n"
     ]
    }
   ],
   "source": [
    "backend = 'mtcnn'\n",
    "predictions_path = os.path.join('../images/processed', f'deepface_{backend}.json')\n",
    "\n",
    "with open(predictions_path, 'r') as fp:\n",
    "    predictions = json.load(fp)\n",
    "    \n",
    "pprint(f'Predictions for {len(predictions)} images')"
   ]
  },
  {
   "cell_type": "code",
   "execution_count": 10,
   "id": "5688952e-1d69-446c-bec4-67c06151d95b",
   "metadata": {},
   "outputs": [],
   "source": [
    "images_root = '../images/raw'\n",
    "\n",
    "via_project_path = os.path.join(images_root, 'via_project_13Sep2022_19h41m.json')"
   ]
  },
  {
   "cell_type": "code",
   "execution_count": 11,
   "id": "97ddc666-81a4-4016-ba93-7dff5e2d6382",
   "metadata": {},
   "outputs": [],
   "source": [
    "with open(via_project_path, 'r') as f:\n",
    "    via_project = json.load(f)\n",
    "    \n",
    "via_images = via_project['_via_image_id_list']\n",
    "via_metadata = via_project['_via_img_metadata']"
   ]
  },
  {
   "cell_type": "code",
   "execution_count": 12,
   "id": "43ad1eae-b981-4f16-921e-4d33850aae31",
   "metadata": {},
   "outputs": [
    {
     "name": "stdout",
     "output_type": "stream",
     "text": [
      "Image annotations: ../images/raw\\vroz_citizen_photorealistic_703c6fc2-d66d-4ed2-8966-259caa4cf064.png\n",
      "{'file_attributes': {'height': '512', 'width': '512'},\n",
      " 'filename': 'vroz_citizen_photorealistic_703c6fc2-d66d-4ed2-8966-259caa4cf064.png',\n",
      " 'regions': [{'region_attributes': {'gender': 'Woman'},\n",
      "              'shape_attributes': {'height': 175,\n",
      "                                   'name': 'rect',\n",
      "                                   'width': 134,\n",
      "                                   'x': 66,\n",
      "                                   'y': 21}},\n",
      "             {'region_attributes': {'gender': 'Man'},\n",
      "              'shape_attributes': {'height': 124,\n",
      "                                   'name': 'rect',\n",
      "                                   'width': 93,\n",
      "                                   'x': 338,\n",
      "                                   'y': 43}},\n",
      "             {'region_attributes': {'gender': 'Woman'},\n",
      "              'shape_attributes': {'height': 187,\n",
      "                                   'name': 'rect',\n",
      "                                   'width': 153,\n",
      "                                   'x': 47,\n",
      "                                   'y': 257}}],\n",
      " 'size': 414877}\n"
     ]
    }
   ],
   "source": [
    "via_img = via_images[0]\n",
    "img_metadata = via_metadata[via_img]\n",
    "\n",
    "img_path = os.path.join(images_root, img_metadata['filename'])\n",
    "img_regions = img_metadata['regions']\n",
    "print(f'Image annotations: {img_path}')\n",
    "pprint(img_metadata)"
   ]
  },
  {
   "cell_type": "code",
   "execution_count": 16,
   "id": "45cb7d44-97ae-4dff-aa4d-8c243b9a7807",
   "metadata": {},
   "outputs": [],
   "source": [
    "def region_bbox(region: dict) -> List[int]:\n",
    "    shape = region['shape_attributes']\n",
    "    bbox = [\n",
    "        shape['x'],\n",
    "        shape['y'],\n",
    "        shape['x'] + shape['width'],\n",
    "        shape['y'] + shape['height']\n",
    "    ]\n",
    "    return bbox"
   ]
  },
  {
   "cell_type": "code",
   "execution_count": 17,
   "id": "3d9d99c1-3763-4fa3-b3d0-b74baf1c0d57",
   "metadata": {},
   "outputs": [],
   "source": [
    "def image_size(img_metadata: dict) -> Tuple[int, int]:\n",
    "    width = int(img_metadata['file_attributes']['width'])\n",
    "    height = int(img_metadata['file_attributes']['height'])\n",
    "    return (width, height)\n",
    "\n",
    "def region_labels(region: dict) -> dict:\n",
    "    labels = region['region_attributes'].copy()\n",
    "    labels['bbox'] = region_bbox(region)\n",
    "    return labels\n",
    "\n",
    "def image_labels(img_metadata: dict) -> List[Optional[dict]]:\n",
    "    width, height = image_size(img_metadata)\n",
    "    quadrants = sort_regions((width, height), img_metadata['regions'])\n",
    "    labels = [region_labels(region) if region else None for region in quadrants] \n",
    "    return {\n",
    "        'filename': img_metadata['filename'],\n",
    "        'labels': labels\n",
    "    }\n",
    "\n",
    "def project_labels(via_project: dict) -> List[Tuple[str, List[Optional[dict]]]]:\n",
    "    img_metadata = via_project['_via_img_metadata']\n",
    "    return list(map(lambda id: image_labels(img_metadata[id]), via_project['_via_image_id_list']))"
   ]
  },
  {
   "cell_type": "code",
   "execution_count": 18,
   "id": "8a73b371-f970-4d64-984d-b623d9d9adb8",
   "metadata": {},
   "outputs": [
    {
     "name": "stdout",
     "output_type": "stream",
     "text": [
      "[{'filename': 'vroz_citizen_photorealistic_703c6fc2-d66d-4ed2-8966-259caa4cf064.png',\n",
      "  'labels': [{'bbox': [66, 21, 200, 196], 'gender': 'Woman'},\n",
      "             {'bbox': [47, 257, 200, 444], 'gender': 'Woman'},\n",
      "             {'bbox': [338, 43, 431, 167], 'gender': 'Man'},\n",
      "             None]},\n",
      " {'filename': 'vroz_sophisticated_person_photorealistic_c35401e3-d9ac-4403-80a2-9f9cd81802bd.png',\n",
      "  'labels': [{'bbox': [64, 20, 193, 218], 'gender': 'Woman'},\n",
      "             {'bbox': [95, 273, 178, 402], 'gender': 'Woman'},\n",
      "             {'bbox': [330, 25, 418, 147], 'gender': 'Woman'},\n",
      "             {'bbox': [326, 307, 438, 461], 'gender': 'Woman'}]},\n",
      " {'filename': 'vroz_authoritarian_person_photorealistic_53affad0-ebd9-44b4-a9ac-7b24597b3803.png',\n",
      "  'labels': [{'bbox': [94, 8, 147, 80], 'gender': 'Man'},\n",
      "             {'bbox': [82, 281, 173, 404], 'gender': 'Man'},\n",
      "             {'bbox': [321, 10, 455, 209], 'gender': 'Man'},\n",
      "             {'bbox': [341, 273, 449, 444], 'gender': 'Man'}]},\n",
      " {'filename': 'vroz_jealous_person_photorealistic_c3724ee6-2d23-4d15-9a0f-0ac9150e25da.png',\n",
      "  'labels': [{'bbox': [63, 17, 177, 162], 'gender': 'Woman'},\n",
      "             {'bbox': [55, 260, 173, 427], 'gender': 'Woman'},\n",
      "             {'bbox': [342, 18, 429, 139], 'gender': 'Woman'},\n",
      "             {'bbox': [312, 256, 444, 422], 'gender': 'Woman'}]},\n",
      " {'filename': 'vroz_levelheaded_person_photorealistic_3c3daf1e-7199-4a6b-bab5-6707eeebc8a8.png',\n",
      "  'labels': [None,\n",
      "             {'bbox': [80, 275, 188, 427], 'gender': 'Man'},\n",
      "             {'bbox': [347, 40, 423, 158], 'gender': 'Man'},\n",
      "             {'bbox': [349, 276, 461, 442], 'gender': 'Woman'}]}]\n"
     ]
    }
   ],
   "source": [
    "labels = project_labels(via_project)\n",
    "pprint(labels[:5])"
   ]
  },
  {
   "cell_type": "code",
   "execution_count": 22,
   "id": "32ea20fe-384b-4cce-951d-15d8b9cc69a2",
   "metadata": {},
   "outputs": [],
   "source": [
    "def sort_regions(img_size: Tuple[int, int], regions: dict) -> dict:\n",
    "    width, height = [d // 2 for d in img_size]\n",
    "    def region_index(r):\n",
    "        index = (r['shape_attributes']['x']//width << 1) + r['shape_attributes']['y']//height\n",
    "        return index\n",
    "            \n",
    "    quadrants = [None]*4\n",
    "    for region in regions:\n",
    "        idx = region_index(region)\n",
    "        quadrants[idx] = region\n",
    "        \n",
    "    return quadrants"
   ]
  },
  {
   "cell_type": "code",
   "execution_count": 24,
   "id": "3c0dca91-3c93-41c7-a93a-0fde0046d67b",
   "metadata": {},
   "outputs": [
    {
     "name": "stdout",
     "output_type": "stream",
     "text": [
      "Unsorted\n",
      "[{'region_attributes': {'gender': 'Woman'},\n",
      "  'shape_attributes': {'height': 175,\n",
      "                       'name': 'rect',\n",
      "                       'width': 134,\n",
      "                       'x': 66,\n",
      "                       'y': 21}},\n",
      " {'region_attributes': {'gender': 'Man'},\n",
      "  'shape_attributes': {'height': 124,\n",
      "                       'name': 'rect',\n",
      "                       'width': 93,\n",
      "                       'x': 338,\n",
      "                       'y': 43}},\n",
      " {'region_attributes': {'gender': 'Woman'},\n",
      "  'shape_attributes': {'height': 187,\n",
      "                       'name': 'rect',\n",
      "                       'width': 153,\n",
      "                       'x': 47,\n",
      "                       'y': 257}}]\n",
      "Sorted\n",
      "[{'region_attributes': {'gender': 'Woman'},\n",
      "  'shape_attributes': {'height': 175,\n",
      "                       'name': 'rect',\n",
      "                       'width': 134,\n",
      "                       'x': 66,\n",
      "                       'y': 21}},\n",
      " {'region_attributes': {'gender': 'Woman'},\n",
      "  'shape_attributes': {'height': 187,\n",
      "                       'name': 'rect',\n",
      "                       'width': 153,\n",
      "                       'x': 47,\n",
      "                       'y': 257}},\n",
      " {'region_attributes': {'gender': 'Man'},\n",
      "  'shape_attributes': {'height': 124,\n",
      "                       'name': 'rect',\n",
      "                       'width': 93,\n",
      "                       'x': 338,\n",
      "                       'y': 43}},\n",
      " None]\n"
     ]
    }
   ],
   "source": [
    "print('Unsorted')\n",
    "pprint(img_regions)\n",
    "\n",
    "print('Sorted')\n",
    "pprint(sort_regions(image_size(img_metadata), img_regions))"
   ]
  },
  {
   "cell_type": "code",
   "execution_count": 25,
   "id": "a49aa971-3bb6-4b88-9196-ce7693f3d59a",
   "metadata": {},
   "outputs": [],
   "source": [
    "predictions_detect = list(map(lambda p: 1 if p else 0, itertools.chain.from_iterable(map(lambda image: image['predictions'], predictions))))\n",
    "\n",
    "labels_detect = list(map(lambda p: 1 if p else 0, itertools.chain.from_iterable(map(lambda image: image['labels'], labels))))"
   ]
  },
  {
   "cell_type": "code",
   "execution_count": 26,
   "id": "e9f3c998-1c5f-4119-bc27-692df71dfb9a",
   "metadata": {},
   "outputs": [
    {
     "name": "stdout",
     "output_type": "stream",
     "text": [
      "              precision    recall  f1-score   support\n",
      "\n",
      "   no detect       1.00      1.00      1.00        12\n",
      "      detect       1.00      1.00      1.00        84\n",
      "\n",
      "    accuracy                           1.00        96\n",
      "   macro avg       1.00      1.00      1.00        96\n",
      "weighted avg       1.00      1.00      1.00        96\n",
      "\n"
     ]
    }
   ],
   "source": [
    "print(metrics.classification_report(labels_detect, predictions_detect, target_names=['no detect', 'detect']))"
   ]
  },
  {
   "cell_type": "code",
   "execution_count": 27,
   "id": "0b1b0625-8804-433c-8077-33c6f17151a7",
   "metadata": {},
   "outputs": [
    {
     "data": {
      "text/plain": [
       "<sklearn.metrics._plot.confusion_matrix.ConfusionMatrixDisplay at 0x20ffd5bb370>"
      ]
     },
     "execution_count": 27,
     "metadata": {},
     "output_type": "execute_result"
    },
    {
     "data": {
      "image/png": "[encoded data removed]",
      "text/plain": [
       "<Figure size 640x480 with 2 Axes>"
      ]
     },
     "metadata": {},
     "output_type": "display_data"
    }
   ],
   "source": [
    "cm = metrics.confusion_matrix(labels_detect, predictions_detect)\n",
    "disp = metrics.ConfusionMatrixDisplay(confusion_matrix=cm, display_labels=['no detect', 'detect'])\n",
    "disp.plot()"
   ]
  },
  {
   "cell_type": "code",
   "execution_count": 28,
   "id": "f271ab76-5964-4c3a-abf8-29552f4b4124",
   "metadata": {},
   "outputs": [],
   "source": [
    "predictions_bboxes = list(map(lambda p: p['bbox'] if p else None, itertools.chain.from_iterable(map(lambda image: image['predictions'], predictions))))\n",
    "\n",
    "labels_bboxes = list(map(lambda p: p['bbox'] if p else None, itertools.chain.from_iterable(map(lambda image: image['labels'], labels))))"
   ]
  },
  {
   "cell_type": "code",
   "execution_count": 29,
   "id": "8e877f20-499b-4e6f-af4a-57b4a9fc40fa",
   "metadata": {},
   "outputs": [
    {
     "data": {
      "text/plain": [
       "0.25"
      ]
     },
     "execution_count": 29,
     "metadata": {},
     "output_type": "execute_result"
    }
   ],
   "source": [
    "def iou_score(bbox1: List[int], bbox2: List[int]) -> float:\n",
    "    ab = np.stack([np.array(bbox1), np.array(bbox2)]).astype('float32')\n",
    "    intersect = np.maximum(ab[:, [2, 3]].min(axis=0) - ab[:, [0, 1]].max(axis=0), 0).prod()\n",
    "    union = ((ab[:, 2] - ab[:, 0]) * (ab[:, 3] - ab[:, 1])).sum() - intersect\n",
    "    return intersect / union\n",
    "\n",
    "iou_score([0, 0, 256, 256], [256//4, 256//4, 3*256//4, 3*256//4])"
   ]
  },
  {
   "cell_type": "code",
   "execution_count": 31,
   "id": "7e205969-3ac4-401b-b145-a4aa7fe96bdc",
   "metadata": {},
   "outputs": [
    {
     "data": {
      "text/plain": [
       "(array([ 0.,  0.,  0.,  0.,  1.,  0.,  0.,  0.,  1.,  1.,  2.,  3.,  4.,\n",
       "         7.,  7., 10.,  9.,  6.,  9., 12.,  6.,  4.,  2.,  0.,  0.]),\n",
       " array([0.5 , 0.52, 0.54, 0.56, 0.58, 0.6 , 0.62, 0.64, 0.66, 0.68, 0.7 ,\n",
       "        0.72, 0.74, 0.76, 0.78, 0.8 , 0.82, 0.84, 0.86, 0.88, 0.9 , 0.92,\n",
       "        0.94, 0.96, 0.98, 1.  ], dtype=float32),\n",
       " <BarContainer object of 25 artists>)"
      ]
     },
     "execution_count": 31,
     "metadata": {},
     "output_type": "execute_result"
    },
    {
     "data": {
      "image/png": "[encoded data removed]",
      "text/plain": [
       "<Figure size 640x480 with 1 Axes>"
      ]
     },
     "metadata": {},
     "output_type": "display_data"
    }
   ],
   "source": [
    "plt.hist(list(map(lambda bboxes: iou_score(*bboxes), filter(lambda bboxes: all(bboxes), zip(labels_bboxes, predictions_bboxes)))),\n",
    "        range=(0.5, 1.0),\n",
    "        bins=25)"
   ]
  },
  {
   "cell_type": "code",
   "execution_count": 32,
   "id": "85de2e6b-7388-405f-a5a3-89e991bbe55c",
   "metadata": {},
   "outputs": [],
   "source": [
    "predictions_gender = list(map(lambda p: (1 if p['gender']['Man'] > p['gender']['Woman'] else 0) if p else None, itertools.chain.from_iterable(map(lambda image: image['predictions'], predictions))))\n",
    "\n",
    "labels_gender = list(map(lambda p: (1 if p['gender'] == 'Man' else 0) if p else None, itertools.chain.from_iterable(map(lambda image: image['labels'], labels))))"
   ]
  },
  {
   "cell_type": "code",
   "execution_count": 33,
   "id": "e192f779-cd1b-45f1-a8c9-136954c1c284",
   "metadata": {},
   "outputs": [],
   "source": [
    "labels_gender, predictions_gender = zip(*list(filter(lambda p: not(p[0] is None or p[1] is None), zip(labels_gender, predictions_gender))))"
   ]
  },
  {
   "cell_type": "code",
   "execution_count": 34,
   "id": "d2d1cbc2-1a43-4250-bea9-ff94fb4d61b1",
   "metadata": {},
   "outputs": [
    {
     "name": "stdout",
     "output_type": "stream",
     "text": [
      "              precision    recall  f1-score   support\n",
      "\n",
      "       Woman       0.97      0.57      0.72        49\n",
      "         Man       0.62      0.97      0.76        35\n",
      "\n",
      "    accuracy                           0.74        84\n",
      "   macro avg       0.79      0.77      0.74        84\n",
      "weighted avg       0.82      0.74      0.73        84\n",
      "\n"
     ]
    }
   ],
   "source": [
    "print(metrics.classification_report(labels_gender, predictions_gender, target_names=['Woman', 'Man']))"
   ]
  },
  {
   "cell_type": "code",
   "execution_count": 35,
   "id": "ad6507d9-d160-4a96-af30-cd8f6e92aab8",
   "metadata": {},
   "outputs": [
    {
     "data": {
      "text/plain": [
       "<sklearn.metrics._plot.confusion_matrix.ConfusionMatrixDisplay at 0x20ffe265b80>"
      ]
     },
     "execution_count": 35,
     "metadata": {},
     "output_type": "execute_result"
    },
    {
     "data": {
      "image/png": "[encoded data removed]",
      "text/plain": [
       "<Figure size 640x480 with 2 Axes>"
      ]
     },
     "metadata": {},
     "output_type": "display_data"
    }
   ],
   "source": [
    "cm = metrics.confusion_matrix(labels_gender, predictions_gender)\n",
    "disp = metrics.ConfusionMatrixDisplay(confusion_matrix=cm, display_labels=['Woman', 'Man'])\n",
    "disp.plot()"
   ]
  },
  {
   "cell_type": "code",
   "execution_count": null,
   "id": "482709c9-5e33-425d-a19b-e50ec52203fb",
   "metadata": {},
   "outputs": [],
   "source": []
  }
 ],
 "metadata": {
  "kernelspec": {
   "display_name": "Python [conda env:saac_p38]",
   "language": "python",
   "name": "conda-env-saac_p38-py"
  },
  "language_info": {
   "codemirror_mode": {
    "name": "ipython",
    "version": 3
   },
   "file_extension": ".py",
   "mimetype": "text/x-python",
   "name": "python",
   "nbconvert_exporter": "python",
   "pygments_lexer": "ipython3",
   "version": "3.8.13"
  }
 },
 "nbformat": 4,
 "nbformat_minor": 5
}
