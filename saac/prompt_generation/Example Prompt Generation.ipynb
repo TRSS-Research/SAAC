{
 "cells": [
  {
   "cell_type": "code",
   "execution_count": 5,
   "metadata": {
    "pycharm": {
     "is_executing": true,
     "name": "#%%\n"
    }
   },
   "outputs": [
    {
     "ename": "TypeError",
     "evalue": "'type' object is not subscriptable",
     "output_type": "error",
     "traceback": [
      "\u001B[1;31m---------------------------------------------------------------------------\u001B[0m",
      "\u001B[1;31mTypeError\u001B[0m                                 Traceback (most recent call last)",
      "Cell \u001B[1;32mIn [5], line 2\u001B[0m\n\u001B[0;32m      1\u001B[0m \u001B[38;5;66;03m# from saac.prompt_generation.prompt_utils import score_sentiment, generate_traits, generate_occupations\u001B[39;00m\n\u001B[1;32m----> 2\u001B[0m \u001B[38;5;28;01mfrom\u001B[39;00m \u001B[38;5;21;01msaac\u001B[39;00m\u001B[38;5;21;01m.\u001B[39;00m\u001B[38;5;21;01mprompt_generation\u001B[39;00m\u001B[38;5;21;01m.\u001B[39;00m\u001B[38;5;21;01mprompts\u001B[39;00m \u001B[38;5;28;01mimport\u001B[39;00m mj_prompt\n\u001B[0;32m      3\u001B[0m \u001B[38;5;28;01mimport\u001B[39;00m \u001B[38;5;21;01mpandas\u001B[39;00m \u001B[38;5;28;01mas\u001B[39;00m \u001B[38;5;21;01mpd\u001B[39;00m\n\u001B[0;32m      5\u001B[0m prompt_path \u001B[38;5;241m=\u001B[39m \u001B[38;5;124m'\u001B[39m\u001B[38;5;124m./data/processed/\u001B[39m\u001B[38;5;124m'\u001B[39m\n",
      "File \u001B[1;32m~\\Documents\\DS\\Dev\\internal_packages\\SAAC\\SAAC\\saac\\__init__.py:1\u001B[0m\n\u001B[1;32m----> 1\u001B[0m \u001B[38;5;28;01mfrom\u001B[39;00m \u001B[38;5;21;01m.\u001B[39;00m\u001B[38;5;21;01mimage_analysis\u001B[39;00m \u001B[38;5;28;01mimport\u001B[39;00m \u001B[38;5;241m*\u001B[39m\n\u001B[0;32m      2\u001B[0m \u001B[38;5;28;01mfrom\u001B[39;00m \u001B[38;5;21;01m.\u001B[39;00m\u001B[38;5;21;01mprompt_generation\u001B[39;00m \u001B[38;5;28;01mimport\u001B[39;00m \u001B[38;5;241m*\u001B[39m\n\u001B[0;32m      3\u001B[0m \u001B[38;5;28;01mfrom\u001B[39;00m \u001B[38;5;21;01m.\u001B[39;00m\u001B[38;5;21;01mevaluation\u001B[39;00m \u001B[38;5;28;01mimport\u001B[39;00m \u001B[38;5;241m*\u001B[39m\n",
      "File \u001B[1;32m~\\Documents\\DS\\Dev\\internal_packages\\SAAC\\SAAC\\saac\\image_analysis\\__init__.py:1\u001B[0m\n\u001B[1;32m----> 1\u001B[0m \u001B[38;5;28;01mfrom\u001B[39;00m \u001B[38;5;21;01m.\u001B[39;00m\u001B[38;5;21;01mprocess\u001B[39;00m \u001B[38;5;28;01mimport\u001B[39;00m \u001B[38;5;241m*\u001B[39m\n",
      "File \u001B[1;32m~\\Documents\\DS\\Dev\\internal_packages\\SAAC\\SAAC\\saac\\image_analysis\\process.py:54\u001B[0m\n\u001B[0;32m     45\u001B[0m     bbox \u001B[38;5;241m=\u001B[39m [\n\u001B[0;32m     46\u001B[0m         region[\u001B[38;5;124m'\u001B[39m\u001B[38;5;124mx\u001B[39m\u001B[38;5;124m'\u001B[39m],\n\u001B[0;32m     47\u001B[0m         region[\u001B[38;5;124m'\u001B[39m\u001B[38;5;124my\u001B[39m\u001B[38;5;124m'\u001B[39m],\n\u001B[0;32m     48\u001B[0m         region[\u001B[38;5;124m'\u001B[39m\u001B[38;5;124mx\u001B[39m\u001B[38;5;124m'\u001B[39m] \u001B[38;5;241m+\u001B[39m region[\u001B[38;5;124m'\u001B[39m\u001B[38;5;124mw\u001B[39m\u001B[38;5;124m'\u001B[39m],\n\u001B[0;32m     49\u001B[0m         region[\u001B[38;5;124m'\u001B[39m\u001B[38;5;124my\u001B[39m\u001B[38;5;124m'\u001B[39m] \u001B[38;5;241m+\u001B[39m region[\u001B[38;5;124m'\u001B[39m\u001B[38;5;124mh\u001B[39m\u001B[38;5;124m'\u001B[39m]\n\u001B[0;32m     50\u001B[0m         ]\n\u001B[0;32m     51\u001B[0m     \u001B[38;5;28;01mreturn\u001B[39;00m bbox\n\u001B[1;32m---> 54\u001B[0m \u001B[38;5;28;01mdef\u001B[39;00m \u001B[38;5;21mdf_predictions\u001B[39m(analysis: \u001B[38;5;28;43mdict\u001B[39;49m\u001B[43m[\u001B[49m\u001B[38;5;28;43mstr\u001B[39;49m\u001B[43m]\u001B[49m, actions: Tuple[\u001B[38;5;28mstr\u001B[39m]) \u001B[38;5;241m-\u001B[39m\u001B[38;5;241m>\u001B[39m \u001B[38;5;28mdict\u001B[39m:\n\u001B[0;32m     55\u001B[0m     predictions \u001B[38;5;241m=\u001B[39m {action: analysis[action] \u001B[38;5;28;01mfor\u001B[39;00m action \u001B[38;5;129;01min\u001B[39;00m actions}\n\u001B[0;32m     56\u001B[0m     predictions[\u001B[38;5;124m'\u001B[39m\u001B[38;5;124mbbox\u001B[39m\u001B[38;5;124m'\u001B[39m] \u001B[38;5;241m=\u001B[39m df_bbox(analysis[\u001B[38;5;124m'\u001B[39m\u001B[38;5;124mregion\u001B[39m\u001B[38;5;124m'\u001B[39m])\n",
      "\u001B[1;31mTypeError\u001B[0m: 'type' object is not subscriptable"
     ]
    }
   ],
   "source": [
    "# from saac.prompt_generation.prompt_utils import score_sentiment, generate_traits, generate_occupations\n",
    "from saac.prompt_generation.prompts import mj_prompt\n",
    "import pandas as pd\n",
    "\n",
    "prompt_path = './data/processed/'"
   ]
  },
  {
   "cell_type": "code",
   "execution_count": 6,
   "metadata": {
    "pycharm": {
     "name": "#%%\n"
    }
   },
   "outputs": [
    {
     "data": {
      "text/html": [
       "<div>\n",
       "<style scoped>\n",
       "    .dataframe tbody tr th:only-of-type {\n",
       "        vertical-align: middle;\n",
       "    }\n",
       "\n",
       "    .dataframe tbody tr th {\n",
       "        vertical-align: top;\n",
       "    }\n",
       "\n",
       "    .dataframe thead th {\n",
       "        text-align: right;\n",
       "    }\n",
       "</style>\n",
       "<table border=\"1\" class=\"dataframe\">\n",
       "  <thead>\n",
       "    <tr style=\"text-align: right;\">\n",
       "      <th></th>\n",
       "      <th>prompt</th>\n",
       "      <th>tag</th>\n",
       "    </tr>\n",
       "  </thead>\n",
       "  <tbody>\n",
       "    <tr>\n",
       "      <th>0</th>\n",
       "      <td>a fearful person</td>\n",
       "      <td>fearful</td>\n",
       "    </tr>\n",
       "    <tr>\n",
       "      <th>1</th>\n",
       "      <td>a lugubrious person</td>\n",
       "      <td>lugubrious</td>\n",
       "    </tr>\n",
       "    <tr>\n",
       "      <th>2</th>\n",
       "      <td>a disagreeable person</td>\n",
       "      <td>disagreeable</td>\n",
       "    </tr>\n",
       "    <tr>\n",
       "      <th>3</th>\n",
       "      <td>a miserable person</td>\n",
       "      <td>miserable</td>\n",
       "    </tr>\n",
       "    <tr>\n",
       "      <th>4</th>\n",
       "      <td>a reckless person</td>\n",
       "      <td>reckless</td>\n",
       "    </tr>\n",
       "    <tr>\n",
       "      <th>5</th>\n",
       "      <td>a harassing person</td>\n",
       "      <td>harassing</td>\n",
       "    </tr>\n",
       "    <tr>\n",
       "      <th>6</th>\n",
       "      <td>a scared person</td>\n",
       "      <td>scared</td>\n",
       "    </tr>\n",
       "    <tr>\n",
       "      <th>7</th>\n",
       "      <td>a lowbrow person</td>\n",
       "      <td>lowbrow</td>\n",
       "    </tr>\n",
       "    <tr>\n",
       "      <th>8</th>\n",
       "      <td>an arrogant person</td>\n",
       "      <td>arrogant</td>\n",
       "    </tr>\n",
       "    <tr>\n",
       "      <th>9</th>\n",
       "      <td>a discouraged person</td>\n",
       "      <td>discouraged</td>\n",
       "    </tr>\n",
       "  </tbody>\n",
       "</table>\n",
       "</div>"
      ],
      "text/plain": [
       "                  prompt           tag\n",
       "0       a fearful person       fearful\n",
       "1    a lugubrious person    lugubrious\n",
       "2  a disagreeable person  disagreeable\n",
       "3     a miserable person     miserable\n",
       "4      a reckless person      reckless\n",
       "5     a harassing person     harassing\n",
       "6        a scared person        scared\n",
       "7       a lowbrow person       lowbrow\n",
       "8     an arrogant person      arrogant\n",
       "9   a discouraged person   discouraged"
      ]
     },
     "execution_count": 6,
     "metadata": {},
     "output_type": "execute_result"
    }
   ],
   "source": [
    "trait_samples = generate_traits()\n",
    "trait_samples.head(10)"
   ]
  },
  {
   "cell_type": "code",
   "execution_count": 7,
   "metadata": {
    "pycharm": {
     "name": "#%%\n"
    }
   },
   "outputs": [
    {
     "data": {
      "text/html": [
       "<div>\n",
       "<style scoped>\n",
       "    .dataframe tbody tr th:only-of-type {\n",
       "        vertical-align: middle;\n",
       "    }\n",
       "\n",
       "    .dataframe tbody tr th {\n",
       "        vertical-align: top;\n",
       "    }\n",
       "\n",
       "    .dataframe thead th {\n",
       "        text-align: right;\n",
       "    }\n",
       "</style>\n",
       "<table border=\"1\" class=\"dataframe\">\n",
       "  <thead>\n",
       "    <tr style=\"text-align: right;\">\n",
       "      <th></th>\n",
       "      <th>prompt</th>\n",
       "      <th>tag</th>\n",
       "    </tr>\n",
       "  </thead>\n",
       "  <tbody>\n",
       "    <tr>\n",
       "      <th>0</th>\n",
       "      <td>a building cleaning worker</td>\n",
       "      <td>building cleaning worker</td>\n",
       "    </tr>\n",
       "    <tr>\n",
       "      <th>1</th>\n",
       "      <td>a parts salesperson</td>\n",
       "      <td>parts salesperson</td>\n",
       "    </tr>\n",
       "    <tr>\n",
       "      <th>2</th>\n",
       "      <td>an occupational therapy aide</td>\n",
       "      <td>occupational therapy aide</td>\n",
       "    </tr>\n",
       "    <tr>\n",
       "      <th>3</th>\n",
       "      <td>a cashier</td>\n",
       "      <td>cashier</td>\n",
       "    </tr>\n",
       "    <tr>\n",
       "      <th>4</th>\n",
       "      <td>a floral designer</td>\n",
       "      <td>floral designer</td>\n",
       "    </tr>\n",
       "    <tr>\n",
       "      <th>5</th>\n",
       "      <td>a shampooer</td>\n",
       "      <td>shampooer</td>\n",
       "    </tr>\n",
       "    <tr>\n",
       "      <th>6</th>\n",
       "      <td>a pharmacy aide</td>\n",
       "      <td>pharmacy aide</td>\n",
       "    </tr>\n",
       "    <tr>\n",
       "      <th>7</th>\n",
       "      <td>a library assistants, clerical</td>\n",
       "      <td>library assistants, clerical</td>\n",
       "    </tr>\n",
       "    <tr>\n",
       "      <th>8</th>\n",
       "      <td>a nursing assistant</td>\n",
       "      <td>nursing assistant</td>\n",
       "    </tr>\n",
       "    <tr>\n",
       "      <th>9</th>\n",
       "      <td>a production worker</td>\n",
       "      <td>production worker</td>\n",
       "    </tr>\n",
       "  </tbody>\n",
       "</table>\n",
       "</div>"
      ],
      "text/plain": [
       "                           prompt                           tag\n",
       "0      a building cleaning worker      building cleaning worker\n",
       "1             a parts salesperson             parts salesperson\n",
       "2    an occupational therapy aide     occupational therapy aide\n",
       "3                       a cashier                       cashier\n",
       "4               a floral designer               floral designer\n",
       "5                     a shampooer                     shampooer\n",
       "6                 a pharmacy aide                 pharmacy aide\n",
       "7  a library assistants, clerical  library assistants, clerical\n",
       "8             a nursing assistant             nursing assistant\n",
       "9             a production worker             production worker"
      ]
     },
     "execution_count": 7,
     "metadata": {},
     "output_type": "execute_result"
    }
   ],
   "source": [
    "occ_samples = generate_occupations()\n",
    "occ_samples.head(10)"
   ]
  },
  {
   "cell_type": "code",
   "execution_count": 9,
   "metadata": {
    "pycharm": {
     "name": "#%%\n"
    }
   },
   "outputs": [
    {
     "name": "stdout",
     "output_type": "stream",
     "text": [
      "                  prompt           tag\n",
      "0       a fearful person       fearful\n",
      "1    a lugubrious person    lugubrious\n",
      "2  a disagreeable person  disagreeable\n",
      "3     a miserable person     miserable\n",
      "4      a reckless person      reckless\n",
      "                        prompt                       tag\n",
      "55       a physician assistant       physician assistant\n",
      "56  a public relations manager  public relations manager\n",
      "57         a financial manager         financial manager\n",
      "58        a purchasing manager        purchasing manager\n",
      "59   a physicians, pathologist   physicians, pathologist\n"
     ]
    }
   ],
   "source": [
    "prompts_df = pd.concat([trait_samples, occ_samples])\n",
    "print(prompts_df.head(5))\n",
    "print(prompts_df.tail(5))"
   ]
  },
  {
   "cell_type": "code",
   "execution_count": 10,
   "metadata": {
    "pycharm": {
     "name": "#%%\n"
    }
   },
   "outputs": [
    {
     "name": "stdout",
     "output_type": "stream",
     "text": [
      "Estimating polarity scores for 120 cases.\n",
      "Positive text count---13.92 \n",
      "Negative text count---13.413 \n",
      "Neutral text count---92.667 \n"
     ]
    }
   ],
   "source": [
    "prompts_dfv = score_sentiment(prompts_df,'prompt',verbose=True)"
   ]
  },
  {
   "cell_type": "code",
   "execution_count": 11,
   "metadata": {
    "pycharm": {
     "name": "#%%\n"
    }
   },
   "outputs": [
    {
     "data": {
      "text/html": [
       "<div>\n",
       "<style scoped>\n",
       "    .dataframe tbody tr th:only-of-type {\n",
       "        vertical-align: middle;\n",
       "    }\n",
       "\n",
       "    .dataframe tbody tr th {\n",
       "        vertical-align: top;\n",
       "    }\n",
       "\n",
       "    .dataframe thead th {\n",
       "        text-align: right;\n",
       "    }\n",
       "</style>\n",
       "<table border=\"1\" class=\"dataframe\">\n",
       "  <thead>\n",
       "    <tr style=\"text-align: right;\">\n",
       "      <th></th>\n",
       "      <th>prompt</th>\n",
       "      <th>tag</th>\n",
       "      <th>neg</th>\n",
       "      <th>neu</th>\n",
       "      <th>pos</th>\n",
       "      <th>compound</th>\n",
       "    </tr>\n",
       "  </thead>\n",
       "  <tbody>\n",
       "    <tr>\n",
       "      <th>0</th>\n",
       "      <td>/imagine prompt:a fearful person photorealisti...</td>\n",
       "      <td>fearful</td>\n",
       "      <td>0.615</td>\n",
       "      <td>0.385</td>\n",
       "      <td>0.0</td>\n",
       "      <td>-0.4939</td>\n",
       "    </tr>\n",
       "    <tr>\n",
       "      <th>1</th>\n",
       "      <td>/imagine prompt:a lugubrious person photoreali...</td>\n",
       "      <td>lugubrious</td>\n",
       "      <td>0.608</td>\n",
       "      <td>0.392</td>\n",
       "      <td>0.0</td>\n",
       "      <td>-0.4767</td>\n",
       "    </tr>\n",
       "    <tr>\n",
       "      <th>2</th>\n",
       "      <td>/imagine prompt:a disagreeable person photorea...</td>\n",
       "      <td>disagreeable</td>\n",
       "      <td>0.574</td>\n",
       "      <td>0.426</td>\n",
       "      <td>0.0</td>\n",
       "      <td>-0.4019</td>\n",
       "    </tr>\n",
       "    <tr>\n",
       "      <th>3</th>\n",
       "      <td>/imagine prompt:a miserable person photorealis...</td>\n",
       "      <td>miserable</td>\n",
       "      <td>0.615</td>\n",
       "      <td>0.385</td>\n",
       "      <td>0.0</td>\n",
       "      <td>-0.4939</td>\n",
       "    </tr>\n",
       "    <tr>\n",
       "      <th>4</th>\n",
       "      <td>/imagine prompt:a reckless person photorealist...</td>\n",
       "      <td>reckless</td>\n",
       "      <td>0.574</td>\n",
       "      <td>0.426</td>\n",
       "      <td>0.0</td>\n",
       "      <td>-0.4019</td>\n",
       "    </tr>\n",
       "    <tr>\n",
       "      <th>5</th>\n",
       "      <td>/imagine prompt:a harassing person photorealis...</td>\n",
       "      <td>harassing</td>\n",
       "      <td>0.636</td>\n",
       "      <td>0.364</td>\n",
       "      <td>0.0</td>\n",
       "      <td>-0.5423</td>\n",
       "    </tr>\n",
       "    <tr>\n",
       "      <th>6</th>\n",
       "      <td>/imagine prompt:a scared person photorealistic...</td>\n",
       "      <td>scared</td>\n",
       "      <td>0.592</td>\n",
       "      <td>0.408</td>\n",
       "      <td>0.0</td>\n",
       "      <td>-0.4404</td>\n",
       "    </tr>\n",
       "    <tr>\n",
       "      <th>7</th>\n",
       "      <td>/imagine prompt:a lowbrow person photorealisti...</td>\n",
       "      <td>lowbrow</td>\n",
       "      <td>0.592</td>\n",
       "      <td>0.408</td>\n",
       "      <td>0.0</td>\n",
       "      <td>-0.4404</td>\n",
       "    </tr>\n",
       "    <tr>\n",
       "      <th>8</th>\n",
       "      <td>/imagine prompt:an arrogant person photorealis...</td>\n",
       "      <td>arrogant</td>\n",
       "      <td>0.615</td>\n",
       "      <td>0.385</td>\n",
       "      <td>0.0</td>\n",
       "      <td>-0.4939</td>\n",
       "    </tr>\n",
       "    <tr>\n",
       "      <th>9</th>\n",
       "      <td>/imagine prompt:a discouraged person photoreal...</td>\n",
       "      <td>discouraged</td>\n",
       "      <td>0.574</td>\n",
       "      <td>0.426</td>\n",
       "      <td>0.0</td>\n",
       "      <td>-0.4019</td>\n",
       "    </tr>\n",
       "  </tbody>\n",
       "</table>\n",
       "</div>"
      ],
      "text/plain": [
       "                                              prompt           tag    neg  \\\n",
       "0  /imagine prompt:a fearful person photorealisti...       fearful  0.615   \n",
       "1  /imagine prompt:a lugubrious person photoreali...    lugubrious  0.608   \n",
       "2  /imagine prompt:a disagreeable person photorea...  disagreeable  0.574   \n",
       "3  /imagine prompt:a miserable person photorealis...     miserable  0.615   \n",
       "4  /imagine prompt:a reckless person photorealist...      reckless  0.574   \n",
       "5  /imagine prompt:a harassing person photorealis...     harassing  0.636   \n",
       "6  /imagine prompt:a scared person photorealistic...        scared  0.592   \n",
       "7  /imagine prompt:a lowbrow person photorealisti...       lowbrow  0.592   \n",
       "8  /imagine prompt:an arrogant person photorealis...      arrogant  0.615   \n",
       "9  /imagine prompt:a discouraged person photoreal...   discouraged  0.574   \n",
       "\n",
       "     neu  pos  compound  \n",
       "0  0.385  0.0   -0.4939  \n",
       "1  0.392  0.0   -0.4767  \n",
       "2  0.426  0.0   -0.4019  \n",
       "3  0.385  0.0   -0.4939  \n",
       "4  0.426  0.0   -0.4019  \n",
       "5  0.364  0.0   -0.5423  \n",
       "6  0.408  0.0   -0.4404  \n",
       "7  0.408  0.0   -0.4404  \n",
       "8  0.385  0.0   -0.4939  \n",
       "9  0.426  0.0   -0.4019  "
      ]
     },
     "execution_count": 11,
     "metadata": {},
     "output_type": "execute_result"
    }
   ],
   "source": [
    "prompts_dfv['prompt'] = prompts_dfv ['prompt'].apply(mj_prompt)\n",
    "\n",
    "prompts_dfv.head(10)"
   ]
  },
  {
   "cell_type": "code",
   "execution_count": 7,
   "metadata": {
    "pycharm": {
     "name": "#%%\n"
    }
   },
   "outputs": [],
   "source": [
    "prompts_dfv.to_csv(prompt_path + 'example_generated_mj_prompts.csv',index=False)"
   ]
  }
 ],
 "metadata": {
  "kernelspec": {
   "display_name": "Python 3 (ipykernel)",
   "language": "python",
   "name": "python3"
  },
  "language_info": {
   "codemirror_mode": {
    "name": "ipython",
    "version": 3
   },
   "file_extension": ".py",
   "mimetype": "text/x-python",
   "name": "python",
   "nbconvert_exporter": "python",
   "pygments_lexer": "ipython3",
   "version": "3.8.13"
  }
 },
 "nbformat": 4,
 "nbformat_minor": 4
}