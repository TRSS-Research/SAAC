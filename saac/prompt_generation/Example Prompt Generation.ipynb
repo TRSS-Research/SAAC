{
 "cells": [
  {
   "cell_type": "code",
   "execution_count": 1,
   "metadata": {},
   "outputs": [],
   "source": [
    "from saac.prompt_generation.prompt_utils import score_sentiment, generate_traits, generate_occupations\n",
    "from saac.prompt_generation.prompts import mj_prompt\n",
    "import pandas as pd\n",
    "\n",
    "prompt_path = './data/processed/'"
   ]
  },
  {
   "cell_type": "code",
   "execution_count": 2,
   "metadata": {},
   "outputs": [
    {
     "data": {
      "text/plain": "                 prompt          tag\n0   an indignant person    indignant\n1  a frightening person  frightening\n2       a woeful person       woeful\n3     an idiotic person      idiotic\n4  a remorseless person  remorseless\n5       a somber person       somber\n6    an arrogant person     arrogant\n7    a miserable person    miserable\n8    an insecure person     insecure\n9     a troubled person     troubled",
      "text/html": "<div>\n<style scoped>\n    .dataframe tbody tr th:only-of-type {\n        vertical-align: middle;\n    }\n\n    .dataframe tbody tr th {\n        vertical-align: top;\n    }\n\n    .dataframe thead th {\n        text-align: right;\n    }\n</style>\n<table border=\"1\" class=\"dataframe\">\n  <thead>\n    <tr style=\"text-align: right;\">\n      <th></th>\n      <th>prompt</th>\n      <th>tag</th>\n    </tr>\n  </thead>\n  <tbody>\n    <tr>\n      <th>0</th>\n      <td>an indignant person</td>\n      <td>indignant</td>\n    </tr>\n    <tr>\n      <th>1</th>\n      <td>a frightening person</td>\n      <td>frightening</td>\n    </tr>\n    <tr>\n      <th>2</th>\n      <td>a woeful person</td>\n      <td>woeful</td>\n    </tr>\n    <tr>\n      <th>3</th>\n      <td>an idiotic person</td>\n      <td>idiotic</td>\n    </tr>\n    <tr>\n      <th>4</th>\n      <td>a remorseless person</td>\n      <td>remorseless</td>\n    </tr>\n    <tr>\n      <th>5</th>\n      <td>a somber person</td>\n      <td>somber</td>\n    </tr>\n    <tr>\n      <th>6</th>\n      <td>an arrogant person</td>\n      <td>arrogant</td>\n    </tr>\n    <tr>\n      <th>7</th>\n      <td>a miserable person</td>\n      <td>miserable</td>\n    </tr>\n    <tr>\n      <th>8</th>\n      <td>an insecure person</td>\n      <td>insecure</td>\n    </tr>\n    <tr>\n      <th>9</th>\n      <td>a troubled person</td>\n      <td>troubled</td>\n    </tr>\n  </tbody>\n</table>\n</div>"
     },
     "execution_count": 2,
     "metadata": {},
     "output_type": "execute_result"
    }
   ],
   "source": [
    "trait_samples = generate_traits()\n",
    "trait_samples.head(10)"
   ]
  },
  {
   "cell_type": "code",
   "execution_count": 3,
   "metadata": {},
   "outputs": [
    {
     "data": {
      "text/plain": "                           prompt                          tag\n0             a funeral attendant            funeral attendant\n1             a production worker            production worker\n2   a food servers, nonrestaurant  food servers, nonrestaurant\n3               a floral designer              floral designer\n4                         a baker                        baker\n5             an animal caretaker             animal caretaker\n6            a cooks, short order           cooks, short order\n7                a security guard               security guard\n8             a recreation worker            recreation worker\n9  an assistant production worker  assistant production worker",
      "text/html": "<div>\n<style scoped>\n    .dataframe tbody tr th:only-of-type {\n        vertical-align: middle;\n    }\n\n    .dataframe tbody tr th {\n        vertical-align: top;\n    }\n\n    .dataframe thead th {\n        text-align: right;\n    }\n</style>\n<table border=\"1\" class=\"dataframe\">\n  <thead>\n    <tr style=\"text-align: right;\">\n      <th></th>\n      <th>prompt</th>\n      <th>tag</th>\n    </tr>\n  </thead>\n  <tbody>\n    <tr>\n      <th>0</th>\n      <td>a funeral attendant</td>\n      <td>funeral attendant</td>\n    </tr>\n    <tr>\n      <th>1</th>\n      <td>a production worker</td>\n      <td>production worker</td>\n    </tr>\n    <tr>\n      <th>2</th>\n      <td>a food servers, nonrestaurant</td>\n      <td>food servers, nonrestaurant</td>\n    </tr>\n    <tr>\n      <th>3</th>\n      <td>a floral designer</td>\n      <td>floral designer</td>\n    </tr>\n    <tr>\n      <th>4</th>\n      <td>a baker</td>\n      <td>baker</td>\n    </tr>\n    <tr>\n      <th>5</th>\n      <td>an animal caretaker</td>\n      <td>animal caretaker</td>\n    </tr>\n    <tr>\n      <th>6</th>\n      <td>a cooks, short order</td>\n      <td>cooks, short order</td>\n    </tr>\n    <tr>\n      <th>7</th>\n      <td>a security guard</td>\n      <td>security guard</td>\n    </tr>\n    <tr>\n      <th>8</th>\n      <td>a recreation worker</td>\n      <td>recreation worker</td>\n    </tr>\n    <tr>\n      <th>9</th>\n      <td>an assistant production worker</td>\n      <td>assistant production worker</td>\n    </tr>\n  </tbody>\n</table>\n</div>"
     },
     "execution_count": 3,
     "metadata": {},
     "output_type": "execute_result"
    }
   ],
   "source": [
    "occ_samples = generate_occupations()\n",
    "occ_samples.head(10)"
   ]
  },
  {
   "cell_type": "code",
   "execution_count": 4,
   "metadata": {},
   "outputs": [
    {
     "name": "stdout",
     "output_type": "stream",
     "text": [
      "                 prompt          tag\n",
      "0   an indignant person    indignant\n",
      "1  a frightening person  frightening\n",
      "2       a woeful person       woeful\n",
      "3     an idiotic person      idiotic\n",
      "4  a remorseless person  remorseless\n",
      "                                       prompt  \\\n",
      "55  an industrial-organizational psychologist   \n",
      "56                        a pediatric surgeon   \n",
      "57                              a radiologist   \n",
      "58                             a pediatrician   \n",
      "59                                 an actuary   \n",
      "\n",
      "                                       tag  \n",
      "55  industrial-organizational psychologist  \n",
      "56                       pediatric surgeon  \n",
      "57                             radiologist  \n",
      "58                            pediatrician  \n",
      "59                                 actuary  \n"
     ]
    }
   ],
   "source": [
    "prompts_df = pd.concat([trait_samples, occ_samples])\n",
    "print(prompts_df.head(5))\n",
    "print(prompts_df.tail(5))"
   ]
  },
  {
   "cell_type": "code",
   "execution_count": 5,
   "metadata": {},
   "outputs": [
    {
     "name": "stdout",
     "output_type": "stream",
     "text": [
      "Estimating polarity scores for 120 cases.\n",
      "Positive text count---14.899000000000001 \n",
      "Negative text count---14.087 \n",
      "Neutral text count---91.014 \n"
     ]
    }
   ],
   "source": [
    "prompts_dfv = score_sentiment(prompts_df,'prompt',verbose=True)"
   ]
  },
  {
   "cell_type": "code",
   "execution_count": 6,
   "metadata": {},
   "outputs": [
    {
     "data": {
      "text/plain": "                                              prompt          tag    neg  \\\n0  /imagine prompt:an indignant person photoreali...    indignant  0.583   \n1  /imagine prompt:a frightening person photoreal...  frightening  0.615   \n2  /imagine prompt:a woeful person photorealistic...       woeful  0.592   \n3  /imagine prompt:an idiotic person photorealist...      idiotic  0.643   \n4  /imagine prompt:a remorseless person photoreal...  remorseless  0.623   \n5  /imagine prompt:a somber person photorealistic...       somber  0.583   \n6  /imagine prompt:an arrogant person photorealis...     arrogant  0.615   \n7  /imagine prompt:a miserable person photorealis...    miserable  0.615   \n8  /imagine prompt:an insecure person photorealis...     insecure  0.583   \n9  /imagine prompt:a troubled person photorealist...     troubled  0.600   \n\n     neu  pos  compound  \n0  0.417  0.0   -0.4215  \n1  0.385  0.0   -0.4939  \n2  0.408  0.0   -0.4404  \n3  0.357  0.0   -0.5574  \n4  0.377  0.0   -0.5106  \n5  0.417  0.0   -0.4215  \n6  0.385  0.0   -0.4939  \n7  0.385  0.0   -0.4939  \n8  0.417  0.0   -0.4215  \n9  0.400  0.0   -0.4588  ",
      "text/html": "<div>\n<style scoped>\n    .dataframe tbody tr th:only-of-type {\n        vertical-align: middle;\n    }\n\n    .dataframe tbody tr th {\n        vertical-align: top;\n    }\n\n    .dataframe thead th {\n        text-align: right;\n    }\n</style>\n<table border=\"1\" class=\"dataframe\">\n  <thead>\n    <tr style=\"text-align: right;\">\n      <th></th>\n      <th>prompt</th>\n      <th>tag</th>\n      <th>neg</th>\n      <th>neu</th>\n      <th>pos</th>\n      <th>compound</th>\n    </tr>\n  </thead>\n  <tbody>\n    <tr>\n      <th>0</th>\n      <td>/imagine prompt:an indignant person photoreali...</td>\n      <td>indignant</td>\n      <td>0.583</td>\n      <td>0.417</td>\n      <td>0.0</td>\n      <td>-0.4215</td>\n    </tr>\n    <tr>\n      <th>1</th>\n      <td>/imagine prompt:a frightening person photoreal...</td>\n      <td>frightening</td>\n      <td>0.615</td>\n      <td>0.385</td>\n      <td>0.0</td>\n      <td>-0.4939</td>\n    </tr>\n    <tr>\n      <th>2</th>\n      <td>/imagine prompt:a woeful person photorealistic...</td>\n      <td>woeful</td>\n      <td>0.592</td>\n      <td>0.408</td>\n      <td>0.0</td>\n      <td>-0.4404</td>\n    </tr>\n    <tr>\n      <th>3</th>\n      <td>/imagine prompt:an idiotic person photorealist...</td>\n      <td>idiotic</td>\n      <td>0.643</td>\n      <td>0.357</td>\n      <td>0.0</td>\n      <td>-0.5574</td>\n    </tr>\n    <tr>\n      <th>4</th>\n      <td>/imagine prompt:a remorseless person photoreal...</td>\n      <td>remorseless</td>\n      <td>0.623</td>\n      <td>0.377</td>\n      <td>0.0</td>\n      <td>-0.5106</td>\n    </tr>\n    <tr>\n      <th>5</th>\n      <td>/imagine prompt:a somber person photorealistic...</td>\n      <td>somber</td>\n      <td>0.583</td>\n      <td>0.417</td>\n      <td>0.0</td>\n      <td>-0.4215</td>\n    </tr>\n    <tr>\n      <th>6</th>\n      <td>/imagine prompt:an arrogant person photorealis...</td>\n      <td>arrogant</td>\n      <td>0.615</td>\n      <td>0.385</td>\n      <td>0.0</td>\n      <td>-0.4939</td>\n    </tr>\n    <tr>\n      <th>7</th>\n      <td>/imagine prompt:a miserable person photorealis...</td>\n      <td>miserable</td>\n      <td>0.615</td>\n      <td>0.385</td>\n      <td>0.0</td>\n      <td>-0.4939</td>\n    </tr>\n    <tr>\n      <th>8</th>\n      <td>/imagine prompt:an insecure person photorealis...</td>\n      <td>insecure</td>\n      <td>0.583</td>\n      <td>0.417</td>\n      <td>0.0</td>\n      <td>-0.4215</td>\n    </tr>\n    <tr>\n      <th>9</th>\n      <td>/imagine prompt:a troubled person photorealist...</td>\n      <td>troubled</td>\n      <td>0.600</td>\n      <td>0.400</td>\n      <td>0.0</td>\n      <td>-0.4588</td>\n    </tr>\n  </tbody>\n</table>\n</div>"
     },
     "execution_count": 6,
     "metadata": {},
     "output_type": "execute_result"
    }
   ],
   "source": [
    "prompts_dfv['prompt'] = prompts_dfv ['prompt'].apply(mj_prompt)\n",
    "\n",
    "prompts_dfv.head(10)"
   ]
  },
  {
   "cell_type": "code",
   "execution_count": 7,
   "metadata": {},
   "outputs": [],
   "source": [
    "prompts_dfv.to_csv(prompt_path + 'example_generated_mj_prompts.csv',index=False)"
   ]
  }
 ],
 "metadata": {
  "kernelspec": {
   "display_name": "Python 3 (ipykernel)",
   "language": "python",
   "name": "python3"
  },
  "language_info": {
   "codemirror_mode": {
    "name": "ipython",
    "version": 3
   },
   "file_extension": ".py",
   "mimetype": "text/x-python",
   "name": "python",
   "nbconvert_exporter": "python",
   "pygments_lexer": "ipython3",
   "version": "3.8.13"
  }
 },
 "nbformat": 4,
 "nbformat_minor": 4
}
