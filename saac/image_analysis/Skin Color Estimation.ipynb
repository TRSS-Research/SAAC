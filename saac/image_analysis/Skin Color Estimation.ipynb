{
 "cells": [
  {
   "cell_type": "markdown",
   "id": "80b19102",
   "metadata": {
    "pycharm": {
     "name": "#%% md\n"
    }
   },
   "source": [
    "# Skin Color Estimation"
   ]
  },
  {
   "cell_type": "code",
   "execution_count": null,
   "id": "34ede301",
   "metadata": {
    "pycharm": {
     "name": "#%%\n"
    }
   },
   "outputs": [],
   "source": [
    "from pathlib import Path\n",
    "from pprint import pprint\n",
    "\n",
    "import cv2 as cv\n",
    "import numpy as np\n",
    "\n",
    "import matplotlib\n",
    "from matplotlib import pyplot as plt"
   ]
  },
  {
   "cell_type": "code",
   "execution_count": null,
   "id": "d9f09e94",
   "metadata": {
    "pycharm": {
     "name": "#%%\n"
    }
   },
   "outputs": [],
   "source": [
    "%load_ext autoreload\n",
    "%autoreload 2\n",
    "\n",
    "from saac.utils import cv_imshow, color_show, quadrant_bboxes, crop_bbox\n",
    "from saac.models import SkinColorMeanExtractor, SkinColorModeExtractor\n",
    "from saac.image_analysis.process import ImageEqualizer, MidJourneyProcessor"
   ]
  },
  {
   "cell_type": "markdown",
   "id": "7a926f0c",
   "metadata": {
    "pycharm": {
     "name": "#%% md\n"
    }
   },
   "source": [
    "## Sample Midjourney image"
   ]
  },
  {
   "cell_type": "code",
   "execution_count": null,
   "id": "0d5b3ffc",
   "metadata": {
    "pycharm": {
     "name": "#%%\n"
    }
   },
   "outputs": [],
   "source": [
    "images_root = Path('./data/mj_raw')\n",
    "\n",
    "img_path = list(images_root.glob('*.png'))[23]\n",
    "print(img_path)\n",
    "\n",
    "img_2x2 = cv.imread(str(img_path))\n",
    "cv_imshow(img_2x2)"
   ]
  },
  {
   "cell_type": "markdown",
   "id": "95f13106",
   "metadata": {
    "pycharm": {
     "name": "#%% md\n"
    }
   },
   "source": [
    "### Crop quadrant and get DeepFace predictions"
   ]
  },
  {
   "cell_type": "code",
   "execution_count": null,
   "id": "08f360c8",
   "metadata": {
    "pycharm": {
     "name": "#%%\n"
    }
   },
   "outputs": [],
   "source": [
    "image = crop_bbox(img_2x2, quadrant_bboxes(img_2x2.shape[:2])[2])\n",
    "cv_imshow(image)"
   ]
  },
  {
   "cell_type": "code",
   "execution_count": null,
   "id": "1d5e0a90",
   "metadata": {
    "pycharm": {
     "name": "#%%\n"
    }
   },
   "outputs": [],
   "source": [
    "processor = MidJourneyProcessor()\n",
    "\n",
    "preds = processor.image_predictions(image)\n",
    "pprint(preds)\n",
    "bbox = preds['bbox']\n",
    "face = crop_bbox(image, bbox)\n",
    "cv_imshow(face)"
   ]
  },
  {
   "cell_type": "markdown",
   "id": "5e7214a6",
   "metadata": {
    "pycharm": {
     "name": "#%% md\n"
    }
   },
   "source": [
    "## Apply skin color extractors"
   ]
  },
  {
   "cell_type": "code",
   "execution_count": null,
   "id": "dd67536d",
   "metadata": {
    "pycharm": {
     "name": "#%%\n"
    }
   },
   "outputs": [],
   "source": [
    "lower_quantile = 0.5\n",
    "upper_quantile = 0.9\n",
    "rgb_threshold = True\n",
    "hist_bins = 25\n",
    "\n",
    "mean_extractor = SkinColorMeanExtractor(\n",
    "    lower_quantile=lower_quantile,\n",
    "    upper_quantile=upper_quantile,\n",
    ")\n",
    "\n",
    "mode_extractor = SkinColorModeExtractor(\n",
    "    lower_quantile=lower_quantile,\n",
    "    upper_quantile=upper_quantile,\n",
    "    hist_bins=hist_bins\n",
    ")\n",
    "\n",
    "mean_color, mean_mask = mean_extractor.extract(face)\n",
    "mode_color, mode_mask = mode_extractor.extract(face)\n",
    "\n",
    "fig, ax = plt.subplots(2, 2, figsize=(8, 8))\n",
    "\n",
    "cv_imshow(face*mean_mask[:, :, np.newaxis], ax=ax[0,0])\n",
    "color_show(mean_color, ax=ax[1, 0])\n",
    "ax[0,0].set_title('Mean')\n",
    "\n",
    "cv_imshow(face*mode_mask[:, :, np.newaxis], ax=ax[0,1])\n",
    "color_show(mode_color, ax=ax[1, 1])\n",
    "ax[0,1].set_title('Mode')\n",
    "\n",
    "fig.suptitle('Skin Color Extractors');"
   ]
  },
  {
   "cell_type": "markdown",
   "id": "cb828e7f",
   "metadata": {
    "pycharm": {
     "name": "#%% md\n"
    }
   },
   "source": [
    "## Apply image equalizer before extraction"
   ]
  },
  {
   "cell_type": "code",
   "execution_count": null,
   "id": "81b459fa",
   "metadata": {
    "pycharm": {
     "name": "#%%\n"
    }
   },
   "outputs": [],
   "source": [
    "clip_limit = 2.0\n",
    "grid_size = 8\n",
    "\n",
    "equalizer = ImageEqualizer(\n",
    "    clipLimit=clip_limit,\n",
    "    grid_size=grid_size\n",
    ")\n",
    "\n",
    "image_cl = equalizer.equalize(image)\n",
    "\n",
    "fig, ax = plt.subplots(1, 2, figsize=(8, 4))\n",
    "                       \n",
    "cv_imshow(image, ax=ax[0])\n",
    "ax[0].set_title('Unequalized')\n",
    "\n",
    "cv_imshow(image_cl, ax=ax[1])\n",
    "ax[1].set_title('Equalized')"
   ]
  },
  {
   "cell_type": "code",
   "execution_count": null,
   "id": "d3d5efde",
   "metadata": {
    "pycharm": {
     "name": "#%%\n"
    }
   },
   "outputs": [],
   "source": [
    "face_cl = crop_bbox(image_cl, bbox)\n",
    "\n",
    "mean_color, mean_mask = mean_extractor.extract(face_cl)\n",
    "mode_color, mode_mask = mode_extractor.extract(face_cl)\n",
    "\n",
    "fig, ax = plt.subplots(2, 2, figsize=(8, 8))\n",
    "\n",
    "cv_imshow(face*mean_mask[:, :, np.newaxis], ax=ax[0,0])\n",
    "color_show(mean_color, ax=ax[1, 0])\n",
    "ax[0,0].set_title('Mean')\n",
    "\n",
    "cv_imshow(face*mode_mask[:, :, np.newaxis], ax=ax[0,1])\n",
    "color_show(mode_color, ax=ax[1, 1])\n",
    "ax[0,1].set_title('Mode')\n",
    "\n",
    "fig.suptitle('Skin Color Extractors (Equalized)');"
   ]
  },
  {
   "cell_type": "code",
   "execution_count": null,
   "id": "8011ce28",
   "metadata": {
    "pycharm": {
     "name": "#%%\n"
    }
   },
   "outputs": [],
   "source": []
  }
 ],
 "metadata": {
  "kernelspec": {
   "display_name": "conda_saac_p39",
   "language": "python",
   "name": "conda_saac_p39"
  },
  "language_info": {
   "codemirror_mode": {
    "name": "ipython",
    "version": 3
   },
   "file_extension": ".py",
   "mimetype": "text/x-python",
   "name": "python",
   "nbconvert_exporter": "python",
   "pygments_lexer": "ipython3",
   "version": "3.9.15"
  }
 },
 "nbformat": 4,
 "nbformat_minor": 5
}
