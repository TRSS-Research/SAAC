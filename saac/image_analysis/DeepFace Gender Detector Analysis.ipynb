{
 "cells": [
  {
   "cell_type": "markdown",
   "id": "e9f583ea",
   "metadata": {},
   "source": [
    "# Analysis of DeepFace Gender Detector"
   ]
  },
  {
   "cell_type": "code",
   "execution_count": null,
   "id": "fbc9d7ce",
   "metadata": {
    "pycharm": {
     "is_executing": true
    }
   },
   "outputs": [],
   "source": [
    "import itertools\n",
    "import json\n",
    "from pathlib import Path\n",
    "from pprint import pprint\n",
    "\n",
    "import cv2 as cv\n",
    "import joblib\n",
    "import numpy as np\n",
    "import pandas as pd\n",
    "from sklearn import base, calibration, metrics, model_selection\n",
    "from tqdm import tqdm\n",
    "\n",
    "from deepface import DeepFace\n",
    "from deepface.commons import functions\n",
    "from deepface.extendedmodels import Gender\n",
    "\n",
    "from matplotlib import pyplot as plt"
   ]
  },
  {
   "cell_type": "code",
   "execution_count": null,
   "id": "1d737271",
   "metadata": {
    "pycharm": {
     "is_executing": true
    }
   },
   "outputs": [],
   "source": [
    "from saac.utils import cv_imshow, color_show, quadrant_bboxes, crop_bbox\n",
    "from saac.models import IdentityClassifier, CalibratedGenderModel\n",
    "from saac.image_analysis.process import MidJourneyProcessor"
   ]
  },
  {
   "cell_type": "markdown",
   "id": "3dd7267b",
   "metadata": {},
   "source": [
    "## Labeled Midjourney dataset"
   ]
  },
  {
   "cell_type": "code",
   "execution_count": null,
   "id": "908633fc",
   "metadata": {},
   "outputs": [],
   "source": [
    "midjourney_root = Path('./data/mj_raw')\n",
    "\n",
    "labels = sorted(list(map(lambda p: p.stem, midjourney_root.glob('*'))))\n",
    "#print(f'Labels: {labels}')\n",
    "\n",
    "midjourney_ds = list(itertools.chain.from_iterable([zip((midjourney_root / Path(label)).glob('*.png'), itertools.repeat(idx)) for idx, label in enumerate(labels)]))\n",
    "\n",
    "print('Midjourney Dataset:')\n",
    "for idx, label in enumerate(labels):\n",
    "    count = len(list(filter(lambda ex: ex[1] == idx, midjourney_ds)))\n",
    "    print(f'{label}: {count}')"
   ]
  },
  {
   "cell_type": "markdown",
   "id": "f5e4591a",
   "metadata": {},
   "source": [
    "### Load desired gender detector"
   ]
  },
  {
   "cell_type": "code",
   "execution_count": null,
   "id": "ed61b66c",
   "metadata": {
    "scrolled": true,
    "tags": []
   },
   "outputs": [],
   "source": [
    "df_weight_cache = Path(functions.get_deepface_home()) / Path('.deepface/weights/gender_model_weights.h5')\n",
    "df_weight_cache.unlink(missing_ok=True)\n",
    "\n",
    "gender_model = Gender.loadModel()\n",
    "\n",
    "# df_model_version = Path('../../models/gender_model_transfer.h5')\n",
    "# shutil.copy(df_model_version, df_weight_cache)\n",
    "# gender_model = Gender.loadModel()"
   ]
  },
  {
   "cell_type": "markdown",
   "id": "35f6c122",
   "metadata": {},
   "source": [
    "### Collect predictions"
   ]
  },
  {
   "cell_type": "code",
   "execution_count": null,
   "id": "74d05a9f",
   "metadata": {
    "scrolled": true,
    "tags": []
   },
   "outputs": [],
   "source": [
    "kwargs = {\n",
    "    'equalizer': True,\n",
    "    'detector_backend': 'mtcnn',\n",
    "    'actions': ('gender',),\n",
    "    'models': { 'gender': gender_model }\n",
    "}\n",
    "\n",
    "processor = MidJourneyProcessor()\n",
    "\n",
    "all_predictions = []\n",
    "\n",
    "for image_path, label in tqdm(midjourney_ds):\n",
    "    image = cv.imread(str(image_path))\n",
    "    assert(image.shape == (256, 256, 3))\n",
    "    predictions =  processor.image_predictions(image, **kwargs)\n",
    "    if predictions is None:\n",
    "        predictions = {}\n",
    "    predictions['image'] = image_path\n",
    "    predictions['label'] = label\n",
    "    all_predictions.append(predictions)"
   ]
  },
  {
   "cell_type": "code",
   "execution_count": null,
   "id": "a61620e0",
   "metadata": {},
   "outputs": [],
   "source": [
    "predictions_path = Path('./analysis_deepface_default_equalized.csv')\n",
    "\n",
    "if not predictions_path.exists():\n",
    "    df = pd.json_normalize(all_predictions)\n",
    "    df = df.reindex(columns=['image', 'label', 'bbox', 'gender.Woman', 'gender.Man'])\n",
    "    df.to_csv(str(predictions_path), index=False)"
   ]
  },
  {
   "cell_type": "markdown",
   "id": "b72f61fa",
   "metadata": {},
   "source": [
    "### Analyze face detections"
   ]
  },
  {
   "cell_type": "code",
   "execution_count": null,
   "id": "75270305",
   "metadata": {},
   "outputs": [],
   "source": [
    "all_predictions = json.loads(pd.read_csv(str(predictions_path)).to_json(orient='records'))\n",
    "all_labels = list(map(lambda p: p['label'], all_predictions))"
   ]
  },
  {
   "cell_type": "code",
   "execution_count": null,
   "id": "b968b6b9",
   "metadata": {},
   "outputs": [],
   "source": [
    "predictions_detect = list(map(lambda p: 1 if p['bbox'] is not None else 0, all_predictions))\n",
    "labels_detect = [1]*len(all_labels)\n",
    "\n",
    "print(metrics.classification_report(labels_detect, predictions_detect, target_names=['no detect', 'detect']))"
   ]
  },
  {
   "cell_type": "code",
   "execution_count": null,
   "id": "038e5839",
   "metadata": {},
   "outputs": [],
   "source": [
    "cm = metrics.confusion_matrix(labels_detect, predictions_detect)\n",
    "disp = metrics.ConfusionMatrixDisplay(confusion_matrix=cm, display_labels=['no detect', 'detect'])\n",
    "disp.plot()"
   ]
  },
  {
   "cell_type": "markdown",
   "id": "422c3f3c",
   "metadata": {},
   "source": [
    "### Analyze gender detections"
   ]
  },
  {
   "cell_type": "code",
   "execution_count": null,
   "id": "c90b461f",
   "metadata": {},
   "outputs": [],
   "source": [
    "threshold = 0.5\n",
    "\n",
    "predictions_gender = list(map(lambda p: (p['gender.Man']/100, 1 if p['gender.Man']/100 >= threshold else 0) if p['bbox'] else None, all_predictions))\n",
    "                \n",
    "labels_gender = all_labels\n",
    "\n",
    "labels_gender, predictions_gender = zip(*list(filter(lambda p: p[0] is not None and p[1] is not None, zip(labels_gender, predictions_gender))))\n",
    "labels_gender = list(labels_gender)"
   ]
  },
  {
   "cell_type": "code",
   "execution_count": null,
   "id": "5b0e4799",
   "metadata": {},
   "outputs": [],
   "source": [
    "print(metrics.classification_report(labels_gender, [p[1] for p in predictions_gender], target_names=['Woman', 'Man']))"
   ]
  },
  {
   "cell_type": "code",
   "execution_count": null,
   "id": "0619106b",
   "metadata": {},
   "outputs": [],
   "source": [
    "cm = metrics.confusion_matrix(labels_gender, [p[1] for p in predictions_gender])\n",
    "disp = metrics.ConfusionMatrixDisplay(confusion_matrix=cm, display_labels=['Woman', 'Man'])\n",
    "disp.plot()"
   ]
  },
  {
   "cell_type": "code",
   "execution_count": null,
   "id": "3ba51e70",
   "metadata": {},
   "outputs": [],
   "source": [
    "disp = metrics.RocCurveDisplay.from_predictions(labels_gender, [p[0] for p in predictions_gender])\n",
    "disp"
   ]
  },
  {
   "cell_type": "code",
   "execution_count": null,
   "id": "46e1a3c8",
   "metadata": {},
   "outputs": [],
   "source": [
    "plt.hist([p[0] for p in predictions_gender], bins=20)\n",
    "plt.title('Gender Probabilities')"
   ]
  },
  {
   "cell_type": "markdown",
   "id": "96891d83",
   "metadata": {},
   "source": [
    "## Gender detector calibration"
   ]
  },
  {
   "cell_type": "code",
   "execution_count": null,
   "id": "87b0e401",
   "metadata": {},
   "outputs": [],
   "source": [
    "disp = calibration.CalibrationDisplay.from_predictions(labels_gender, [p[0] for p in predictions_gender], n_bins=5)\n",
    "disp"
   ]
  },
  {
   "cell_type": "code",
   "execution_count": null,
   "id": "b408513c",
   "metadata": {},
   "outputs": [],
   "source": [
    "predictions_gender_train, predictions_gender_test, labels_gender_train, labels_gender_test = model_selection.train_test_split(\n",
    "    predictions_gender, labels_gender,\n",
    "    test_size=0.33,\n",
    "    stratify=labels_gender,\n",
    "    random_state=42)"
   ]
  },
  {
   "cell_type": "markdown",
   "id": "166ce644",
   "metadata": {},
   "source": [
    "### Fit calibrated classifier"
   ]
  },
  {
   "cell_type": "code",
   "execution_count": null,
   "id": "ba1603c4",
   "metadata": {},
   "outputs": [],
   "source": [
    "base_clf = IdentityClassifier(threshold=0.5)\n",
    "pprint(base_clf.predict_proba(np.array([p[0] for p in predictions_gender_train]))[:10])\n",
    "pprint(np.array([p[0] for p in predictions_gender_train])[:10])"
   ]
  },
  {
   "cell_type": "code",
   "execution_count": null,
   "id": "545a3e56",
   "metadata": {},
   "outputs": [],
   "source": [
    "calibrated_clf = calibration.CalibratedClassifierCV(base_estimator=base_clf, method='isotonic', cv='prefit')\n",
    "calibrated_clf.fit(np.array([p[0] for p in predictions_gender_train]), np.array(labels_gender_train))"
   ]
  },
  {
   "cell_type": "markdown",
   "id": "7636d949",
   "metadata": {},
   "source": [
    "### Evaluate calibrated classifier"
   ]
  },
  {
   "cell_type": "code",
   "execution_count": null,
   "id": "99e74d06",
   "metadata": {},
   "outputs": [],
   "source": [
    "print(metrics.classification_report(labels_gender_test,\n",
    "                                    calibrated_clf.predict(np.array([p[0] for p in predictions_gender_test])),\n",
    "                                    target_names=['Woman', 'Man']))"
   ]
  },
  {
   "cell_type": "code",
   "execution_count": null,
   "id": "1a974a90",
   "metadata": {},
   "outputs": [],
   "source": [
    "cm = metrics.confusion_matrix(labels_gender_test, calibrated_clf.predict(np.array([p[0] for p in predictions_gender_test])))\n",
    "disp = metrics.ConfusionMatrixDisplay(confusion_matrix=cm, display_labels=['Woman', 'Man'])\n",
    "disp.plot()"
   ]
  },
  {
   "cell_type": "code",
   "execution_count": null,
   "id": "230f2957",
   "metadata": {},
   "outputs": [],
   "source": [
    "disp = metrics.RocCurveDisplay.from_predictions(labels_gender_test, calibrated_clf.predict_proba(np.array([p[0] for p in predictions_gender_test]))[:, 1])\n",
    "disp"
   ]
  },
  {
   "cell_type": "code",
   "execution_count": null,
   "id": "0c7b7414",
   "metadata": {},
   "outputs": [],
   "source": [
    "disp = calibration.CalibrationDisplay.from_predictions(labels_gender_test, calibrated_clf.predict_proba(np.array([p[0] for p in predictions_gender_test]))[:, 1], n_bins=5)\n",
    "disp"
   ]
  },
  {
   "cell_type": "markdown",
   "id": "b5c440f4",
   "metadata": {},
   "source": [
    "### Save model"
   ]
  },
  {
   "cell_type": "code",
   "execution_count": null,
   "id": "a3e5804e",
   "metadata": {},
   "outputs": [],
   "source": [
    "calibrated_model_path = Path('../../models/gender_model_default_calibrated.joblib')\n",
    "\n",
    "joblib.dump(calibrated_clf, calibrated_model_path)"
   ]
  },
  {
   "cell_type": "code",
   "execution_count": null,
   "id": "27b67526",
   "metadata": {},
   "outputs": [],
   "source": [
    "calibrated_clf = joblib.load(calibrated_model_path)"
   ]
  },
  {
   "cell_type": "markdown",
   "id": "7cbb560a",
   "metadata": {},
   "source": [
    "### Run calibrated model on test data"
   ]
  },
  {
   "cell_type": "code",
   "execution_count": null,
   "id": "8c69d8bc",
   "metadata": {},
   "outputs": [],
   "source": [
    "df_default_models = {\n",
    "    'age': DeepFace.build_model('Age'),\n",
    "    'gender': DeepFace.build_model('Gender'),\n",
    "    'emotion': DeepFace.build_model('Emotion'),\n",
    "    'race': DeepFace.build_model('Race')\n",
    "}\n",
    "\n",
    "calibrated_gender_model = CalibratedGenderModel(\n",
    "    gender_model=df_default_models['gender'],\n",
    "    calibrator=calibrated_clf\n",
    ")"
   ]
  },
  {
   "cell_type": "code",
   "execution_count": null,
   "id": "af8c796d",
   "metadata": {
    "scrolled": true,
    "tags": []
   },
   "outputs": [],
   "source": [
    "kwargs = {\n",
    "    'equalizer': True,\n",
    "    'detector_backend': 'mtcnn',\n",
    "    'actions': ('gender',),\n",
    "    'models': { 'gender': calibrated_gender_model }\n",
    "}\n",
    "\n",
    "all_predictions = []\n",
    "\n",
    "for image_path, label in tqdm(midjourney_ds):\n",
    "    image = cv.imread(str(image_path))\n",
    "    assert(image.shape == (256, 256, 3))\n",
    "    predictions =  processor.image_predictions(image, **kwargs)\n",
    "    if predictions is None:\n",
    "        predictions = {}\n",
    "    predictions['image'] = image_path\n",
    "    predictions['label'] = label\n",
    "    all_predictions.append(predictions)"
   ]
  },
  {
   "cell_type": "code",
   "execution_count": null,
   "id": "5cfb6fea",
   "metadata": {},
   "outputs": [],
   "source": [
    "predictions_path = Path('./analysis_deepface_calibrated_equalized.csv')\n",
    "\n",
    "if not predictions_path.exists():\n",
    "    df = pd.json_normalize(all_predictions)\n",
    "    df = df.reindex(columns=['image', 'label', 'bbox', 'gender.Woman', 'gender.Man'])\n",
    "    df.to_csv(str(predictions_path), index=False)"
   ]
  },
  {
   "cell_type": "code",
   "execution_count": null,
   "id": "1eb4b70d",
   "metadata": {},
   "outputs": [],
   "source": [
    "all_predictions = json.loads(pd.read_csv(str(predictions_path)).to_json(orient='records'))\n",
    "all_labels = list(map(lambda p: p['label'], all_predictions))"
   ]
  },
  {
   "cell_type": "markdown",
   "id": "8355ac1d",
   "metadata": {},
   "source": [
    "### Evaluate calibrated model"
   ]
  },
  {
   "cell_type": "code",
   "execution_count": null,
   "id": "2c3e7034",
   "metadata": {},
   "outputs": [],
   "source": [
    "threshold = 0.5\n",
    "\n",
    "predictions_gender = list(map(lambda p: (p['gender.Man']/100, 1 if p['gender.Man']/100 >= threshold else 0) if p['bbox'] else None, all_predictions))\n",
    "                \n",
    "labels_gender = all_labels\n",
    "\n",
    "labels_gender, predictions_gender = zip(*list(filter(lambda p: p[0] is not None and p[1] is not None, zip(labels_gender, predictions_gender))))\n",
    "labels_gender = list(labels_gender)"
   ]
  },
  {
   "cell_type": "code",
   "execution_count": null,
   "id": "cadb93be",
   "metadata": {},
   "outputs": [],
   "source": [
    "print(metrics.classification_report(labels_gender, [p[1] for p in predictions_gender], target_names=['Woman', 'Man']))"
   ]
  },
  {
   "cell_type": "code",
   "execution_count": null,
   "id": "3c57e292",
   "metadata": {},
   "outputs": [],
   "source": [
    "cm = metrics.confusion_matrix(labels_gender, [p[1] for p in predictions_gender])\n",
    "disp = metrics.ConfusionMatrixDisplay(confusion_matrix=cm, display_labels=['Woman', 'Man'])\n",
    "disp.plot()"
   ]
  },
  {
   "cell_type": "code",
   "execution_count": null,
   "id": "18cad4e9",
   "metadata": {},
   "outputs": [],
   "source": [
    "disp = metrics.RocCurveDisplay.from_predictions(labels_gender, [p[0] for p in predictions_gender])\n",
    "disp"
   ]
  },
  {
   "cell_type": "code",
   "execution_count": null,
   "id": "8ad01e85",
   "metadata": {},
   "outputs": [],
   "source": []
  }
 ],
 "metadata": {
  "kernelspec": {
   "display_name": "Python 3 (ipykernel)",
   "language": "python",
   "name": "python3"
  },
  "language_info": {
   "codemirror_mode": {
    "name": "ipython",
    "version": 3
   },
   "file_extension": ".py",
   "mimetype": "text/x-python",
   "name": "python",
   "nbconvert_exporter": "python",
   "pygments_lexer": "ipython3",
   "version": "3.9.16"
  }
 },
 "nbformat": 4,
 "nbformat_minor": 5
}
