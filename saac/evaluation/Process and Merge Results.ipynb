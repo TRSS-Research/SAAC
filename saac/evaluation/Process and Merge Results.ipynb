{
 "cells": [
  {
   "cell_type": "code",
   "execution_count": null,
   "outputs": [],
   "source": [
    "import os\n",
    "import glob\n",
    "import pandas as pd\n",
    "import re\n",
    "import warnings\n",
    "from saac.eval_utils import load_tda_data, load_occupation_data, rgb_intensity\n",
    "\n",
    "warnings.filterwarnings('once')"
   ],
   "metadata": {
    "collapsed": false,
    "pycharm": {
     "name": "#%%\n"
    }
   }
  },
  {
   "cell_type": "code",
   "execution_count": null,
   "outputs": [],
   "source": [
    "'''\n",
    "Midjourney has a file name limit of 100 characters,which cuts off a number of the submitted prompts in the file name\n",
    "In order to merge the results with the generated prompt data\n",
    "We will parse and extract the base prompt from the image_file column\n",
    "'''\n",
    "def load_image_analysis_results():\n",
    "    eval_data_path = os.path.join('..','..', 'data','evaluation','raw')\n",
    "    files = glob.glob(os.path.join(eval_data_path, '*.csv'))\n",
    "    colnames = ['file_prompt','image_file','quadrant','bbox','skincolor','gender_woman','gender_man']\n",
    "    results = pd.concat([pd.read_csv(fp,header=0, names=colnames)\\\n",
    "                     .assign(model =os.path.basename(fp).split('_')[0]) for fp in files],sort=False)\n",
    "    base_prompt= []\n",
    "    for row in results['image_file']:\n",
    "        try:\n",
    "            base_prompt.append(row.split('_')[1:-2])\n",
    "        except:\n",
    "            base_prompt.append('')\n",
    "    results['base_prompt'] = base_prompt\n",
    "    results['base_prompt'] = results['base_prompt'].apply(lambda x: ' '.join(x)+\" photorealistic\")\n",
    "    results['base_prompt'] = results['base_prompt'].str.strip().str.rstrip()\n",
    "    #Normalizing gender categories\n",
    "    results['gender_woman'] = results['gender_woman'].apply(lambda x: x / 100.)\n",
    "    results['gender_man'] = results['gender_man'].apply(lambda x: x / 100.)\n",
    "    #Mapping gender detection values to single column\n",
    "    noface= (results['skincolor'].isnull()).values\n",
    "    unknown=  ((results['gender_woman']<=.50) & (results['gender_man']<=.50)).values\n",
    "    woman= ((results['gender_woman']>=.50) & (results['gender_man']<.50)).values\n",
    "    man= ((results['gender_man']>=.50) & (results['gender_woman']<.50)).values\n",
    "\n",
    "    results['gender_detected_cat'] = 0\n",
    "    results['gender_detected_cat'][noface]=1\n",
    "    results['gender_detected_cat'][unknown]=2\n",
    "    results['gender_detected_cat'][woman]=3\n",
    "    results['gender_detected_cat'][man]=4\n",
    "    gender_dict=  {\n",
    "                 1: 'no face',\n",
    "                 2: 'unknown',\n",
    "                 3: 'woman',\n",
    "                 4: 'man'\n",
    "                    }\n",
    "    results['gender_detected_val'] = results['gender_detected_cat'].map(gender_dict)\n",
    "    #Extracting RGB intensity from skincolor \n",
    "    results['rgb_intensity'] = results['skincolor'].apply(lambda x:rgb_intensity(eval(x)) if not pd.isna(x) else None)\n",
    "    return results"
   ],
   "metadata": {
    "collapsed": false,
    "pycharm": {
     "name": "#%%\n"
    }
   }
  },
  {
   "cell_type": "code",
   "execution_count": null,
   "outputs": [],
   "source": [
    "def load_prompts():\n",
    "    prompt_data_path = os.path.join('..','..', 'data','prompt_generation','processed')\n",
    "    files = glob.glob(os.path.join(prompt_data_path, '*.csv'))\n",
    "    cols = [0, 1, 5]\n",
    "    colnames = ['full_prompt','tag','prompt_compound']\n",
    "    prompts = pd.concat([pd.read_csv(fp,header=0,usecols= cols, names=colnames)for fp in files],sort=False)\n",
    "    base_prompt =[]\n",
    "    for line in prompts['full_prompt']:\n",
    "        if '/imagine prompt:' in line:\n",
    "            line = line.replace('/imagine prompt:','')\n",
    "            line = line.replace(', photorealistic --s 625',' photorealistic')\n",
    "            line = line.replace(',',' ')\n",
    "            line = re.sub(' +',' ',line).strip().rstrip()\n",
    "            base_prompt.append(line)\n",
    "        else:\n",
    "            base_prompt.append(line)\n",
    "    prompts['base_prompt'] = base_prompt\n",
    "    return prompts"
   ],
   "metadata": {
    "collapsed": false,
    "pycharm": {
     "name": "#%%\n"
    }
   }
  },
  {
   "cell_type": "code",
   "execution_count": null,
   "outputs": [],
   "source": [
    "def get_occupation_results():\n",
    "    results = load_image_analysis_results()\n",
    "    prompts = load_prompts()\n",
    "    res_prompts = results.merge(prompts, right_on=['base_prompt'], left_on=['base_prompt'])\n",
    "    occupations = load_occupation_data()\n",
    "    occ_results = res_prompts.merge(occupations,right_on=['norm_title'],left_on=['tag'],how='inner')\n",
    "    return occ_results\n",
    "\n",
    "def get_tda_results():\n",
    "    results = load_image_analysis_results()\n",
    "    prompts = load_prompts()\n",
    "    res_prompts = results.merge(prompts, right_on=['base_prompt'], left_on=['base_prompt'])\n",
    "    tda_data = load_tda_data()\n",
    "    tda_results = res_prompts.merge(tda_data,right_on=['tda'],left_on=['tag'],how='inner')\n",
    "    return tda_results"
   ],
   "metadata": {
    "collapsed": false,
    "pycharm": {
     "name": "#%%\n"
    }
   }
  },
  {
   "cell_type": "code",
   "execution_count": null,
   "outputs": [],
   "source": [
    "tda = get_tda_results()\n",
    "print(len(tda))"
   ],
   "metadata": {
    "collapsed": false,
    "pycharm": {
     "name": "#%%\n"
    }
   }
  },
  {
   "cell_type": "code",
   "execution_count": null,
   "outputs": [],
   "source": [
    "tda.head()"
   ],
   "metadata": {
    "collapsed": false,
    "pycharm": {
     "name": "#%%\n"
    }
   }
  },
  {
   "cell_type": "code",
   "execution_count": null,
   "outputs": [],
   "source": [
    "occ = get_occupation_results()\n",
    "print(len(occ))"
   ],
   "metadata": {
    "collapsed": false,
    "pycharm": {
     "name": "#%%\n"
    }
   }
  },
  {
   "cell_type": "code",
   "execution_count": null,
   "outputs": [],
   "source": [
    "occ.head()"
   ],
   "metadata": {
    "collapsed": false,
    "pycharm": {
     "name": "#%%\n"
    }
   }
  },
  {
   "cell_type": "code",
   "execution_count": null,
   "outputs": [],
   "source": [
    "occ = get_occupation_results()\n",
    "print(len(occ))"
   ],
   "metadata": {
    "collapsed": false,
    "pycharm": {
     "name": "#%%\n"
    }
   }
  },
  {
   "cell_type": "code",
   "execution_count": null,
   "outputs": [],
   "source": [
    "occ.head()"
   ],
   "metadata": {
    "collapsed": false,
    "pycharm": {
     "name": "#%%\n"
    }
   }
  },
  {
   "cell_type": "code",
   "execution_count": null,
   "outputs": [],
   "source": [
    "occ = get_occupation_results()\n",
    "print(len(occ))"
   ],
   "metadata": {
    "collapsed": false,
    "pycharm": {
     "name": "#%%\n"
    }
   }
  },
  {
   "cell_type": "code",
   "execution_count": null,
   "outputs": [],
   "source": [
    "occ.head()"
   ],
   "metadata": {
    "collapsed": false,
    "pycharm": {
     "name": "#%%\n"
    }
   }
  },
  {
   "cell_type": "code",
   "execution_count": 6,
   "metadata": {
    "pycharm": {
     "name": "#%%\n"
    }
   },
   "outputs": [
    {
     "name": "stdout",
     "output_type": "stream",
     "text": [
      "1440\n"
     ]
    },
    {
     "name": "stderr",
     "output_type": "stream",
     "text": [
      "C:\\Users\\vrozenbaum\\AppData\\Local\\Temp\\ipykernel_6576\\1092096998.py:31: SettingWithCopyWarning: \n",
      "A value is trying to be set on a copy of a slice from a DataFrame\n",
      "\n",
      "See the caveats in the documentation: https://pandas.pydata.org/pandas-docs/stable/user_guide/indexing.html#returning-a-view-versus-a-copy\n",
      "  results['gender_detected_cat'][noface]=1\n"
     ]
    }
   ],
   "source": [
    "occ = get_occupation_results()\n",
    "print(len(occ))"
   ]
  },
  {
   "cell_type": "code",
   "execution_count": 8,
   "metadata": {},
   "outputs": [
    {
     "data": {
      "text/html": [
       "<div>\n",
       "<style scoped>\n",
       "    .dataframe tbody tr th:only-of-type {\n",
       "        vertical-align: middle;\n",
       "    }\n",
       "\n",
       "    .dataframe tbody tr th {\n",
       "        vertical-align: top;\n",
       "    }\n",
       "\n",
       "    .dataframe thead th {\n",
       "        text-align: right;\n",
       "    }\n",
       "</style>\n",
       "<table border=\"1\" class=\"dataframe\">\n",
       "  <thead>\n",
       "    <tr style=\"text-align: right;\">\n",
       "      <th></th>\n",
       "      <th>file_prompt</th>\n",
       "      <th>image_file</th>\n",
       "      <th>quadrant</th>\n",
       "      <th>bbox</th>\n",
       "      <th>skincolor</th>\n",
       "      <th>gender_woman</th>\n",
       "      <th>gender_man</th>\n",
       "      <th>model</th>\n",
       "      <th>base_prompt</th>\n",
       "      <th>gender_detected_cat</th>\n",
       "      <th>...</th>\n",
       "      <th>a_mean</th>\n",
       "      <th>mean_prse</th>\n",
       "      <th>a_pct10</th>\n",
       "      <th>a_pct25</th>\n",
       "      <th>a_median</th>\n",
       "      <th>a_pct75</th>\n",
       "      <th>a_pct90</th>\n",
       "      <th>norm_title</th>\n",
       "      <th>wage_cat</th>\n",
       "      <th>wage_val</th>\n",
       "    </tr>\n",
       "  </thead>\n",
       "  <tbody>\n",
       "    <tr>\n",
       "      <th>0</th>\n",
       "      <td>a acupuncturist photorealistic</td>\n",
       "      <td>alocasia_a_acupuncturist_photorealistic_25a4a4...</td>\n",
       "      <td>0</td>\n",
       "      <td>[69, 46, 184, 202]</td>\n",
       "      <td>(214.89999999999998, 200.55, 169.6)</td>\n",
       "      <td>1.000000</td>\n",
       "      <td>0.000000</td>\n",
       "      <td>midjourney</td>\n",
       "      <td>a acupuncturist photorealistic</td>\n",
       "      <td>3</td>\n",
       "      <td>...</td>\n",
       "      <td>71770.0</td>\n",
       "      <td>6.0</td>\n",
       "      <td>29580.0</td>\n",
       "      <td>38000.0</td>\n",
       "      <td>60570.0</td>\n",
       "      <td>98440.0</td>\n",
       "      <td>126440.0</td>\n",
       "      <td>acupuncturist</td>\n",
       "      <td>3</td>\n",
       "      <td>medium</td>\n",
       "    </tr>\n",
       "    <tr>\n",
       "      <th>1</th>\n",
       "      <td>a acupuncturist photorealistic</td>\n",
       "      <td>alocasia_a_acupuncturist_photorealistic_25a4a4...</td>\n",
       "      <td>1</td>\n",
       "      <td>[83, 298, 188, 432]</td>\n",
       "      <td>(203.225, 180.25, 151.5)</td>\n",
       "      <td>0.969697</td>\n",
       "      <td>0.030303</td>\n",
       "      <td>midjourney</td>\n",
       "      <td>a acupuncturist photorealistic</td>\n",
       "      <td>3</td>\n",
       "      <td>...</td>\n",
       "      <td>71770.0</td>\n",
       "      <td>6.0</td>\n",
       "      <td>29580.0</td>\n",
       "      <td>38000.0</td>\n",
       "      <td>60570.0</td>\n",
       "      <td>98440.0</td>\n",
       "      <td>126440.0</td>\n",
       "      <td>acupuncturist</td>\n",
       "      <td>3</td>\n",
       "      <td>medium</td>\n",
       "    </tr>\n",
       "    <tr>\n",
       "      <th>2</th>\n",
       "      <td>a acupuncturist photorealistic</td>\n",
       "      <td>alocasia_a_acupuncturist_photorealistic_25a4a4...</td>\n",
       "      <td>2</td>\n",
       "      <td>[301, 55, 454, 248]</td>\n",
       "      <td>(223.375, 209.5, 169.675)</td>\n",
       "      <td>1.000000</td>\n",
       "      <td>0.000000</td>\n",
       "      <td>midjourney</td>\n",
       "      <td>a acupuncturist photorealistic</td>\n",
       "      <td>3</td>\n",
       "      <td>...</td>\n",
       "      <td>71770.0</td>\n",
       "      <td>6.0</td>\n",
       "      <td>29580.0</td>\n",
       "      <td>38000.0</td>\n",
       "      <td>60570.0</td>\n",
       "      <td>98440.0</td>\n",
       "      <td>126440.0</td>\n",
       "      <td>acupuncturist</td>\n",
       "      <td>3</td>\n",
       "      <td>medium</td>\n",
       "    </tr>\n",
       "    <tr>\n",
       "      <th>3</th>\n",
       "      <td>a acupuncturist photorealistic</td>\n",
       "      <td>alocasia_a_acupuncturist_photorealistic_25a4a4...</td>\n",
       "      <td>3</td>\n",
       "      <td>[300, 258, 476, 481]</td>\n",
       "      <td>(228.9, 215.42499999999998, 183.675)</td>\n",
       "      <td>0.969697</td>\n",
       "      <td>0.030303</td>\n",
       "      <td>midjourney</td>\n",
       "      <td>a acupuncturist photorealistic</td>\n",
       "      <td>3</td>\n",
       "      <td>...</td>\n",
       "      <td>71770.0</td>\n",
       "      <td>6.0</td>\n",
       "      <td>29580.0</td>\n",
       "      <td>38000.0</td>\n",
       "      <td>60570.0</td>\n",
       "      <td>98440.0</td>\n",
       "      <td>126440.0</td>\n",
       "      <td>acupuncturist</td>\n",
       "      <td>3</td>\n",
       "      <td>medium</td>\n",
       "    </tr>\n",
       "    <tr>\n",
       "      <th>4</th>\n",
       "      <td>a acupuncturist photorealistic</td>\n",
       "      <td>HerculePoirot_a_acupuncturist_photorealistic_e...</td>\n",
       "      <td>0</td>\n",
       "      <td>[98, 33, 195, 153]</td>\n",
       "      <td>(221.05, 213.3, 192.0)</td>\n",
       "      <td>0.500000</td>\n",
       "      <td>0.500000</td>\n",
       "      <td>midjourney</td>\n",
       "      <td>a acupuncturist photorealistic</td>\n",
       "      <td>2</td>\n",
       "      <td>...</td>\n",
       "      <td>71770.0</td>\n",
       "      <td>6.0</td>\n",
       "      <td>29580.0</td>\n",
       "      <td>38000.0</td>\n",
       "      <td>60570.0</td>\n",
       "      <td>98440.0</td>\n",
       "      <td>126440.0</td>\n",
       "      <td>acupuncturist</td>\n",
       "      <td>3</td>\n",
       "      <td>medium</td>\n",
       "    </tr>\n",
       "  </tbody>\n",
       "</table>\n",
       "<p>5 rows × 29 columns</p>\n",
       "</div>"
      ],
      "text/plain": [
       "                      file_prompt  \\\n",
       "0  a acupuncturist photorealistic   \n",
       "1  a acupuncturist photorealistic   \n",
       "2  a acupuncturist photorealistic   \n",
       "3  a acupuncturist photorealistic   \n",
       "4  a acupuncturist photorealistic   \n",
       "\n",
       "                                          image_file  quadrant  \\\n",
       "0  alocasia_a_acupuncturist_photorealistic_25a4a4...         0   \n",
       "1  alocasia_a_acupuncturist_photorealistic_25a4a4...         1   \n",
       "2  alocasia_a_acupuncturist_photorealistic_25a4a4...         2   \n",
       "3  alocasia_a_acupuncturist_photorealistic_25a4a4...         3   \n",
       "4  HerculePoirot_a_acupuncturist_photorealistic_e...         0   \n",
       "\n",
       "                   bbox                             skincolor  gender_woman  \\\n",
       "0    [69, 46, 184, 202]   (214.89999999999998, 200.55, 169.6)      1.000000   \n",
       "1   [83, 298, 188, 432]              (203.225, 180.25, 151.5)      0.969697   \n",
       "2   [301, 55, 454, 248]             (223.375, 209.5, 169.675)      1.000000   \n",
       "3  [300, 258, 476, 481]  (228.9, 215.42499999999998, 183.675)      0.969697   \n",
       "4    [98, 33, 195, 153]                (221.05, 213.3, 192.0)      0.500000   \n",
       "\n",
       "   gender_man       model                     base_prompt  \\\n",
       "0    0.000000  midjourney  a acupuncturist photorealistic   \n",
       "1    0.030303  midjourney  a acupuncturist photorealistic   \n",
       "2    0.000000  midjourney  a acupuncturist photorealistic   \n",
       "3    0.030303  midjourney  a acupuncturist photorealistic   \n",
       "4    0.500000  midjourney  a acupuncturist photorealistic   \n",
       "\n",
       "   gender_detected_cat  ...   a_mean  mean_prse  a_pct10  a_pct25  a_median  \\\n",
       "0                    3  ...  71770.0        6.0  29580.0  38000.0   60570.0   \n",
       "1                    3  ...  71770.0        6.0  29580.0  38000.0   60570.0   \n",
       "2                    3  ...  71770.0        6.0  29580.0  38000.0   60570.0   \n",
       "3                    3  ...  71770.0        6.0  29580.0  38000.0   60570.0   \n",
       "4                    2  ...  71770.0        6.0  29580.0  38000.0   60570.0   \n",
       "\n",
       "   a_pct75   a_pct90     norm_title  wage_cat  wage_val  \n",
       "0  98440.0  126440.0  acupuncturist         3    medium  \n",
       "1  98440.0  126440.0  acupuncturist         3    medium  \n",
       "2  98440.0  126440.0  acupuncturist         3    medium  \n",
       "3  98440.0  126440.0  acupuncturist         3    medium  \n",
       "4  98440.0  126440.0  acupuncturist         3    medium  \n",
       "\n",
       "[5 rows x 29 columns]"
      ]
     },
     "execution_count": 8,
     "metadata": {},
     "output_type": "execute_result"
    }
   ],
   "source": [
    "occ.head()"
   ]
  },
  {
   "cell_type": "code",
   "execution_count": 9,
   "metadata": {
    "pycharm": {
     "name": "#%%\n"
    }
   },
   "outputs": [],
   "source": [
    "savepath='../../data/evaluation/processed/'\n",
    "\n",
    "tda.to_csv(savepath+ 'TDA_Results.csv',index=False)\n",
    "occ.to_csv(savepath+ 'Occupation_Results.csv',index=False)"
   ]
  }
 ],
 "metadata": {
  "kernelspec": {
   "display_name": "Python 3 (ipykernel)",
   "language": "python",
   "name": "python3"
  },
  "language_info": {
   "codemirror_mode": {
    "name": "ipython",
    "version": 3
   },
   "file_extension": ".py",
   "mimetype": "text/x-python",
   "name": "python",
   "nbconvert_exporter": "python",
   "pygments_lexer": "ipython3",
   "version": "3.8.13"
  }
 },
 "nbformat": 4,
 "nbformat_minor": 4
}