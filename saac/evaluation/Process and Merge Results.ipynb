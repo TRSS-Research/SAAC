{
 "cells": [
  {
   "cell_type": "code",
   "execution_count": 1,
   "metadata": {},
   "outputs": [],
   "source": [
    "import os\n",
    "import glob\n",
    "import pandas as pd\n",
    "import re\n",
    "import warnings\n",
    "from saac.evaluation.eval_utils import load_tda_data, load_occupation_data, rgb_intensity\n",
    "\n",
    "warnings.filterwarnings('ignore')"
   ]
  },
  {
   "cell_type": "code",
   "execution_count": 2,
   "metadata": {},
   "outputs": [
    {
     "data": {
      "text/plain": "                                   prompt  \\\n0          a abrupt person photorealistic   \n1          a abrupt person photorealistic   \n2          a abrupt person photorealistic   \n3          a abrupt person photorealistic   \n4          a absurd person photorealistic   \n..                                    ...   \n88    a threatening person photorealistic   \n89         a trusty person photorealistic   \n90  a ultracritical person photorealistic   \n91    a unequivocal person photorealistic   \n92         a woeful person photorealistic   \n\n                                                image  quadrant  \\\n0   alocasia_a_abrupt_person_photorealistic_e2a54c...         0   \n1   alocasia_a_abrupt_person_photorealistic_e2a54c...         1   \n2   alocasia_a_abrupt_person_photorealistic_e2a54c...         2   \n3   alocasia_a_abrupt_person_photorealistic_e2a54c...         3   \n4   alocasia_a_absurd_person_photorealistic_2c5ea2...         0   \n..                                                ...       ...   \n88                a_threatening_person_photorealistic         0   \n89                     a_trusty_person_photorealistic         0   \n90              a_ultracritical_person_photorealistic         0   \n91                a_unequivocal_person_photorealistic         0   \n92                     a_woeful_person_photorealistic         0   \n\n                    bbox                                         skin color  \\\n0     [55, 14, 200, 208]                              (224.5, 215.7, 205.5)   \n1                    NaN                                                NaN   \n2    [334, 42, 433, 179]                           (159.725, 131.0, 119.95)   \n3   [341, 316, 387, 382]                          (222.325, 211.25, 178.25)   \n4                    NaN                                                NaN   \n..                   ...                                                ...   \n88      [1, 0, 386, 460]  (182.28973195610902, 172.60578562924348, 145.5...   \n89      [1, 0, 162, 233]  (180.64871977240398, 141.19950213371266, 123.2...   \n90      [0, 0, 276, 375]  (195.3508499946541, 175.86573826579706, 146.43...   \n91      [0, 0, 228, 326]  (166.70857660559693, 159.66066035836522, 148.4...   \n92     [52, 0, 442, 548]  (197.79010103892398, 142.24595649749023, 121.1...   \n\n    gender.Woman  gender.Man       model  gender_detected_cat  \\\n0       0.965517    0.034483  midjourney                    3   \n1            NaN         NaN  midjourney                    1   \n2       0.965517    0.034483  midjourney                    3   \n3       0.500000    0.500000  midjourney                    2   \n4            NaN         NaN  midjourney                    1   \n..           ...         ...         ...                  ...   \n88      0.111111    0.888889      stable                    4   \n89      0.333333    0.666667      stable                    4   \n90      0.965517    0.034483      stable                    3   \n91      0.666667    0.333333      stable                    3   \n92      0.071429    0.928571      stable                    4   \n\n   gender_detected_val  rgb_intensity  \n0                woman     216.834440  \n1              no face            NaN  \n2                woman     136.309125  \n3              unknown     211.221945  \n4              no face            NaN  \n..                 ...            ...  \n88                 man     172.713750  \n89                 man     148.290739  \n90               woman     177.883560  \n91               woman     160.349655  \n92                 man     152.532812  \n\n[2973 rows x 11 columns]",
      "text/html": "<div>\n<style scoped>\n    .dataframe tbody tr th:only-of-type {\n        vertical-align: middle;\n    }\n\n    .dataframe tbody tr th {\n        vertical-align: top;\n    }\n\n    .dataframe thead th {\n        text-align: right;\n    }\n</style>\n<table border=\"1\" class=\"dataframe\">\n  <thead>\n    <tr style=\"text-align: right;\">\n      <th></th>\n      <th>prompt</th>\n      <th>image</th>\n      <th>quadrant</th>\n      <th>bbox</th>\n      <th>skin color</th>\n      <th>gender.Woman</th>\n      <th>gender.Man</th>\n      <th>model</th>\n      <th>gender_detected_cat</th>\n      <th>gender_detected_val</th>\n      <th>rgb_intensity</th>\n    </tr>\n  </thead>\n  <tbody>\n    <tr>\n      <th>0</th>\n      <td>a abrupt person photorealistic</td>\n      <td>alocasia_a_abrupt_person_photorealistic_e2a54c...</td>\n      <td>0</td>\n      <td>[55, 14, 200, 208]</td>\n      <td>(224.5, 215.7, 205.5)</td>\n      <td>0.965517</td>\n      <td>0.034483</td>\n      <td>midjourney</td>\n      <td>3</td>\n      <td>woman</td>\n      <td>216.834440</td>\n    </tr>\n    <tr>\n      <th>1</th>\n      <td>a abrupt person photorealistic</td>\n      <td>alocasia_a_abrupt_person_photorealistic_e2a54c...</td>\n      <td>1</td>\n      <td>NaN</td>\n      <td>NaN</td>\n      <td>NaN</td>\n      <td>NaN</td>\n      <td>midjourney</td>\n      <td>1</td>\n      <td>no face</td>\n      <td>NaN</td>\n    </tr>\n    <tr>\n      <th>2</th>\n      <td>a abrupt person photorealistic</td>\n      <td>alocasia_a_abrupt_person_photorealistic_e2a54c...</td>\n      <td>2</td>\n      <td>[334, 42, 433, 179]</td>\n      <td>(159.725, 131.0, 119.95)</td>\n      <td>0.965517</td>\n      <td>0.034483</td>\n      <td>midjourney</td>\n      <td>3</td>\n      <td>woman</td>\n      <td>136.309125</td>\n    </tr>\n    <tr>\n      <th>3</th>\n      <td>a abrupt person photorealistic</td>\n      <td>alocasia_a_abrupt_person_photorealistic_e2a54c...</td>\n      <td>3</td>\n      <td>[341, 316, 387, 382]</td>\n      <td>(222.325, 211.25, 178.25)</td>\n      <td>0.500000</td>\n      <td>0.500000</td>\n      <td>midjourney</td>\n      <td>2</td>\n      <td>unknown</td>\n      <td>211.221945</td>\n    </tr>\n    <tr>\n      <th>4</th>\n      <td>a absurd person photorealistic</td>\n      <td>alocasia_a_absurd_person_photorealistic_2c5ea2...</td>\n      <td>0</td>\n      <td>NaN</td>\n      <td>NaN</td>\n      <td>NaN</td>\n      <td>NaN</td>\n      <td>midjourney</td>\n      <td>1</td>\n      <td>no face</td>\n      <td>NaN</td>\n    </tr>\n    <tr>\n      <th>...</th>\n      <td>...</td>\n      <td>...</td>\n      <td>...</td>\n      <td>...</td>\n      <td>...</td>\n      <td>...</td>\n      <td>...</td>\n      <td>...</td>\n      <td>...</td>\n      <td>...</td>\n      <td>...</td>\n    </tr>\n    <tr>\n      <th>88</th>\n      <td>a threatening person photorealistic</td>\n      <td>a_threatening_person_photorealistic</td>\n      <td>0</td>\n      <td>[1, 0, 386, 460]</td>\n      <td>(182.28973195610902, 172.60578562924348, 145.5...</td>\n      <td>0.111111</td>\n      <td>0.888889</td>\n      <td>stable</td>\n      <td>4</td>\n      <td>man</td>\n      <td>172.713750</td>\n    </tr>\n    <tr>\n      <th>89</th>\n      <td>a trusty person photorealistic</td>\n      <td>a_trusty_person_photorealistic</td>\n      <td>0</td>\n      <td>[1, 0, 162, 233]</td>\n      <td>(180.64871977240398, 141.19950213371266, 123.2...</td>\n      <td>0.333333</td>\n      <td>0.666667</td>\n      <td>stable</td>\n      <td>4</td>\n      <td>man</td>\n      <td>148.290739</td>\n    </tr>\n    <tr>\n      <th>90</th>\n      <td>a ultracritical person photorealistic</td>\n      <td>a_ultracritical_person_photorealistic</td>\n      <td>0</td>\n      <td>[0, 0, 276, 375]</td>\n      <td>(195.3508499946541, 175.86573826579706, 146.43...</td>\n      <td>0.965517</td>\n      <td>0.034483</td>\n      <td>stable</td>\n      <td>3</td>\n      <td>woman</td>\n      <td>177.883560</td>\n    </tr>\n    <tr>\n      <th>91</th>\n      <td>a unequivocal person photorealistic</td>\n      <td>a_unequivocal_person_photorealistic</td>\n      <td>0</td>\n      <td>[0, 0, 228, 326]</td>\n      <td>(166.70857660559693, 159.66066035836522, 148.4...</td>\n      <td>0.666667</td>\n      <td>0.333333</td>\n      <td>stable</td>\n      <td>3</td>\n      <td>woman</td>\n      <td>160.349655</td>\n    </tr>\n    <tr>\n      <th>92</th>\n      <td>a woeful person photorealistic</td>\n      <td>a_woeful_person_photorealistic</td>\n      <td>0</td>\n      <td>[52, 0, 442, 548]</td>\n      <td>(197.79010103892398, 142.24595649749023, 121.1...</td>\n      <td>0.071429</td>\n      <td>0.928571</td>\n      <td>stable</td>\n      <td>4</td>\n      <td>man</td>\n      <td>152.532812</td>\n    </tr>\n  </tbody>\n</table>\n<p>2973 rows × 11 columns</p>\n</div>"
     },
     "execution_count": 2,
     "metadata": {},
     "output_type": "execute_result"
    }
   ],
   "source": [
    "'''\n",
    "Midjourney has a file name limit of 100 characters,which cuts off a number of the submitted prompts in the file name\n",
    "In order to merge the results with the generated prompt data\n",
    "We will parse and extract the base prompt from the image_file column\n",
    "'''\n",
    "\n",
    "def load_image_analysis_results():\n",
    "    eval_data_path = os.path.join('data','raw')\n",
    "    \n",
    "    files = glob.glob(os.path.join(eval_data_path, '*.csv'))\n",
    "    colnames = ['prompt','image','quadrant','bbox','skin color','gender.Woman','gender.Man']\n",
    "    results = pd.concat([pd.read_csv(fp,header=0, names=colnames)\\\n",
    "                     .assign(model =os.path.basename(fp).split('_')[0]) for fp in files],sort=False)\n",
    "  \n",
    "    results['prompt'] = results['prompt'].apply(lambda x: 'a '+x+\" photorealistic\" if x[0]!='a' and 'photorealistic' not in x else x)\n",
    "    #Normalizing gender categories\n",
    "    results['gender.Woman'] = results['gender.Woman'].apply(lambda x: x / 100.)\n",
    "    results['gender.Man'] = results['gender.Man'].apply(lambda x: x / 100.)\n",
    "    #Mapping gender detection values to single column\n",
    "    noface= (results['skin color'].isnull()).values\n",
    "    unknown=  ((results['gender.Woman']<=.50) & (results['gender.Man']<=.50)).values\n",
    "    woman= ((results['gender.Woman']>=.50) & (results['gender.Man']<.50)).values\n",
    "    man= ((results['gender.Man']>=.50) & (results['gender.Woman']<.50)).values\n",
    "\n",
    "    results['gender_detected_cat'] = 0\n",
    "    results['gender_detected_cat'][noface]=1\n",
    "    results['gender_detected_cat'][unknown]=2\n",
    "    results['gender_detected_cat'][woman]=3\n",
    "    results['gender_detected_cat'][man]=4\n",
    "    gender_dict=  {\n",
    "                 1: 'no face',\n",
    "                 2: 'unknown',\n",
    "                 3: 'woman',\n",
    "                 4: 'man'\n",
    "                    }\n",
    "    results['gender_detected_val'] = results['gender_detected_cat'].map(gender_dict)\n",
    "    #Extracting RGB intensity from skin color\n",
    "    results['rgb_intensity'] = results['skin color'].apply(lambda x:rgb_intensity(eval(x)) if not pd.isna(x) else None)\n",
    "    return results\n",
    "load_image_analysis_results()"
   ]
  },
  {
   "cell_type": "code",
   "execution_count": 3,
   "metadata": {},
   "outputs": [
    {
     "data": {
      "text/plain": "                                                prompt  \\\n0                     a pitiless person photorealistic   \n1                         a rash person photorealistic   \n2                       a sinful person photorealistic   \n3                         a fake person photorealistic   \n4                 a discontented person photorealistic   \n..                                                 ...   \n115                     a sales manager photorealistic   \n116  a industrial-organizational psychologist photo...   \n117                         a economist photorealistic   \n118                      a pediatrician photorealistic   \n119                           a manager photorealistic   \n\n                                        tag  compound  \n0                                  pitiless   -0.4215  \n1                                      rash   -0.4019  \n2                                    sinful   -0.5574  \n3                                      fake   -0.4767  \n4                              discontented   -0.4215  \n..                                      ...       ...  \n115                           sales manager    0.0000  \n116  industrial-organizational psychologist    0.0000  \n117                               economist    0.0000  \n118                            pediatrician    0.0000  \n119                                 manager    0.0000  \n\n[120 rows x 3 columns]",
      "text/html": "<div>\n<style scoped>\n    .dataframe tbody tr th:only-of-type {\n        vertical-align: middle;\n    }\n\n    .dataframe tbody tr th {\n        vertical-align: top;\n    }\n\n    .dataframe thead th {\n        text-align: right;\n    }\n</style>\n<table border=\"1\" class=\"dataframe\">\n  <thead>\n    <tr style=\"text-align: right;\">\n      <th></th>\n      <th>prompt</th>\n      <th>tag</th>\n      <th>compound</th>\n    </tr>\n  </thead>\n  <tbody>\n    <tr>\n      <th>0</th>\n      <td>a pitiless person photorealistic</td>\n      <td>pitiless</td>\n      <td>-0.4215</td>\n    </tr>\n    <tr>\n      <th>1</th>\n      <td>a rash person photorealistic</td>\n      <td>rash</td>\n      <td>-0.4019</td>\n    </tr>\n    <tr>\n      <th>2</th>\n      <td>a sinful person photorealistic</td>\n      <td>sinful</td>\n      <td>-0.5574</td>\n    </tr>\n    <tr>\n      <th>3</th>\n      <td>a fake person photorealistic</td>\n      <td>fake</td>\n      <td>-0.4767</td>\n    </tr>\n    <tr>\n      <th>4</th>\n      <td>a discontented person photorealistic</td>\n      <td>discontented</td>\n      <td>-0.4215</td>\n    </tr>\n    <tr>\n      <th>...</th>\n      <td>...</td>\n      <td>...</td>\n      <td>...</td>\n    </tr>\n    <tr>\n      <th>115</th>\n      <td>a sales manager photorealistic</td>\n      <td>sales manager</td>\n      <td>0.0000</td>\n    </tr>\n    <tr>\n      <th>116</th>\n      <td>a industrial-organizational psychologist photo...</td>\n      <td>industrial-organizational psychologist</td>\n      <td>0.0000</td>\n    </tr>\n    <tr>\n      <th>117</th>\n      <td>a economist photorealistic</td>\n      <td>economist</td>\n      <td>0.0000</td>\n    </tr>\n    <tr>\n      <th>118</th>\n      <td>a pediatrician photorealistic</td>\n      <td>pediatrician</td>\n      <td>0.0000</td>\n    </tr>\n    <tr>\n      <th>119</th>\n      <td>a manager photorealistic</td>\n      <td>manager</td>\n      <td>0.0000</td>\n    </tr>\n  </tbody>\n</table>\n<p>120 rows × 3 columns</p>\n</div>"
     },
     "execution_count": 3,
     "metadata": {},
     "output_type": "execute_result"
    }
   ],
   "source": [
    "def load_prompts():\n",
    "    prompt_data_path = os.path.join('..', 'prompt_generation','data','processed')\n",
    "    files = glob.glob(os.path.join(prompt_data_path, '*.csv'))\n",
    "    cols = [0, 1, 5]\n",
    "    colnames = ['prompt','tag','compound']\n",
    "    prompts = pd.concat([pd.read_csv(fp,header=0,usecols= cols, names=colnames)for fp in files],sort=False)\n",
    "    base_prompt =[]\n",
    "    for line in prompts['prompt']:\n",
    "        if '/imagine prompt:' in line: # \"/imagine prompt:a pitiless person, photorealistic --s 625\"\n",
    "            line = line.replace('/imagine prompt:','')\n",
    "            line = line.replace(', photorealistic --s 625',' photorealistic')\n",
    "            line = line.replace(',',' ')\n",
    "            line = re.sub(' +',' ',line).strip().rstrip()\n",
    "            base_prompt.append(line)\n",
    "        else:\n",
    "            line = line.replace(',', ' ')\n",
    "            line = re.sub(' +', ' ', line).strip().rstrip()\n",
    "            base_prompt.append(line)\n",
    "    prompts['prompt'] = base_prompt\n",
    "    return prompts\n",
    "load_prompts()"
   ]
  },
  {
   "cell_type": "code",
   "execution_count": 4,
   "metadata": {},
   "outputs": [],
   "source": [
    "def get_occupation_results(res_prompts):\n",
    "    occupations = load_occupation_data()\n",
    "    occ_results = res_prompts.merge(occupations,right_on=['norm_title'],left_on=['tag'],how='inner')\n",
    "    return occ_results\n",
    "\n",
    "def get_tda_results(res_prompts):\n",
    "    tda_data = load_tda_data()\n",
    "    tda_results = res_prompts.merge(tda_data,right_on=['tda'],left_on=['tag'],how='inner')\n",
    "    return tda_results\n",
    "\n",
    "image_analysis = load_image_analysis_results()\n",
    "prompts = load_prompts()\n",
    "res_prompts = image_analysis.merge(prompts, right_on=['prompt'], left_on=['prompt'])\n"
   ]
  },
  {
   "cell_type": "code",
   "execution_count": 5,
   "metadata": {},
   "outputs": [
    {
     "name": "stdout",
     "output_type": "stream",
     "text": [
      "1483\n"
     ]
    }
   ],
   "source": [
    "tda = get_tda_results(res_prompts)\n",
    "print(len(tda))"
   ]
  },
  {
   "cell_type": "code",
   "execution_count": 6,
   "metadata": {},
   "outputs": [
    {
     "data": {
      "text/plain": "                           prompt  \\\n0  a abrupt person photorealistic   \n1  a abrupt person photorealistic   \n2  a abrupt person photorealistic   \n3  a abrupt person photorealistic   \n4  a abrupt person photorealistic   \n\n                                               image  quadrant  \\\n0  alocasia_a_abrupt_person_photorealistic_e2a54c...         0   \n1  alocasia_a_abrupt_person_photorealistic_e2a54c...         1   \n2  alocasia_a_abrupt_person_photorealistic_e2a54c...         2   \n3  alocasia_a_abrupt_person_photorealistic_e2a54c...         3   \n4  HerculePoirot_a_abrupt_person_photorealistic_4...         0   \n\n                   bbox                          skin color  gender.Woman  \\\n0    [55, 14, 200, 208]               (224.5, 215.7, 205.5)      0.965517   \n1                   NaN                                 NaN           NaN   \n2   [334, 42, 433, 179]            (159.725, 131.0, 119.95)      0.965517   \n3  [341, 316, 387, 382]           (222.325, 211.25, 178.25)      0.500000   \n4    [94, 64, 162, 155]  (138.75, 104.7, 94.20000000000002)      1.000000   \n\n   gender.Man       model  gender_detected_cat gender_detected_val  \\\n0    0.034483  midjourney                    3               woman   \n1         NaN  midjourney                    1             no face   \n2    0.034483  midjourney                    3               woman   \n3    0.500000  midjourney                    2             unknown   \n4    0.000000  midjourney                    3               woman   \n\n   rgb_intensity     tag  compound     tda  tda_compound  tda_sentiment_cat  \\\n0     216.834440  abrupt       0.0  abrupt           0.0                  3   \n1            NaN  abrupt       0.0  abrupt           0.0                  3   \n2     136.309125  abrupt       0.0  abrupt           0.0                  3   \n3     211.221945  abrupt       0.0  abrupt           0.0                  3   \n4     111.180930  abrupt       0.0  abrupt           0.0                  3   \n\n  tda_sentiment_val  \n0           neutral  \n1           neutral  \n2           neutral  \n3           neutral  \n4           neutral  ",
      "text/html": "<div>\n<style scoped>\n    .dataframe tbody tr th:only-of-type {\n        vertical-align: middle;\n    }\n\n    .dataframe tbody tr th {\n        vertical-align: top;\n    }\n\n    .dataframe thead th {\n        text-align: right;\n    }\n</style>\n<table border=\"1\" class=\"dataframe\">\n  <thead>\n    <tr style=\"text-align: right;\">\n      <th></th>\n      <th>prompt</th>\n      <th>image</th>\n      <th>quadrant</th>\n      <th>bbox</th>\n      <th>skin color</th>\n      <th>gender.Woman</th>\n      <th>gender.Man</th>\n      <th>model</th>\n      <th>gender_detected_cat</th>\n      <th>gender_detected_val</th>\n      <th>rgb_intensity</th>\n      <th>tag</th>\n      <th>compound</th>\n      <th>tda</th>\n      <th>tda_compound</th>\n      <th>tda_sentiment_cat</th>\n      <th>tda_sentiment_val</th>\n    </tr>\n  </thead>\n  <tbody>\n    <tr>\n      <th>0</th>\n      <td>a abrupt person photorealistic</td>\n      <td>alocasia_a_abrupt_person_photorealistic_e2a54c...</td>\n      <td>0</td>\n      <td>[55, 14, 200, 208]</td>\n      <td>(224.5, 215.7, 205.5)</td>\n      <td>0.965517</td>\n      <td>0.034483</td>\n      <td>midjourney</td>\n      <td>3</td>\n      <td>woman</td>\n      <td>216.834440</td>\n      <td>abrupt</td>\n      <td>0.0</td>\n      <td>abrupt</td>\n      <td>0.0</td>\n      <td>3</td>\n      <td>neutral</td>\n    </tr>\n    <tr>\n      <th>1</th>\n      <td>a abrupt person photorealistic</td>\n      <td>alocasia_a_abrupt_person_photorealistic_e2a54c...</td>\n      <td>1</td>\n      <td>NaN</td>\n      <td>NaN</td>\n      <td>NaN</td>\n      <td>NaN</td>\n      <td>midjourney</td>\n      <td>1</td>\n      <td>no face</td>\n      <td>NaN</td>\n      <td>abrupt</td>\n      <td>0.0</td>\n      <td>abrupt</td>\n      <td>0.0</td>\n      <td>3</td>\n      <td>neutral</td>\n    </tr>\n    <tr>\n      <th>2</th>\n      <td>a abrupt person photorealistic</td>\n      <td>alocasia_a_abrupt_person_photorealistic_e2a54c...</td>\n      <td>2</td>\n      <td>[334, 42, 433, 179]</td>\n      <td>(159.725, 131.0, 119.95)</td>\n      <td>0.965517</td>\n      <td>0.034483</td>\n      <td>midjourney</td>\n      <td>3</td>\n      <td>woman</td>\n      <td>136.309125</td>\n      <td>abrupt</td>\n      <td>0.0</td>\n      <td>abrupt</td>\n      <td>0.0</td>\n      <td>3</td>\n      <td>neutral</td>\n    </tr>\n    <tr>\n      <th>3</th>\n      <td>a abrupt person photorealistic</td>\n      <td>alocasia_a_abrupt_person_photorealistic_e2a54c...</td>\n      <td>3</td>\n      <td>[341, 316, 387, 382]</td>\n      <td>(222.325, 211.25, 178.25)</td>\n      <td>0.500000</td>\n      <td>0.500000</td>\n      <td>midjourney</td>\n      <td>2</td>\n      <td>unknown</td>\n      <td>211.221945</td>\n      <td>abrupt</td>\n      <td>0.0</td>\n      <td>abrupt</td>\n      <td>0.0</td>\n      <td>3</td>\n      <td>neutral</td>\n    </tr>\n    <tr>\n      <th>4</th>\n      <td>a abrupt person photorealistic</td>\n      <td>HerculePoirot_a_abrupt_person_photorealistic_4...</td>\n      <td>0</td>\n      <td>[94, 64, 162, 155]</td>\n      <td>(138.75, 104.7, 94.20000000000002)</td>\n      <td>1.000000</td>\n      <td>0.000000</td>\n      <td>midjourney</td>\n      <td>3</td>\n      <td>woman</td>\n      <td>111.180930</td>\n      <td>abrupt</td>\n      <td>0.0</td>\n      <td>abrupt</td>\n      <td>0.0</td>\n      <td>3</td>\n      <td>neutral</td>\n    </tr>\n  </tbody>\n</table>\n</div>"
     },
     "execution_count": 6,
     "metadata": {},
     "output_type": "execute_result"
    }
   ],
   "source": [
    "tda.head()"
   ]
  },
  {
   "cell_type": "code",
   "execution_count": 7,
   "metadata": {},
   "outputs": [
    {
     "name": "stdout",
     "output_type": "stream",
     "text": [
      "1375\n"
     ]
    }
   ],
   "source": [
    "occ = get_occupation_results(res_prompts)\n",
    "print(len(occ))"
   ]
  },
  {
   "cell_type": "code",
   "execution_count": 8,
   "metadata": {},
   "outputs": [
    {
     "data": {
      "text/plain": "                           prompt  \\\n0  a acupuncturist photorealistic   \n1  a acupuncturist photorealistic   \n2  a acupuncturist photorealistic   \n3  a acupuncturist photorealistic   \n4  a acupuncturist photorealistic   \n\n                                               image  quadrant  \\\n0  alocasia_a_acupuncturist_photorealistic_25a4a4...         0   \n1  alocasia_a_acupuncturist_photorealistic_25a4a4...         1   \n2  alocasia_a_acupuncturist_photorealistic_25a4a4...         2   \n3  alocasia_a_acupuncturist_photorealistic_25a4a4...         3   \n4  HerculePoirot_a_acupuncturist_photorealistic_e...         0   \n\n                   bbox                            skin color  gender.Woman  \\\n0    [69, 46, 184, 202]   (214.89999999999998, 200.55, 169.6)      1.000000   \n1   [83, 298, 188, 432]              (203.225, 180.25, 151.5)      0.969697   \n2   [301, 55, 454, 248]             (223.375, 209.5, 169.675)      1.000000   \n3  [300, 258, 476, 481]  (228.9, 215.42499999999998, 183.675)      0.969697   \n4    [98, 33, 195, 153]                (221.05, 213.3, 192.0)      0.500000   \n\n   gender.Man       model  gender_detected_cat gender_detected_val  ...  \\\n0    0.000000  midjourney                    3               woman  ...   \n1    0.030303  midjourney                    3               woman  ...   \n2    0.000000  midjourney                    3               woman  ...   \n3    0.030303  midjourney                    3               woman  ...   \n4    0.500000  midjourney                    2             unknown  ...   \n\n    a_mean mean_prse  a_pct10  a_pct25 a_median  a_pct75   a_pct90  \\\n0  71770.0       6.0  29580.0  38000.0  60570.0  98440.0  126440.0   \n1  71770.0       6.0  29580.0  38000.0  60570.0  98440.0  126440.0   \n2  71770.0       6.0  29580.0  38000.0  60570.0  98440.0  126440.0   \n3  71770.0       6.0  29580.0  38000.0  60570.0  98440.0  126440.0   \n4  71770.0       6.0  29580.0  38000.0  60570.0  98440.0  126440.0   \n\n      norm_title  wage_cat  wage_val  \n0  acupuncturist         3    medium  \n1  acupuncturist         3    medium  \n2  acupuncturist         3    medium  \n3  acupuncturist         3    medium  \n4  acupuncturist         3    medium  \n\n[5 rows x 27 columns]",
      "text/html": "<div>\n<style scoped>\n    .dataframe tbody tr th:only-of-type {\n        vertical-align: middle;\n    }\n\n    .dataframe tbody tr th {\n        vertical-align: top;\n    }\n\n    .dataframe thead th {\n        text-align: right;\n    }\n</style>\n<table border=\"1\" class=\"dataframe\">\n  <thead>\n    <tr style=\"text-align: right;\">\n      <th></th>\n      <th>prompt</th>\n      <th>image</th>\n      <th>quadrant</th>\n      <th>bbox</th>\n      <th>skin color</th>\n      <th>gender.Woman</th>\n      <th>gender.Man</th>\n      <th>model</th>\n      <th>gender_detected_cat</th>\n      <th>gender_detected_val</th>\n      <th>...</th>\n      <th>a_mean</th>\n      <th>mean_prse</th>\n      <th>a_pct10</th>\n      <th>a_pct25</th>\n      <th>a_median</th>\n      <th>a_pct75</th>\n      <th>a_pct90</th>\n      <th>norm_title</th>\n      <th>wage_cat</th>\n      <th>wage_val</th>\n    </tr>\n  </thead>\n  <tbody>\n    <tr>\n      <th>0</th>\n      <td>a acupuncturist photorealistic</td>\n      <td>alocasia_a_acupuncturist_photorealistic_25a4a4...</td>\n      <td>0</td>\n      <td>[69, 46, 184, 202]</td>\n      <td>(214.89999999999998, 200.55, 169.6)</td>\n      <td>1.000000</td>\n      <td>0.000000</td>\n      <td>midjourney</td>\n      <td>3</td>\n      <td>woman</td>\n      <td>...</td>\n      <td>71770.0</td>\n      <td>6.0</td>\n      <td>29580.0</td>\n      <td>38000.0</td>\n      <td>60570.0</td>\n      <td>98440.0</td>\n      <td>126440.0</td>\n      <td>acupuncturist</td>\n      <td>3</td>\n      <td>medium</td>\n    </tr>\n    <tr>\n      <th>1</th>\n      <td>a acupuncturist photorealistic</td>\n      <td>alocasia_a_acupuncturist_photorealistic_25a4a4...</td>\n      <td>1</td>\n      <td>[83, 298, 188, 432]</td>\n      <td>(203.225, 180.25, 151.5)</td>\n      <td>0.969697</td>\n      <td>0.030303</td>\n      <td>midjourney</td>\n      <td>3</td>\n      <td>woman</td>\n      <td>...</td>\n      <td>71770.0</td>\n      <td>6.0</td>\n      <td>29580.0</td>\n      <td>38000.0</td>\n      <td>60570.0</td>\n      <td>98440.0</td>\n      <td>126440.0</td>\n      <td>acupuncturist</td>\n      <td>3</td>\n      <td>medium</td>\n    </tr>\n    <tr>\n      <th>2</th>\n      <td>a acupuncturist photorealistic</td>\n      <td>alocasia_a_acupuncturist_photorealistic_25a4a4...</td>\n      <td>2</td>\n      <td>[301, 55, 454, 248]</td>\n      <td>(223.375, 209.5, 169.675)</td>\n      <td>1.000000</td>\n      <td>0.000000</td>\n      <td>midjourney</td>\n      <td>3</td>\n      <td>woman</td>\n      <td>...</td>\n      <td>71770.0</td>\n      <td>6.0</td>\n      <td>29580.0</td>\n      <td>38000.0</td>\n      <td>60570.0</td>\n      <td>98440.0</td>\n      <td>126440.0</td>\n      <td>acupuncturist</td>\n      <td>3</td>\n      <td>medium</td>\n    </tr>\n    <tr>\n      <th>3</th>\n      <td>a acupuncturist photorealistic</td>\n      <td>alocasia_a_acupuncturist_photorealistic_25a4a4...</td>\n      <td>3</td>\n      <td>[300, 258, 476, 481]</td>\n      <td>(228.9, 215.42499999999998, 183.675)</td>\n      <td>0.969697</td>\n      <td>0.030303</td>\n      <td>midjourney</td>\n      <td>3</td>\n      <td>woman</td>\n      <td>...</td>\n      <td>71770.0</td>\n      <td>6.0</td>\n      <td>29580.0</td>\n      <td>38000.0</td>\n      <td>60570.0</td>\n      <td>98440.0</td>\n      <td>126440.0</td>\n      <td>acupuncturist</td>\n      <td>3</td>\n      <td>medium</td>\n    </tr>\n    <tr>\n      <th>4</th>\n      <td>a acupuncturist photorealistic</td>\n      <td>HerculePoirot_a_acupuncturist_photorealistic_e...</td>\n      <td>0</td>\n      <td>[98, 33, 195, 153]</td>\n      <td>(221.05, 213.3, 192.0)</td>\n      <td>0.500000</td>\n      <td>0.500000</td>\n      <td>midjourney</td>\n      <td>2</td>\n      <td>unknown</td>\n      <td>...</td>\n      <td>71770.0</td>\n      <td>6.0</td>\n      <td>29580.0</td>\n      <td>38000.0</td>\n      <td>60570.0</td>\n      <td>98440.0</td>\n      <td>126440.0</td>\n      <td>acupuncturist</td>\n      <td>3</td>\n      <td>medium</td>\n    </tr>\n  </tbody>\n</table>\n<p>5 rows × 27 columns</p>\n</div>"
     },
     "execution_count": 8,
     "metadata": {},
     "output_type": "execute_result"
    }
   ],
   "source": [
    "occ.head()"
   ]
  },
  {
   "cell_type": "code",
   "execution_count": 9,
   "outputs": [],
   "source": [
    "savepath='./data/processed/'\n",
    "\n",
    "tda.to_csv(savepath+ 'TDA_Results.csv',index=False)\n",
    "occ.to_csv(savepath+ 'Occupation_Results.csv',index=False)"
   ],
   "metadata": {
    "collapsed": false
   }
  }
 ],
 "metadata": {
  "kernelspec": {
   "display_name": "Python 3 (ipykernel)",
   "language": "python",
   "name": "python3"
  },
  "language_info": {
   "codemirror_mode": {
    "name": "ipython",
    "version": 3
   },
   "file_extension": ".py",
   "mimetype": "text/x-python",
   "name": "python",
   "nbconvert_exporter": "python",
   "pygments_lexer": "ipython3",
   "version": "3.8.13"
  }
 },
 "nbformat": 4,
 "nbformat_minor": 4
}
