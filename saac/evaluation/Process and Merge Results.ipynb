{
 "cells": [
  {
   "cell_type": "code",
   "execution_count": null,
   "metadata": {
    "pycharm": {
     "name": "#%%\n"
    }
   },
   "outputs": [],
   "source": [
    "import os\n",
    "import glob\n",
    "import pandas as pd\n",
    "import re\n",
    "import warnings\n",
    "from saac.evaluation.eval_utils import load_tda_data, load_occupation_data, rgb_intensity\n",
    "\n",
    "warnings.filterwarnings('once')"
   ]
  },
  {
   "cell_type": "code",
   "execution_count": null,
   "metadata": {
    "pycharm": {
     "name": "#%%\n"
    }
   },
   "outputs": [],
   "source": [
    "'''\n",
    "Midjourney has a file name limit of 100 characters,which cuts off a number of the submitted prompts in the file name\n",
    "In order to merge the results with the generated prompt data\n",
    "We will parse and extract the base prompt from the image_file column\n",
    "'''\n",
    "'''\n",
    "Midjourney has a file name limit of 100 characters,which cuts off a number of the submitted prompts in the file name\n",
    "In order to merge the results with the generated prompt data\n",
    "We will parse and extract the base prompt from the image_file column\n",
    "'''\n",
    "def load_image_analysis_results():\n",
    "    eval_data_path = os.path.join('data','raw')\n",
    "    \n",
    "    files = glob.glob(os.path.join(eval_data_path, '*.csv'))\n",
    "    colnames = ['prompt','image','quadrant','bbox','skin color','gender.Woman','gender.Man']\n",
    "    results = pd.concat([pd.read_csv(fp,header=0, names=colnames)\\\n",
    "                     .assign(model =os.path.basename(fp).split('_')[0]) for fp in files],sort=False)\n",
    "  \n",
    "    results['prompt'] = results['prompt'].apply(lambda x: 'a '+x+\" photorealistic\" if x[0]!='a' and 'photorealistic' not in x else x)\n",
    "    #Normalizing gender categories\n",
    "    results['gender.Woman'] = results['gender.Woman'].apply(lambda x: x / 100.)\n",
    "    results['gender.Man'] = results['gender.Man'].apply(lambda x: x / 100.)\n",
    "    #Mapping gender detection values to single column\n",
    "    noface= (results['skin color'].isnull()).values\n",
    "    unknown=  ((results['gender.Woman']<=.50) & (results['gender.Man']<=.50)).values\n",
    "    woman= ((results['gender.Woman']>=.50) & (results['gender.Man']<.50)).values\n",
    "    man= ((results['gender.Man']>=.50) & (results['gender.Woman']<.50)).values\n",
    "\n",
    "    results['gender_detected_cat'] = 0\n",
    "    results['gender_detected_cat'][noface]=1\n",
    "    results['gender_detected_cat'][unknown]=2\n",
    "    results['gender_detected_cat'][woman]=3\n",
    "    results['gender_detected_cat'][man]=4\n",
    "    gender_dict=  {\n",
    "                 1: 'no face',\n",
    "                 2: 'unknown',\n",
    "                 3: 'woman',\n",
    "                 4: 'man'\n",
    "                    }\n",
    "    results['gender_detected_val'] = results['gender_detected_cat'].map(gender_dict)\n",
    "    #Extracting RGB intensity from skin color\n",
    "    results['rgb_intensity'] = results['skin color'].apply(lambda x:rgb_intensity(eval(x)) if not pd.isna(x) else None)\n",
    "    return results\n",
    "load_image_analysis_results()"
   ]
  },
  {
   "cell_type": "code",
   "execution_count": null,
   "metadata": {
    "pycharm": {
     "name": "#%%\n"
    }
   },
   "outputs": [],
   "source": [
    "def load_prompts():\n",
    "    prompt_data_path = os.path.join('..', 'prompt_generation','data','processed')\n",
    "    files = glob.glob(os.path.join(prompt_data_path, '*.csv'))\n",
    "    cols = [0, 1, 5]\n",
    "    colnames = ['prompt','tag','compound']\n",
    "    prompts = pd.concat([pd.read_csv(fp,header=0,usecols= cols, names=colnames)for fp in files],sort=False)\n",
    "    base_prompt =[]\n",
    "    for line in prompts['prompt']:\n",
    "        if '/imagine prompt:' in line: # \"/imagine prompt:a pitiless person, photorealistic --s 625\"\n",
    "            line = line.replace('/imagine prompt:','')\n",
    "            line = line.replace(', photorealistic --s 625',' photorealistic')\n",
    "            line = line.replace(',',' ')\n",
    "            line = re.sub(' +',' ',line).strip().rstrip()\n",
    "            base_prompt.append(line)\n",
    "        else: # \"a passionless person, photorealistic\"\n",
    "            line = line.replace(',', ' ')\n",
    "            line = re.sub(' +', ' ', line).strip().rstrip()\n",
    "            base_prompt.append(line)\n",
    "    prompts['prompt'] = base_prompt\n",
    "    return prompts\n",
    "load_prompts()"
   ]
  },
  {
   "cell_type": "code",
   "execution_count": null,
   "metadata": {
    "pycharm": {
     "name": "#%%\n"
    }
   },
   "outputs": [],
   "source": [
    "def get_occupation_results(res_prompts):\n",
    "    occupations = load_occupation_data()\n",
    "    occ_results = res_prompts.merge(occupations,right_on=['norm_title'],left_on=['tag'],how='inner')\n",
    "    return occ_results\n",
    "\n",
    "def get_tda_results(res_prompts):\n",
    "    tda_data = load_tda_data()\n",
    "    tda_results = res_prompts.merge(tda_data,right_on=['tda'],left_on=['tag'],how='inner')\n",
    "    return tda_results\n",
    "\n",
    "image_analysis = load_image_analysis_results()\n",
    "prompts = load_prompts()\n",
    "res_prompts = image_analysis.merge(prompts, right_on=['prompt'], left_on=['prompt'])\n"
   ]
  },
  {
   "cell_type": "code",
   "execution_count": null,
   "metadata": {
    "pycharm": {
     "name": "#%%\n"
    }
   },
   "outputs": [],
   "source": [
    "tda = get_tda_results(res_prompts)\n",
    "print(len(tda))"
   ]
  },
  {
   "cell_type": "code",
   "execution_count": null,
   "metadata": {
    "pycharm": {
     "name": "#%%\n"
    }
   },
   "outputs": [],
   "source": [
    "tda.head()"
   ]
  },
  {
   "cell_type": "code",
   "execution_count": null,
   "metadata": {
    "pycharm": {
     "name": "#%%\n"
    }
   },
   "outputs": [],
   "source": [
    "occ = get_occupation_results(res_prompts)\n",
    "print(len(occ))"
   ]
  },
  {
   "cell_type": "code",
   "execution_count": null,
   "metadata": {
    "pycharm": {
     "name": "#%%\n"
    }
   },
   "outputs": [],
   "source": [
    "occ.head()"
   ]
  },
  {
   "cell_type": "code",
   "execution_count": null,
   "outputs": [],
   "source": [
    "savepath='./data/processed/'\n",
    "\n",
    "tda.to_csv(savepath+ 'TDA_Results.csv',index=False)\n",
    "occ.to_csv(savepath+ 'Occupation_Results.csv',index=False)"
   ],
   "metadata": {
    "collapsed": false,
    "pycharm": {
     "name": "#%%\n"
    }
   }
  }
 ],
 "metadata": {
  "kernelspec": {
   "display_name": "Python 3 (ipykernel)",
   "language": "python",
   "name": "python3"
  },
  "language_info": {
   "codemirror_mode": {
    "name": "ipython",
    "version": 3
   },
   "file_extension": ".py",
   "mimetype": "text/x-python",
   "name": "python",
   "nbconvert_exporter": "python",
   "pygments_lexer": "ipython3",
   "version": "3.8.13"
  }
 },
 "nbformat": 4,
 "nbformat_minor": 4
}