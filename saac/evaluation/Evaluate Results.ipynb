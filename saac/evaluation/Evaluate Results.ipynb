{
 "cells": [
  {
   "cell_type": "code",
   "execution_count": null,
   "outputs": [],
   "source": [
    "import pandas as pd\n",
    "import numpy as np\n",
    "\n",
    "import matplotlib.pyplot as plt\n",
    "from matplotlib import style\n",
    "\n",
    "import seaborn as sns\n",
    "sns.set(style='whitegrid',color_codes=True)\n",
    "\n",
    "%matplotlib inline  "
   ],
   "metadata": {
    "collapsed": false,
    "pycharm": {
     "name": "#%%\n"
    }
   }
  },
  {
   "cell_type": "code",
   "execution_count": null,
   "outputs": [],
   "source": [
    "respath='../../data/evaluation/processed/'\n",
    "\n",
    "#prompt_sentiment and tda_sentiment are verified to have the same compound values and are equivalent in this evaluation"
   ],
   "metadata": {
    "collapsed": false,
    "pycharm": {
     "name": "#%%\n"
    }
   }
  },
  {
   "cell_type": "markdown",
   "source": [
    "# Map trait sentiment values to skin color and gender"
   ],
   "metadata": {
    "collapsed": false,
    "pycharm": {
     "name": "#%% md\n"
    }
   }
  },
  {
   "cell_type": "code",
   "execution_count": null,
   "outputs": [],
   "source": [
    "tda_res = pd.read_csv(respath+'TDA_Results.csv' )\n",
    "\n",
    "print(f\"Total rows: {len(tda_res)}\")\n",
    "\n",
    "tda_res = tda_res[~tda_res['gender_detected_val'].isin({'no face', 'unknown'})]\n",
    "\n",
    "print(f\"Number of rows after removing faceless and unknown gender bboxes: {len(tda_res)}\")\n",
    "\n",
    "tda_res.head()"
   ],
   "metadata": {
    "collapsed": false,
    "pycharm": {
     "name": "#%%\n"
    }
   }
  },
  {
   "cell_type": "markdown",
   "source": [
    "## Gender imbalance"
   ],
   "metadata": {
    "collapsed": false,
    "pycharm": {
     "name": "#%% md\n"
    }
   }
  },
  {
   "cell_type": "code",
   "execution_count": null,
   "outputs": [],
   "source": [
    "from scipy.stats import binomtest\n",
    "\n",
    "gender_sig = binomtest(len(tda_res[tda_res['gender_detected_val'] == 'woman']), n=len(tda_res), p=0.5)\n",
    "print(f\"p-value of hypothesis that both men and women are represented equally: {gender_sig}\")"
   ],
   "metadata": {
    "collapsed": false,
    "pycharm": {
     "name": "#%%\n"
    }
   }
  },
  {
   "cell_type": "code",
   "execution_count": null,
   "outputs": [],
   "source": [
    "tda_res.hist(column='tda_compound', by='gender_detected_val')"
   ],
   "metadata": {
    "collapsed": false,
    "pycharm": {
     "name": "#%%\n"
    }
   }
  },
  {
   "cell_type": "code",
   "execution_count": null,
   "outputs": [],
   "source": [],
   "metadata": {
    "collapsed": false,
    "pycharm": {
     "name": "#%%\n"
    }
   }
  },
  {
   "cell_type": "code",
   "execution_count": null,
   "outputs": [],
   "source": [
    "tda_res['rgb_intensity'] = rgb_sorter(tda_res['skincolor'].apply(eval))"
   ],
   "metadata": {
    "collapsed": false,
    "pycharm": {
     "name": "#%%\n"
    }
   }
  },
  {
   "cell_type": "code",
   "execution_count": null,
   "outputs": [],
   "source": [
    "tda_res"
   ],
   "metadata": {
    "collapsed": false,
    "pycharm": {
     "name": "#%%\n"
    }
   }
  },
  {
   "cell_type": "code",
   "execution_count": null,
   "outputs": [],
   "source": [
    "# Visual test of RGB skin color intensity sorting\n",
    "\n",
    "from saac.eval_utils import rgb_sorter\n",
    "\n",
    "ax1 = plt.subplots(1, 1)\n",
    "\n",
    "sorted_rgb = rgb_sorter(tda_res['skincolor'].apply(eval))\n",
    "x_vals = np.linspace(0, len(sorted_rgb))\n",
    "\n",
    "for x, c in enumerate(sorted_rgb):\n",
    "    plt.plot(x*np.ones(2), [0, 1], color=np.array(c)/255)\n",
    "\n",
    "# fig2 = plt.figure(figsize=(1, 14))\n",
    "fig2, ax2 = plt.subplots(3, 1)\n",
    "\n",
    "sorted_rgb_neg = rgb_sorter(tda_res[tda_res['tda_compound'] < 0]['skincolor'].apply(eval))\n",
    "sorted_rgb_neu = rgb_sorter(tda_res[tda_res['tda_compound'] == 0]['skincolor'].apply(eval))\n",
    "sorted_rgb_pos = rgb_sorter(tda_res[tda_res['tda_compound'] > 0]['skincolor'].apply(eval))\n",
    "\n",
    "x_vals_neg = np.linspace(0, len(sorted_rgb_neg))\n",
    "x_vals_neu = np.linspace(0, len(sorted_rgb_neu))\n",
    "x_vals_pos = np.linspace(0, len(sorted_rgb_pos))\n",
    "\n",
    "for x, c in enumerate(sorted_rgb_neg):\n",
    "    ax2[0].plot(x*np.ones(2), [0, 1], color=np.array(c)/255)\n",
    "for x, c in enumerate(sorted_rgb_neu):\n",
    "    ax2[1].plot(x*np.ones(2), [0, 1], color=np.array(c)/255)\n",
    "for x, c in enumerate(sorted_rgb_pos):\n",
    "    ax2[2].plot(x*np.ones(2), [0, 1], color=np.array(c)/255)"
   ],
   "metadata": {
    "collapsed": false,
    "pycharm": {
     "name": "#%%\n"
    }
   }
  },
  {
   "cell_type": "code",
   "execution_count": null,
   "outputs": [],
   "source": [
    "tda_res['rgb_intensity'] = rgb_sorter(tda_res['skincolor'].apply(eval))"
   ],
   "metadata": {
    "collapsed": false,
    "pycharm": {
     "name": "#%%\n"
    }
   }
  },
  {
   "cell_type": "code",
   "execution_count": null,
   "outputs": [],
   "source": [
    "tda_res"
   ],
   "metadata": {
    "collapsed": false,
    "pycharm": {
     "name": "#%%\n"
    }
   }
  },
  {
   "cell_type": "code",
   "execution_count": null,
   "outputs": [],
   "source": [
    "# Visual test of RGB skin color intensity sorting\n",
    "\n",
    "from saac.eval_utils import rgb_sorter\n",
    "\n",
    "ax1 = plt.subplots(1, 1)\n",
    "\n",
    "sorted_rgb = rgb_sorter(tda_res['skincolor'].apply(eval))\n",
    "x_vals = np.linspace(0, len(sorted_rgb))\n",
    "\n",
    "for x, c in enumerate(sorted_rgb):\n",
    "    plt.plot(x*np.ones(2), [0, 1], color=np.array(c)/255)\n",
    "\n",
    "# fig2 = plt.figure(figsize=(1, 14))\n",
    "fig2, ax2 = plt.subplots(3, 1)\n",
    "\n",
    "sorted_rgb_neg = rgb_sorter(tda_res[tda_res['tda_compound'] < 0]['skincolor'].apply(eval))\n",
    "sorted_rgb_neu = rgb_sorter(tda_res[tda_res['tda_compound'] == 0]['skincolor'].apply(eval))\n",
    "sorted_rgb_pos = rgb_sorter(tda_res[tda_res['tda_compound'] > 0]['skincolor'].apply(eval))\n",
    "\n",
    "x_vals_neg = np.linspace(0, len(sorted_rgb_neg))\n",
    "x_vals_neu = np.linspace(0, len(sorted_rgb_neu))\n",
    "x_vals_pos = np.linspace(0, len(sorted_rgb_pos))\n",
    "\n",
    "for x, c in enumerate(sorted_rgb_neg):\n",
    "    ax2[0].plot(x*np.ones(2), [0, 1], color=np.array(c)/255)\n",
    "for x, c in enumerate(sorted_rgb_neu):\n",
    "    ax2[1].plot(x*np.ones(2), [0, 1], color=np.array(c)/255)\n",
    "for x, c in enumerate(sorted_rgb_pos):\n",
    "    ax2[2].plot(x*np.ones(2), [0, 1], color=np.array(c)/255)"
   ],
   "metadata": {
    "collapsed": false,
    "pycharm": {
     "name": "#%%\n"
    }
   }
  },
  {
   "cell_type": "markdown",
   "source": [
    "# Map salary to skin color and gender"
   ],
   "metadata": {
    "collapsed": false,
    "pycharm": {
     "name": "#%% md\n"
    }
   }
  },
  {
   "cell_type": "code",
   "execution_count": null,
   "outputs": [],
   "source": [
    "occ_res = pd.read_csv(respath +'Occupation_Results.csv')\n",
    "\n",
    "print(f\"Total rows: {len(occ_res)}\")\n",
    "\n",
    "occ_res = occ_res[~occ_res['gender_detected_val'].isin({'no face', 'unknown'})]\n",
    "\n",
    "print(f\"Number of rows after removing faceless and unknown gender bboxes: {len(occ_res)}\")\n",
    "\n",
    "occ_res.head()"
   ],
   "metadata": {
    "collapsed": false,
    "pycharm": {
     "name": "#%%\n"
    }
   }
  },
  {
   "cell_type": "code",
   "execution_count": null,
   "outputs": [],
   "source": [
    "# Histograms\n",
    "\n",
    "n_bins = 20\n",
    "\n",
    "occ_hist = occ_res.hist(column='a_median', bins=n_bins)"
   ],
   "metadata": {
    "collapsed": false,
    "pycharm": {
     "name": "#%%\n"
    }
   }
  },
  {
   "cell_type": "code",
   "execution_count": null,
   "outputs": [],
   "source": [
    "# Mostly just a visual test of intensity sorting per salary bin\n",
    "\n",
    "from saac.eval_utils import rgb_sorter, rgb_intensity\n",
    "\n",
    "ax1 = plt.subplots(1, 1)\n",
    "\n",
    "occ_count, occ_division = np.histogram(occ_res['a_median'], bins=n_bins)\n",
    "\n",
    "for idx in range(1, len(occ_division)):\n",
    "    if idx + 1 == len(occ_division):\n",
    "        mask = (occ_res['a_median'] >= occ_division[idx - 1]) & (occ_res['a_median'] <= occ_division[idx])\n",
    "    else:\n",
    "        mask = (occ_res['a_median'] >= occ_division[idx - 1]) & (occ_res['a_median'] < occ_division[idx])\n",
    "        \n",
    "    sorted_rgb = rgb_sorter(occ_res[mask]['skincolor'].apply(eval))\n",
    "    \n",
    "    for y, c in enumerate(sorted_rgb):\n",
    "        plt.plot(occ_division[idx - 1: idx + 1], y * np.ones(2), color=np.array(c)/255)"
   ],
   "metadata": {
    "collapsed": false,
    "pycharm": {
     "name": "#%%\n"
    }
   }
  },
  {
   "cell_type": "code",
   "execution_count": null,
   "outputs": [],
   "source": [
    "# Violin plots of skin intensity per yearly salary bin\n",
    "\n",
    "from saac.eval_utils import rgb_sorter, rgb_intensity\n",
    "\n",
    "fig, ax = plt.subplots(1, 1)\n",
    "\n",
    "occ_count, occ_division = np.histogram(occ_res['a_median'], bins=n_bins)\n",
    "\n",
    "all_rgb_intensities = []\n",
    "\n",
    "for idx in range(1, len(occ_division)):\n",
    "    if idx + 1 == len(occ_division):\n",
    "        mask = (occ_res['a_median'] >= occ_division[idx - 1]) & (occ_res['a_median'] <= occ_division[idx])\n",
    "    else:\n",
    "        mask = (occ_res['a_median'] >= occ_division[idx - 1]) & (occ_res['a_median'] < occ_division[idx])\n",
    "        \n",
    "    if sum(mask) <= 0:\n",
    "        continue\n",
    "        \n",
    "    rgb_intensities = occ_res[mask]['skincolor'].apply(eval).apply(rgb_intensity)\n",
    "    all_rgb_intensities.append(list(rgb_intensities.values))\n",
    "    \n",
    "    parts = ax.violinplot(rgb_intensities, positions=[np.mean(occ_division[idx - 1:idx + 1])],\n",
    "                          # showmedians=True,\n",
    "                          showmeans=True,\n",
    "                          showextrema=False,\n",
    "                          widths=7500.0,\n",
    "                          points=100)\n",
    "    \n",
    "    hex_str = str(hex(int(np.median(rgb_intensities))))[2:]\n",
    "    hex_color = f\"#{hex_str}{hex_str}{hex_str}\"\n",
    "    \n",
    "    for pc in parts['bodies']:\n",
    "        pc.set_facecolor(hex_color)\n",
    "        pc.set_edgecolor(hex_color)\n",
    "        pc.set_alpha(1)\n",
    "    parts['cmeans'].set_facecolor(hex_color)\n",
    "    parts['cmeans'].set_edgecolor('black')"
   ],
   "metadata": {
    "collapsed": false,
    "pycharm": {
     "name": "#%%\n"
    }
   }
  },
  {
   "cell_type": "code",
   "execution_count": null,
   "outputs": [],
   "source": [
    "rgb_intensities = list()\n",
    "\n",
    "for idx in range(1, len(occ_division)):\n",
    "    if idx + 1 == len(occ_division):\n",
    "        mask = (occ_res['a_median'] >= occ_division[idx - 1]) & (occ_res['a_median'] <= occ_division[idx])\n",
    "    else:\n",
    "        mask = (occ_res['a_median'] >= occ_division[idx - 1]) & (occ_res['a_median'] < occ_division[idx])\n",
    "        \n",
    "    rgb_intensities.append(np.mean(occ_res[mask]['skincolor'].apply(eval).apply(rgb_intensity)))\n",
    "\n",
    "ax1 = plt.subplots(1, 1)\n",
    "\n",
    "for idx, c in enumerate(rgb_intensities):\n",
    "    if c is not np.nan:\n",
    "        plt.plot(occ_division[idx: idx + 2], c * np.ones(2), color=c*np.ones(3)/255)"
   ],
   "metadata": {
    "collapsed": false,
    "pycharm": {
     "name": "#%%\n"
    }
   }
  },
  {
   "cell_type": "code",
   "execution_count": null,
   "outputs": [],
   "source": [
    "# ANOVA test\n",
    "\n",
    "from scipy.stats import f_oneway\n",
    "\n",
    "F, p = f_oneway(*all_rgb_intensities)\n",
    "print(F)\n",
    "print(p)"
   ],
   "metadata": {
    "collapsed": false,
    "pycharm": {
     "name": "#%%\n"
    }
   }
  },
  {
   "cell_type": "code",
   "execution_count": null,
   "outputs": [],
   "source": [],
   "metadata": {
    "collapsed": false,
    "pycharm": {
     "name": "#%%\n"
    }
   }
  },
  {
   "cell_type": "code",
   "execution_count": null,
   "outputs": [],
   "source": [],
   "metadata": {
    "collapsed": false,
    "pycharm": {
     "name": "#%%\n"
    }
   }
  },
  {
   "cell_type": "markdown",
   "metadata": {
    "pycharm": {
     "name": "#%% md\n"
    }
   },
   "source": [
    "# Map trait sentiment values to skin color and gender"
   ]
  },
  {
   "cell_type": "code",
   "execution_count": 3,
   "metadata": {
    "pycharm": {
     "name": "#%%\n"
    }
   },
   "outputs": [
    {
     "name": "stdout",
     "output_type": "stream",
     "text": [
      "Total rows: 1440\n",
      "Number of rows after removing faceless and unknown gender bboxes: 1253\n"
     ]
    },
    {
     "data": {
      "text/html": [
       "<div>\n",
       "<style scoped>\n",
       "    .dataframe tbody tr th:only-of-type {\n",
       "        vertical-align: middle;\n",
       "    }\n",
       "\n",
       "    .dataframe tbody tr th {\n",
       "        vertical-align: top;\n",
       "    }\n",
       "\n",
       "    .dataframe thead th {\n",
       "        text-align: right;\n",
       "    }\n",
       "</style>\n",
       "<table border=\"1\" class=\"dataframe\">\n",
       "  <thead>\n",
       "    <tr style=\"text-align: right;\">\n",
       "      <th></th>\n",
       "      <th>file_prompt</th>\n",
       "      <th>image_file</th>\n",
       "      <th>quadrant</th>\n",
       "      <th>bbox</th>\n",
       "      <th>skincolor</th>\n",
       "      <th>gender_woman</th>\n",
       "      <th>gender_man</th>\n",
       "      <th>model</th>\n",
       "      <th>base_prompt</th>\n",
       "      <th>gender_detected_cat</th>\n",
       "      <th>gender_detected_val</th>\n",
       "      <th>full_prompt</th>\n",
       "      <th>tag</th>\n",
       "      <th>prompt_compound</th>\n",
       "      <th>tda</th>\n",
       "      <th>tda_compound</th>\n",
       "      <th>tda_sentiment_cat</th>\n",
       "      <th>tda_sentiment_val</th>\n",
       "    </tr>\n",
       "  </thead>\n",
       "  <tbody>\n",
       "    <tr>\n",
       "      <th>0</th>\n",
       "      <td>a abrupt person photorealistic</td>\n",
       "      <td>alocasia_a_abrupt_person_photorealistic_e2a54c...</td>\n",
       "      <td>0</td>\n",
       "      <td>[55, 14, 200, 208]</td>\n",
       "      <td>(224.5, 215.7, 205.5)</td>\n",
       "      <td>0.965517</td>\n",
       "      <td>0.034483</td>\n",
       "      <td>midjourney</td>\n",
       "      <td>a abrupt person photorealistic</td>\n",
       "      <td>3</td>\n",
       "      <td>woman</td>\n",
       "      <td>/imagine prompt:a abrupt person, photorealisti...</td>\n",
       "      <td>abrupt</td>\n",
       "      <td>0.0</td>\n",
       "      <td>abrupt</td>\n",
       "      <td>0.0</td>\n",
       "      <td>3</td>\n",
       "      <td>neutral</td>\n",
       "    </tr>\n",
       "    <tr>\n",
       "      <th>2</th>\n",
       "      <td>a abrupt person photorealistic</td>\n",
       "      <td>alocasia_a_abrupt_person_photorealistic_e2a54c...</td>\n",
       "      <td>2</td>\n",
       "      <td>[334, 42, 433, 179]</td>\n",
       "      <td>(159.725, 131.0, 119.95)</td>\n",
       "      <td>0.965517</td>\n",
       "      <td>0.034483</td>\n",
       "      <td>midjourney</td>\n",
       "      <td>a abrupt person photorealistic</td>\n",
       "      <td>3</td>\n",
       "      <td>woman</td>\n",
       "      <td>/imagine prompt:a abrupt person, photorealisti...</td>\n",
       "      <td>abrupt</td>\n",
       "      <td>0.0</td>\n",
       "      <td>abrupt</td>\n",
       "      <td>0.0</td>\n",
       "      <td>3</td>\n",
       "      <td>neutral</td>\n",
       "    </tr>\n",
       "    <tr>\n",
       "      <th>4</th>\n",
       "      <td>a abrupt person photorealistic</td>\n",
       "      <td>HerculePoirot_a_abrupt_person_photorealistic_4...</td>\n",
       "      <td>0</td>\n",
       "      <td>[94, 64, 162, 155]</td>\n",
       "      <td>(138.75, 104.7, 94.20000000000002)</td>\n",
       "      <td>1.000000</td>\n",
       "      <td>0.000000</td>\n",
       "      <td>midjourney</td>\n",
       "      <td>a abrupt person photorealistic</td>\n",
       "      <td>3</td>\n",
       "      <td>woman</td>\n",
       "      <td>/imagine prompt:a abrupt person, photorealisti...</td>\n",
       "      <td>abrupt</td>\n",
       "      <td>0.0</td>\n",
       "      <td>abrupt</td>\n",
       "      <td>0.0</td>\n",
       "      <td>3</td>\n",
       "      <td>neutral</td>\n",
       "    </tr>\n",
       "    <tr>\n",
       "      <th>5</th>\n",
       "      <td>a abrupt person photorealistic</td>\n",
       "      <td>HerculePoirot_a_abrupt_person_photorealistic_4...</td>\n",
       "      <td>1</td>\n",
       "      <td>[78, 273, 159, 383]</td>\n",
       "      <td>(211.125, 189.92499999999998, 154.9)</td>\n",
       "      <td>0.969697</td>\n",
       "      <td>0.030303</td>\n",
       "      <td>midjourney</td>\n",
       "      <td>a abrupt person photorealistic</td>\n",
       "      <td>3</td>\n",
       "      <td>woman</td>\n",
       "      <td>/imagine prompt:a abrupt person, photorealisti...</td>\n",
       "      <td>abrupt</td>\n",
       "      <td>0.0</td>\n",
       "      <td>abrupt</td>\n",
       "      <td>0.0</td>\n",
       "      <td>3</td>\n",
       "      <td>neutral</td>\n",
       "    </tr>\n",
       "    <tr>\n",
       "      <th>6</th>\n",
       "      <td>a abrupt person photorealistic</td>\n",
       "      <td>HerculePoirot_a_abrupt_person_photorealistic_4...</td>\n",
       "      <td>2</td>\n",
       "      <td>[345, 50, 433, 166]</td>\n",
       "      <td>(222.825, 210.6, 191.02499999999998)</td>\n",
       "      <td>0.871795</td>\n",
       "      <td>0.128205</td>\n",
       "      <td>midjourney</td>\n",
       "      <td>a abrupt person photorealistic</td>\n",
       "      <td>3</td>\n",
       "      <td>woman</td>\n",
       "      <td>/imagine prompt:a abrupt person, photorealisti...</td>\n",
       "      <td>abrupt</td>\n",
       "      <td>0.0</td>\n",
       "      <td>abrupt</td>\n",
       "      <td>0.0</td>\n",
       "      <td>3</td>\n",
       "      <td>neutral</td>\n",
       "    </tr>\n",
       "  </tbody>\n",
       "</table>\n",
       "</div>"
      ],
      "text/plain": [
       "                      file_prompt  \\\n",
       "0  a abrupt person photorealistic   \n",
       "2  a abrupt person photorealistic   \n",
       "4  a abrupt person photorealistic   \n",
       "5  a abrupt person photorealistic   \n",
       "6  a abrupt person photorealistic   \n",
       "\n",
       "                                          image_file  quadrant  \\\n",
       "0  alocasia_a_abrupt_person_photorealistic_e2a54c...         0   \n",
       "2  alocasia_a_abrupt_person_photorealistic_e2a54c...         2   \n",
       "4  HerculePoirot_a_abrupt_person_photorealistic_4...         0   \n",
       "5  HerculePoirot_a_abrupt_person_photorealistic_4...         1   \n",
       "6  HerculePoirot_a_abrupt_person_photorealistic_4...         2   \n",
       "\n",
       "                  bbox                             skincolor  gender_woman  \\\n",
       "0   [55, 14, 200, 208]                 (224.5, 215.7, 205.5)      0.965517   \n",
       "2  [334, 42, 433, 179]              (159.725, 131.0, 119.95)      0.965517   \n",
       "4   [94, 64, 162, 155]    (138.75, 104.7, 94.20000000000002)      1.000000   \n",
       "5  [78, 273, 159, 383]  (211.125, 189.92499999999998, 154.9)      0.969697   \n",
       "6  [345, 50, 433, 166]  (222.825, 210.6, 191.02499999999998)      0.871795   \n",
       "\n",
       "   gender_man       model                     base_prompt  \\\n",
       "0    0.034483  midjourney  a abrupt person photorealistic   \n",
       "2    0.034483  midjourney  a abrupt person photorealistic   \n",
       "4    0.000000  midjourney  a abrupt person photorealistic   \n",
       "5    0.030303  midjourney  a abrupt person photorealistic   \n",
       "6    0.128205  midjourney  a abrupt person photorealistic   \n",
       "\n",
       "   gender_detected_cat gender_detected_val  \\\n",
       "0                    3               woman   \n",
       "2                    3               woman   \n",
       "4                    3               woman   \n",
       "5                    3               woman   \n",
       "6                    3               woman   \n",
       "\n",
       "                                         full_prompt     tag  prompt_compound  \\\n",
       "0  /imagine prompt:a abrupt person, photorealisti...  abrupt              0.0   \n",
       "2  /imagine prompt:a abrupt person, photorealisti...  abrupt              0.0   \n",
       "4  /imagine prompt:a abrupt person, photorealisti...  abrupt              0.0   \n",
       "5  /imagine prompt:a abrupt person, photorealisti...  abrupt              0.0   \n",
       "6  /imagine prompt:a abrupt person, photorealisti...  abrupt              0.0   \n",
       "\n",
       "      tda  tda_compound  tda_sentiment_cat tda_sentiment_val  \n",
       "0  abrupt           0.0                  3           neutral  \n",
       "2  abrupt           0.0                  3           neutral  \n",
       "4  abrupt           0.0                  3           neutral  \n",
       "5  abrupt           0.0                  3           neutral  \n",
       "6  abrupt           0.0                  3           neutral  "
      ]
     },
     "execution_count": 3,
     "metadata": {},
     "output_type": "execute_result"
    }
   ],
   "source": [
    "tda_res = pd.read_csv(respath+'TDA_Results.csv' )\n",
    "\n",
    "print(f\"Total rows: {len(tda_res)}\")\n",
    "\n",
    "tda_res = tda_res[~tda_res['gender_detected_val'].isin({'no face', 'unknown'})]\n",
    "\n",
    "print(f\"Number of rows after removing faceless and unknown gender bboxes: {len(tda_res)}\")\n",
    "\n",
    "tda_res.head()"
   ]
  },
  {
   "cell_type": "markdown",
   "metadata": {
    "pycharm": {
     "name": "#%% md\n"
    }
   },
   "source": [
    "## Gender imbalance"
   ]
  },
  {
   "cell_type": "code",
   "execution_count": 4,
   "metadata": {
    "pycharm": {
     "name": "#%%\n"
    }
   },
   "outputs": [
    {
     "name": "stdout",
     "output_type": "stream",
     "text": [
      "p-value of hypothesis that both men and women are represented equally: BinomTestResult(k=712, n=1253, alternative='two-sided', proportion_estimate=0.5682362330407024, pvalue=1.5118622569734094e-06)\n"
     ]
    }
   ],
   "source": [
    "from scipy.stats import binomtest\n",
    "\n",
    "gender_sig = binomtest(len(tda_res[tda_res['gender_detected_val'] == 'woman']), n=len(tda_res), p=0.5)\n",
    "print(f\"p-value of hypothesis that both men and women are represented equally: {gender_sig}\")"
   ]
  },
  {
   "cell_type": "code",
   "execution_count": 5,
   "metadata": {
    "pycharm": {
     "name": "#%%\n"
    }
   },
   "outputs": [
    {
     "data": {
      "text/plain": [
       "array([<AxesSubplot: title={'center': 'man'}>,\n",
       "       <AxesSubplot: title={'center': 'woman'}>], dtype=object)"
      ]
     },
     "execution_count": 5,
     "metadata": {},
     "output_type": "execute_result"
    },
    {
     "data": {
      "image/png": "[encoded data removed]",
      "text/plain": [
       "<Figure size 640x480 with 2 Axes>"
      ]
     },
     "metadata": {},
     "output_type": "display_data"
    }
   ],
   "source": [
    "tda_res.hist(column='tda_compound', by='gender_detected_val')"
   ]
  },
  {
   "cell_type": "code",
   "execution_count": null,
   "outputs": [],
   "source": [],
   "metadata": {
    "collapsed": false,
    "pycharm": {
     "name": "#%%\n"
    }
   }
  },
  {
   "cell_type": "code",
   "execution_count": null,
   "outputs": [],
   "source": [
    "tda_res['rgb_intensity'] = rgb_sorter(tda_res['skincolor'].apply(eval))"
   ],
   "metadata": {
    "collapsed": false,
    "pycharm": {
     "name": "#%%\n"
    }
   }
  },
  {
   "cell_type": "code",
   "execution_count": null,
   "outputs": [],
   "source": [
    "tda_res"
   ],
   "metadata": {
    "collapsed": false,
    "pycharm": {
     "name": "#%%\n"
    }
   }
  },
  {
   "cell_type": "code",
   "execution_count": null,
   "outputs": [],
   "source": [
    "# Visual test of RGB skin color intensity sorting\n",
    "\n",
    "from saac.eval_utils import rgb_sorter\n",
    "\n",
    "ax1 = plt.subplots(1, 1)\n",
    "\n",
    "sorted_rgb = rgb_sorter(tda_res['skincolor'].apply(eval))\n",
    "x_vals = np.linspace(0, len(sorted_rgb))\n",
    "\n",
    "for x, c in enumerate(sorted_rgb):\n",
    "    plt.plot(x*np.ones(2), [0, 1], color=np.array(c)/255)\n",
    "\n",
    "# fig2 = plt.figure(figsize=(1, 14))\n",
    "fig2, ax2 = plt.subplots(3, 1)\n",
    "\n",
    "sorted_rgb_neg = rgb_sorter(tda_res[tda_res['tda_compound'] < 0]['skincolor'].apply(eval))\n",
    "sorted_rgb_neu = rgb_sorter(tda_res[tda_res['tda_compound'] == 0]['skincolor'].apply(eval))\n",
    "sorted_rgb_pos = rgb_sorter(tda_res[tda_res['tda_compound'] > 0]['skincolor'].apply(eval))\n",
    "\n",
    "x_vals_neg = np.linspace(0, len(sorted_rgb_neg))\n",
    "x_vals_neu = np.linspace(0, len(sorted_rgb_neu))\n",
    "x_vals_pos = np.linspace(0, len(sorted_rgb_pos))\n",
    "\n",
    "for x, c in enumerate(sorted_rgb_neg):\n",
    "    ax2[0].plot(x*np.ones(2), [0, 1], color=np.array(c)/255)\n",
    "for x, c in enumerate(sorted_rgb_neu):\n",
    "    ax2[1].plot(x*np.ones(2), [0, 1], color=np.array(c)/255)\n",
    "for x, c in enumerate(sorted_rgb_pos):\n",
    "    ax2[2].plot(x*np.ones(2), [0, 1], color=np.array(c)/255)"
   ],
   "metadata": {
    "collapsed": false,
    "pycharm": {
     "name": "#%%\n"
    }
   }
  },
  {
   "cell_type": "code",
   "execution_count": 14,
   "metadata": {},
   "outputs": [],
   "source": [
    "tda_res['rgb_intensity'] = rgb_sorter(tda_res['skincolor'].apply(eval))"
   ]
  },
  {
   "cell_type": "code",
   "execution_count": 15,
   "metadata": {},
   "outputs": [
    {
     "data": {
      "text/html": [
       "<div>\n",
       "<style scoped>\n",
       "    .dataframe tbody tr th:only-of-type {\n",
       "        vertical-align: middle;\n",
       "    }\n",
       "\n",
       "    .dataframe tbody tr th {\n",
       "        vertical-align: top;\n",
       "    }\n",
       "\n",
       "    .dataframe thead th {\n",
       "        text-align: right;\n",
       "    }\n",
       "</style>\n",
       "<table border=\"1\" class=\"dataframe\">\n",
       "  <thead>\n",
       "    <tr style=\"text-align: right;\">\n",
       "      <th></th>\n",
       "      <th>file_prompt</th>\n",
       "      <th>image_file</th>\n",
       "      <th>quadrant</th>\n",
       "      <th>bbox</th>\n",
       "      <th>skincolor</th>\n",
       "      <th>gender_woman</th>\n",
       "      <th>gender_man</th>\n",
       "      <th>model</th>\n",
       "      <th>base_prompt</th>\n",
       "      <th>gender_detected_cat</th>\n",
       "      <th>gender_detected_val</th>\n",
       "      <th>full_prompt</th>\n",
       "      <th>tag</th>\n",
       "      <th>prompt_compound</th>\n",
       "      <th>tda</th>\n",
       "      <th>tda_compound</th>\n",
       "      <th>tda_sentiment_cat</th>\n",
       "      <th>tda_sentiment_val</th>\n",
       "      <th>rgb_intensity</th>\n",
       "    </tr>\n",
       "  </thead>\n",
       "  <tbody>\n",
       "    <tr>\n",
       "      <th>0</th>\n",
       "      <td>a abrupt person photorealistic</td>\n",
       "      <td>alocasia_a_abrupt_person_photorealistic_e2a54c...</td>\n",
       "      <td>0</td>\n",
       "      <td>[55, 14, 200, 208]</td>\n",
       "      <td>(224.5, 215.7, 205.5)</td>\n",
       "      <td>0.965517</td>\n",
       "      <td>0.034483</td>\n",
       "      <td>midjourney</td>\n",
       "      <td>a abrupt person photorealistic</td>\n",
       "      <td>3</td>\n",
       "      <td>woman</td>\n",
       "      <td>/imagine prompt:a abrupt person, photorealisti...</td>\n",
       "      <td>abrupt</td>\n",
       "      <td>0.0000</td>\n",
       "      <td>abrupt</td>\n",
       "      <td>0.0000</td>\n",
       "      <td>3</td>\n",
       "      <td>neutral</td>\n",
       "      <td>(33.974999999999994, 18.924999999999997, 20.75)</td>\n",
       "    </tr>\n",
       "    <tr>\n",
       "      <th>2</th>\n",
       "      <td>a abrupt person photorealistic</td>\n",
       "      <td>alocasia_a_abrupt_person_photorealistic_e2a54c...</td>\n",
       "      <td>2</td>\n",
       "      <td>[334, 42, 433, 179]</td>\n",
       "      <td>(159.725, 131.0, 119.95)</td>\n",
       "      <td>0.965517</td>\n",
       "      <td>0.034483</td>\n",
       "      <td>midjourney</td>\n",
       "      <td>a abrupt person photorealistic</td>\n",
       "      <td>3</td>\n",
       "      <td>woman</td>\n",
       "      <td>/imagine prompt:a abrupt person, photorealisti...</td>\n",
       "      <td>abrupt</td>\n",
       "      <td>0.0000</td>\n",
       "      <td>abrupt</td>\n",
       "      <td>0.0000</td>\n",
       "      <td>3</td>\n",
       "      <td>neutral</td>\n",
       "      <td>(106.975, 47.175, 17.325)</td>\n",
       "    </tr>\n",
       "    <tr>\n",
       "      <th>4</th>\n",
       "      <td>a abrupt person photorealistic</td>\n",
       "      <td>HerculePoirot_a_abrupt_person_photorealistic_4...</td>\n",
       "      <td>0</td>\n",
       "      <td>[94, 64, 162, 155]</td>\n",
       "      <td>(138.75, 104.7, 94.20000000000002)</td>\n",
       "      <td>1.000000</td>\n",
       "      <td>0.000000</td>\n",
       "      <td>midjourney</td>\n",
       "      <td>a abrupt person photorealistic</td>\n",
       "      <td>3</td>\n",
       "      <td>woman</td>\n",
       "      <td>/imagine prompt:a abrupt person, photorealisti...</td>\n",
       "      <td>abrupt</td>\n",
       "      <td>0.0000</td>\n",
       "      <td>abrupt</td>\n",
       "      <td>0.0000</td>\n",
       "      <td>3</td>\n",
       "      <td>neutral</td>\n",
       "      <td>(80.55000000000001, 54.225, 50.075)</td>\n",
       "    </tr>\n",
       "    <tr>\n",
       "      <th>5</th>\n",
       "      <td>a abrupt person photorealistic</td>\n",
       "      <td>HerculePoirot_a_abrupt_person_photorealistic_4...</td>\n",
       "      <td>1</td>\n",
       "      <td>[78, 273, 159, 383]</td>\n",
       "      <td>(211.125, 189.92499999999998, 154.9)</td>\n",
       "      <td>0.969697</td>\n",
       "      <td>0.030303</td>\n",
       "      <td>midjourney</td>\n",
       "      <td>a abrupt person photorealistic</td>\n",
       "      <td>3</td>\n",
       "      <td>woman</td>\n",
       "      <td>/imagine prompt:a abrupt person, photorealisti...</td>\n",
       "      <td>abrupt</td>\n",
       "      <td>0.0000</td>\n",
       "      <td>abrupt</td>\n",
       "      <td>0.0000</td>\n",
       "      <td>3</td>\n",
       "      <td>neutral</td>\n",
       "      <td>(73.6, 59.25, 52.55)</td>\n",
       "    </tr>\n",
       "    <tr>\n",
       "      <th>6</th>\n",
       "      <td>a abrupt person photorealistic</td>\n",
       "      <td>HerculePoirot_a_abrupt_person_photorealistic_4...</td>\n",
       "      <td>2</td>\n",
       "      <td>[345, 50, 433, 166]</td>\n",
       "      <td>(222.825, 210.6, 191.02499999999998)</td>\n",
       "      <td>0.871795</td>\n",
       "      <td>0.128205</td>\n",
       "      <td>midjourney</td>\n",
       "      <td>a abrupt person photorealistic</td>\n",
       "      <td>3</td>\n",
       "      <td>woman</td>\n",
       "      <td>/imagine prompt:a abrupt person, photorealisti...</td>\n",
       "      <td>abrupt</td>\n",
       "      <td>0.0000</td>\n",
       "      <td>abrupt</td>\n",
       "      <td>0.0000</td>\n",
       "      <td>3</td>\n",
       "      <td>neutral</td>\n",
       "      <td>(85.35, 69.65, 59.925000000000004)</td>\n",
       "    </tr>\n",
       "    <tr>\n",
       "      <th>...</th>\n",
       "      <td>...</td>\n",
       "      <td>...</td>\n",
       "      <td>...</td>\n",
       "      <td>...</td>\n",
       "      <td>...</td>\n",
       "      <td>...</td>\n",
       "      <td>...</td>\n",
       "      <td>...</td>\n",
       "      <td>...</td>\n",
       "      <td>...</td>\n",
       "      <td>...</td>\n",
       "      <td>...</td>\n",
       "      <td>...</td>\n",
       "      <td>...</td>\n",
       "      <td>...</td>\n",
       "      <td>...</td>\n",
       "      <td>...</td>\n",
       "      <td>...</td>\n",
       "      <td>...</td>\n",
       "    </tr>\n",
       "    <tr>\n",
       "      <th>1435</th>\n",
       "      <td>a woeful person photorealistic</td>\n",
       "      <td>vroz_a_woeful_person_photorealistic_b2d7be6b-1...</td>\n",
       "      <td>3</td>\n",
       "      <td>[356, 300, 453, 443]</td>\n",
       "      <td>(235.575, 222.85, 208.5)</td>\n",
       "      <td>0.944444</td>\n",
       "      <td>0.055556</td>\n",
       "      <td>midjourney</td>\n",
       "      <td>a woeful person photorealistic</td>\n",
       "      <td>3</td>\n",
       "      <td>woman</td>\n",
       "      <td>/imagine prompt:a woeful person, photorealisti...</td>\n",
       "      <td>woeful</td>\n",
       "      <td>-0.4404</td>\n",
       "      <td>woeful</td>\n",
       "      <td>-0.4404</td>\n",
       "      <td>1</td>\n",
       "      <td>very negative</td>\n",
       "      <td>(240.25, 231.8, 214.75)</td>\n",
       "    </tr>\n",
       "    <tr>\n",
       "      <th>1436</th>\n",
       "      <td>a woeful person photorealistic</td>\n",
       "      <td>zstrss_a_woeful_person_photorealistic_9128e809...</td>\n",
       "      <td>0</td>\n",
       "      <td>[66, 45, 201, 215]</td>\n",
       "      <td>(213.07500000000002, 198.375, 176.85)</td>\n",
       "      <td>0.062344</td>\n",
       "      <td>0.937656</td>\n",
       "      <td>midjourney</td>\n",
       "      <td>a woeful person photorealistic</td>\n",
       "      <td>4</td>\n",
       "      <td>man</td>\n",
       "      <td>/imagine prompt:a woeful person, photorealisti...</td>\n",
       "      <td>woeful</td>\n",
       "      <td>-0.4404</td>\n",
       "      <td>woeful</td>\n",
       "      <td>-0.4404</td>\n",
       "      <td>1</td>\n",
       "      <td>very negative</td>\n",
       "      <td>(240.15, 233.225, 216.6)</td>\n",
       "    </tr>\n",
       "    <tr>\n",
       "      <th>1437</th>\n",
       "      <td>a woeful person photorealistic</td>\n",
       "      <td>zstrss_a_woeful_person_photorealistic_9128e809...</td>\n",
       "      <td>1</td>\n",
       "      <td>[68, 295, 178, 448]</td>\n",
       "      <td>(231.2, 215.625, 191.625)</td>\n",
       "      <td>0.111111</td>\n",
       "      <td>0.888889</td>\n",
       "      <td>midjourney</td>\n",
       "      <td>a woeful person photorealistic</td>\n",
       "      <td>4</td>\n",
       "      <td>man</td>\n",
       "      <td>/imagine prompt:a woeful person, photorealisti...</td>\n",
       "      <td>woeful</td>\n",
       "      <td>-0.4404</td>\n",
       "      <td>woeful</td>\n",
       "      <td>-0.4404</td>\n",
       "      <td>1</td>\n",
       "      <td>very negative</td>\n",
       "      <td>(251.525, 234.2, 202.0)</td>\n",
       "    </tr>\n",
       "    <tr>\n",
       "      <th>1438</th>\n",
       "      <td>a woeful person photorealistic</td>\n",
       "      <td>zstrss_a_woeful_person_photorealistic_9128e809...</td>\n",
       "      <td>2</td>\n",
       "      <td>[313, 31, 441, 202]</td>\n",
       "      <td>(210.05, 177.175, 158.675)</td>\n",
       "      <td>0.000000</td>\n",
       "      <td>1.000000</td>\n",
       "      <td>midjourney</td>\n",
       "      <td>a woeful person photorealistic</td>\n",
       "      <td>4</td>\n",
       "      <td>man</td>\n",
       "      <td>/imagine prompt:a woeful person, photorealisti...</td>\n",
       "      <td>woeful</td>\n",
       "      <td>-0.4404</td>\n",
       "      <td>woeful</td>\n",
       "      <td>-0.4404</td>\n",
       "      <td>1</td>\n",
       "      <td>very negative</td>\n",
       "      <td>(241.35000000000002, 236.9, 213.875)</td>\n",
       "    </tr>\n",
       "    <tr>\n",
       "      <th>1439</th>\n",
       "      <td>a woeful person photorealistic</td>\n",
       "      <td>zstrss_a_woeful_person_photorealistic_9128e809...</td>\n",
       "      <td>3</td>\n",
       "      <td>[319, 282, 439, 443]</td>\n",
       "      <td>(230.85000000000002, 216.875, 195.875)</td>\n",
       "      <td>0.769231</td>\n",
       "      <td>0.230769</td>\n",
       "      <td>midjourney</td>\n",
       "      <td>a woeful person photorealistic</td>\n",
       "      <td>3</td>\n",
       "      <td>woman</td>\n",
       "      <td>/imagine prompt:a woeful person, photorealisti...</td>\n",
       "      <td>woeful</td>\n",
       "      <td>-0.4404</td>\n",
       "      <td>woeful</td>\n",
       "      <td>-0.4404</td>\n",
       "      <td>1</td>\n",
       "      <td>very negative</td>\n",
       "      <td>(245.625, 235.85, 221.75)</td>\n",
       "    </tr>\n",
       "  </tbody>\n",
       "</table>\n",
       "<p>1253 rows × 19 columns</p>\n",
       "</div>"
      ],
      "text/plain": [
       "                         file_prompt  \\\n",
       "0     a abrupt person photorealistic   \n",
       "2     a abrupt person photorealistic   \n",
       "4     a abrupt person photorealistic   \n",
       "5     a abrupt person photorealistic   \n",
       "6     a abrupt person photorealistic   \n",
       "...                              ...   \n",
       "1435  a woeful person photorealistic   \n",
       "1436  a woeful person photorealistic   \n",
       "1437  a woeful person photorealistic   \n",
       "1438  a woeful person photorealistic   \n",
       "1439  a woeful person photorealistic   \n",
       "\n",
       "                                             image_file  quadrant  \\\n",
       "0     alocasia_a_abrupt_person_photorealistic_e2a54c...         0   \n",
       "2     alocasia_a_abrupt_person_photorealistic_e2a54c...         2   \n",
       "4     HerculePoirot_a_abrupt_person_photorealistic_4...         0   \n",
       "5     HerculePoirot_a_abrupt_person_photorealistic_4...         1   \n",
       "6     HerculePoirot_a_abrupt_person_photorealistic_4...         2   \n",
       "...                                                 ...       ...   \n",
       "1435  vroz_a_woeful_person_photorealistic_b2d7be6b-1...         3   \n",
       "1436  zstrss_a_woeful_person_photorealistic_9128e809...         0   \n",
       "1437  zstrss_a_woeful_person_photorealistic_9128e809...         1   \n",
       "1438  zstrss_a_woeful_person_photorealistic_9128e809...         2   \n",
       "1439  zstrss_a_woeful_person_photorealistic_9128e809...         3   \n",
       "\n",
       "                      bbox                               skincolor  \\\n",
       "0       [55, 14, 200, 208]                   (224.5, 215.7, 205.5)   \n",
       "2      [334, 42, 433, 179]                (159.725, 131.0, 119.95)   \n",
       "4       [94, 64, 162, 155]      (138.75, 104.7, 94.20000000000002)   \n",
       "5      [78, 273, 159, 383]    (211.125, 189.92499999999998, 154.9)   \n",
       "6      [345, 50, 433, 166]    (222.825, 210.6, 191.02499999999998)   \n",
       "...                    ...                                     ...   \n",
       "1435  [356, 300, 453, 443]                (235.575, 222.85, 208.5)   \n",
       "1436    [66, 45, 201, 215]   (213.07500000000002, 198.375, 176.85)   \n",
       "1437   [68, 295, 178, 448]               (231.2, 215.625, 191.625)   \n",
       "1438   [313, 31, 441, 202]              (210.05, 177.175, 158.675)   \n",
       "1439  [319, 282, 439, 443]  (230.85000000000002, 216.875, 195.875)   \n",
       "\n",
       "      gender_woman  gender_man       model                     base_prompt  \\\n",
       "0         0.965517    0.034483  midjourney  a abrupt person photorealistic   \n",
       "2         0.965517    0.034483  midjourney  a abrupt person photorealistic   \n",
       "4         1.000000    0.000000  midjourney  a abrupt person photorealistic   \n",
       "5         0.969697    0.030303  midjourney  a abrupt person photorealistic   \n",
       "6         0.871795    0.128205  midjourney  a abrupt person photorealistic   \n",
       "...            ...         ...         ...                             ...   \n",
       "1435      0.944444    0.055556  midjourney  a woeful person photorealistic   \n",
       "1436      0.062344    0.937656  midjourney  a woeful person photorealistic   \n",
       "1437      0.111111    0.888889  midjourney  a woeful person photorealistic   \n",
       "1438      0.000000    1.000000  midjourney  a woeful person photorealistic   \n",
       "1439      0.769231    0.230769  midjourney  a woeful person photorealistic   \n",
       "\n",
       "      gender_detected_cat gender_detected_val  \\\n",
       "0                       3               woman   \n",
       "2                       3               woman   \n",
       "4                       3               woman   \n",
       "5                       3               woman   \n",
       "6                       3               woman   \n",
       "...                   ...                 ...   \n",
       "1435                    3               woman   \n",
       "1436                    4                 man   \n",
       "1437                    4                 man   \n",
       "1438                    4                 man   \n",
       "1439                    3               woman   \n",
       "\n",
       "                                            full_prompt     tag  \\\n",
       "0     /imagine prompt:a abrupt person, photorealisti...  abrupt   \n",
       "2     /imagine prompt:a abrupt person, photorealisti...  abrupt   \n",
       "4     /imagine prompt:a abrupt person, photorealisti...  abrupt   \n",
       "5     /imagine prompt:a abrupt person, photorealisti...  abrupt   \n",
       "6     /imagine prompt:a abrupt person, photorealisti...  abrupt   \n",
       "...                                                 ...     ...   \n",
       "1435  /imagine prompt:a woeful person, photorealisti...  woeful   \n",
       "1436  /imagine prompt:a woeful person, photorealisti...  woeful   \n",
       "1437  /imagine prompt:a woeful person, photorealisti...  woeful   \n",
       "1438  /imagine prompt:a woeful person, photorealisti...  woeful   \n",
       "1439  /imagine prompt:a woeful person, photorealisti...  woeful   \n",
       "\n",
       "      prompt_compound     tda  tda_compound  tda_sentiment_cat  \\\n",
       "0              0.0000  abrupt        0.0000                  3   \n",
       "2              0.0000  abrupt        0.0000                  3   \n",
       "4              0.0000  abrupt        0.0000                  3   \n",
       "5              0.0000  abrupt        0.0000                  3   \n",
       "6              0.0000  abrupt        0.0000                  3   \n",
       "...               ...     ...           ...                ...   \n",
       "1435          -0.4404  woeful       -0.4404                  1   \n",
       "1436          -0.4404  woeful       -0.4404                  1   \n",
       "1437          -0.4404  woeful       -0.4404                  1   \n",
       "1438          -0.4404  woeful       -0.4404                  1   \n",
       "1439          -0.4404  woeful       -0.4404                  1   \n",
       "\n",
       "     tda_sentiment_val                                    rgb_intensity  \n",
       "0              neutral  (33.974999999999994, 18.924999999999997, 20.75)  \n",
       "2              neutral                        (106.975, 47.175, 17.325)  \n",
       "4              neutral              (80.55000000000001, 54.225, 50.075)  \n",
       "5              neutral                             (73.6, 59.25, 52.55)  \n",
       "6              neutral               (85.35, 69.65, 59.925000000000004)  \n",
       "...                ...                                              ...  \n",
       "1435     very negative                          (240.25, 231.8, 214.75)  \n",
       "1436     very negative                         (240.15, 233.225, 216.6)  \n",
       "1437     very negative                          (251.525, 234.2, 202.0)  \n",
       "1438     very negative             (241.35000000000002, 236.9, 213.875)  \n",
       "1439     very negative                        (245.625, 235.85, 221.75)  \n",
       "\n",
       "[1253 rows x 19 columns]"
      ]
     },
     "execution_count": 15,
     "metadata": {},
     "output_type": "execute_result"
    }
   ],
   "source": [
    "tda_res"
   ]
  },
  {
   "cell_type": "code",
   "execution_count": 6,
   "metadata": {
    "pycharm": {
     "name": "#%%\n"
    }
   },
   "outputs": [
    {
     "data": {
      "image/png": "[encoded data removed]",
      "text/plain": [
       "<Figure size 640x480 with 1 Axes>"
      ]
     },
     "metadata": {},
     "output_type": "display_data"
    },
    {
     "data": {
      "image/png": "[encoded data removed]",
      "text/plain": [
       "<Figure size 640x480 with 3 Axes>"
      ]
     },
     "metadata": {},
     "output_type": "display_data"
    }
   ],
   "source": [
    "# Visual test of RGB skin color intensity sorting\n",
    "\n",
    "from saac.eval_utils import rgb_sorter\n",
    "\n",
    "ax1 = plt.subplots(1, 1)\n",
    "\n",
    "sorted_rgb = rgb_sorter(tda_res['skincolor'].apply(eval))\n",
    "x_vals = np.linspace(0, len(sorted_rgb))\n",
    "\n",
    "for x, c in enumerate(sorted_rgb):\n",
    "    plt.plot(x*np.ones(2), [0, 1], color=np.array(c)/255)\n",
    "\n",
    "# fig2 = plt.figure(figsize=(1, 14))\n",
    "fig2, ax2 = plt.subplots(3, 1)\n",
    "\n",
    "sorted_rgb_neg = rgb_sorter(tda_res[tda_res['tda_compound'] < 0]['skincolor'].apply(eval))\n",
    "sorted_rgb_neu = rgb_sorter(tda_res[tda_res['tda_compound'] == 0]['skincolor'].apply(eval))\n",
    "sorted_rgb_pos = rgb_sorter(tda_res[tda_res['tda_compound'] > 0]['skincolor'].apply(eval))\n",
    "\n",
    "x_vals_neg = np.linspace(0, len(sorted_rgb_neg))\n",
    "x_vals_neu = np.linspace(0, len(sorted_rgb_neu))\n",
    "x_vals_pos = np.linspace(0, len(sorted_rgb_pos))\n",
    "\n",
    "for x, c in enumerate(sorted_rgb_neg):\n",
    "    ax2[0].plot(x*np.ones(2), [0, 1], color=np.array(c)/255)\n",
    "for x, c in enumerate(sorted_rgb_neu):\n",
    "    ax2[1].plot(x*np.ones(2), [0, 1], color=np.array(c)/255)\n",
    "for x, c in enumerate(sorted_rgb_pos):\n",
    "    ax2[2].plot(x*np.ones(2), [0, 1], color=np.array(c)/255)"
   ]
  },
  {
   "cell_type": "markdown",
   "metadata": {
    "pycharm": {
     "name": "#%% md\n"
    }
   },
   "source": [
    "# Map salary to skin color and gender"
   ]
  },
  {
   "cell_type": "code",
   "execution_count": 7,
   "metadata": {
    "pycharm": {
     "name": "#%%\n"
    }
   },
   "outputs": [
    {
     "name": "stdout",
     "output_type": "stream",
     "text": [
      "Total rows: 1440\n",
      "Number of rows after removing faceless and unknown gender bboxes: 1022\n"
     ]
    },
    {
     "data": {
      "text/html": [
       "<div>\n",
       "<style scoped>\n",
       "    .dataframe tbody tr th:only-of-type {\n",
       "        vertical-align: middle;\n",
       "    }\n",
       "\n",
       "    .dataframe tbody tr th {\n",
       "        vertical-align: top;\n",
       "    }\n",
       "\n",
       "    .dataframe thead th {\n",
       "        text-align: right;\n",
       "    }\n",
       "</style>\n",
       "<table border=\"1\" class=\"dataframe\">\n",
       "  <thead>\n",
       "    <tr style=\"text-align: right;\">\n",
       "      <th></th>\n",
       "      <th>file_prompt</th>\n",
       "      <th>image_file</th>\n",
       "      <th>quadrant</th>\n",
       "      <th>bbox</th>\n",
       "      <th>skincolor</th>\n",
       "      <th>gender_woman</th>\n",
       "      <th>gender_man</th>\n",
       "      <th>model</th>\n",
       "      <th>base_prompt</th>\n",
       "      <th>gender_detected_cat</th>\n",
       "      <th>...</th>\n",
       "      <th>a_mean</th>\n",
       "      <th>mean_prse</th>\n",
       "      <th>a_pct10</th>\n",
       "      <th>a_pct25</th>\n",
       "      <th>a_median</th>\n",
       "      <th>a_pct75</th>\n",
       "      <th>a_pct90</th>\n",
       "      <th>norm_title</th>\n",
       "      <th>wage_cat</th>\n",
       "      <th>wage_val</th>\n",
       "    </tr>\n",
       "  </thead>\n",
       "  <tbody>\n",
       "    <tr>\n",
       "      <th>0</th>\n",
       "      <td>a acupuncturist photorealistic</td>\n",
       "      <td>alocasia_a_acupuncturist_photorealistic_25a4a4...</td>\n",
       "      <td>0</td>\n",
       "      <td>[69, 46, 184, 202]</td>\n",
       "      <td>(214.89999999999998, 200.55, 169.6)</td>\n",
       "      <td>1.000000</td>\n",
       "      <td>0.000000</td>\n",
       "      <td>midjourney</td>\n",
       "      <td>a acupuncturist photorealistic</td>\n",
       "      <td>3</td>\n",
       "      <td>...</td>\n",
       "      <td>71770.0</td>\n",
       "      <td>6.0</td>\n",
       "      <td>29580.0</td>\n",
       "      <td>38000.0</td>\n",
       "      <td>60570.0</td>\n",
       "      <td>98440.0</td>\n",
       "      <td>126440.0</td>\n",
       "      <td>acupuncturist</td>\n",
       "      <td>3</td>\n",
       "      <td>medium</td>\n",
       "    </tr>\n",
       "    <tr>\n",
       "      <th>1</th>\n",
       "      <td>a acupuncturist photorealistic</td>\n",
       "      <td>alocasia_a_acupuncturist_photorealistic_25a4a4...</td>\n",
       "      <td>1</td>\n",
       "      <td>[83, 298, 188, 432]</td>\n",
       "      <td>(203.225, 180.25, 151.5)</td>\n",
       "      <td>0.969697</td>\n",
       "      <td>0.030303</td>\n",
       "      <td>midjourney</td>\n",
       "      <td>a acupuncturist photorealistic</td>\n",
       "      <td>3</td>\n",
       "      <td>...</td>\n",
       "      <td>71770.0</td>\n",
       "      <td>6.0</td>\n",
       "      <td>29580.0</td>\n",
       "      <td>38000.0</td>\n",
       "      <td>60570.0</td>\n",
       "      <td>98440.0</td>\n",
       "      <td>126440.0</td>\n",
       "      <td>acupuncturist</td>\n",
       "      <td>3</td>\n",
       "      <td>medium</td>\n",
       "    </tr>\n",
       "    <tr>\n",
       "      <th>2</th>\n",
       "      <td>a acupuncturist photorealistic</td>\n",
       "      <td>alocasia_a_acupuncturist_photorealistic_25a4a4...</td>\n",
       "      <td>2</td>\n",
       "      <td>[301, 55, 454, 248]</td>\n",
       "      <td>(223.375, 209.5, 169.675)</td>\n",
       "      <td>1.000000</td>\n",
       "      <td>0.000000</td>\n",
       "      <td>midjourney</td>\n",
       "      <td>a acupuncturist photorealistic</td>\n",
       "      <td>3</td>\n",
       "      <td>...</td>\n",
       "      <td>71770.0</td>\n",
       "      <td>6.0</td>\n",
       "      <td>29580.0</td>\n",
       "      <td>38000.0</td>\n",
       "      <td>60570.0</td>\n",
       "      <td>98440.0</td>\n",
       "      <td>126440.0</td>\n",
       "      <td>acupuncturist</td>\n",
       "      <td>3</td>\n",
       "      <td>medium</td>\n",
       "    </tr>\n",
       "    <tr>\n",
       "      <th>3</th>\n",
       "      <td>a acupuncturist photorealistic</td>\n",
       "      <td>alocasia_a_acupuncturist_photorealistic_25a4a4...</td>\n",
       "      <td>3</td>\n",
       "      <td>[300, 258, 476, 481]</td>\n",
       "      <td>(228.9, 215.42499999999998, 183.675)</td>\n",
       "      <td>0.969697</td>\n",
       "      <td>0.030303</td>\n",
       "      <td>midjourney</td>\n",
       "      <td>a acupuncturist photorealistic</td>\n",
       "      <td>3</td>\n",
       "      <td>...</td>\n",
       "      <td>71770.0</td>\n",
       "      <td>6.0</td>\n",
       "      <td>29580.0</td>\n",
       "      <td>38000.0</td>\n",
       "      <td>60570.0</td>\n",
       "      <td>98440.0</td>\n",
       "      <td>126440.0</td>\n",
       "      <td>acupuncturist</td>\n",
       "      <td>3</td>\n",
       "      <td>medium</td>\n",
       "    </tr>\n",
       "    <tr>\n",
       "      <th>5</th>\n",
       "      <td>a acupuncturist photorealistic</td>\n",
       "      <td>HerculePoirot_a_acupuncturist_photorealistic_e...</td>\n",
       "      <td>1</td>\n",
       "      <td>[60, 319, 195, 488]</td>\n",
       "      <td>(181.2, 142.72500000000002, 109.57500000000002)</td>\n",
       "      <td>0.333333</td>\n",
       "      <td>0.666667</td>\n",
       "      <td>midjourney</td>\n",
       "      <td>a acupuncturist photorealistic</td>\n",
       "      <td>4</td>\n",
       "      <td>...</td>\n",
       "      <td>71770.0</td>\n",
       "      <td>6.0</td>\n",
       "      <td>29580.0</td>\n",
       "      <td>38000.0</td>\n",
       "      <td>60570.0</td>\n",
       "      <td>98440.0</td>\n",
       "      <td>126440.0</td>\n",
       "      <td>acupuncturist</td>\n",
       "      <td>3</td>\n",
       "      <td>medium</td>\n",
       "    </tr>\n",
       "  </tbody>\n",
       "</table>\n",
       "<p>5 rows × 28 columns</p>\n",
       "</div>"
      ],
      "text/plain": [
       "                      file_prompt  \\\n",
       "0  a acupuncturist photorealistic   \n",
       "1  a acupuncturist photorealistic   \n",
       "2  a acupuncturist photorealistic   \n",
       "3  a acupuncturist photorealistic   \n",
       "5  a acupuncturist photorealistic   \n",
       "\n",
       "                                          image_file  quadrant  \\\n",
       "0  alocasia_a_acupuncturist_photorealistic_25a4a4...         0   \n",
       "1  alocasia_a_acupuncturist_photorealistic_25a4a4...         1   \n",
       "2  alocasia_a_acupuncturist_photorealistic_25a4a4...         2   \n",
       "3  alocasia_a_acupuncturist_photorealistic_25a4a4...         3   \n",
       "5  HerculePoirot_a_acupuncturist_photorealistic_e...         1   \n",
       "\n",
       "                   bbox                                        skincolor  \\\n",
       "0    [69, 46, 184, 202]              (214.89999999999998, 200.55, 169.6)   \n",
       "1   [83, 298, 188, 432]                         (203.225, 180.25, 151.5)   \n",
       "2   [301, 55, 454, 248]                        (223.375, 209.5, 169.675)   \n",
       "3  [300, 258, 476, 481]             (228.9, 215.42499999999998, 183.675)   \n",
       "5   [60, 319, 195, 488]  (181.2, 142.72500000000002, 109.57500000000002)   \n",
       "\n",
       "   gender_woman  gender_man       model                     base_prompt  \\\n",
       "0      1.000000    0.000000  midjourney  a acupuncturist photorealistic   \n",
       "1      0.969697    0.030303  midjourney  a acupuncturist photorealistic   \n",
       "2      1.000000    0.000000  midjourney  a acupuncturist photorealistic   \n",
       "3      0.969697    0.030303  midjourney  a acupuncturist photorealistic   \n",
       "5      0.333333    0.666667  midjourney  a acupuncturist photorealistic   \n",
       "\n",
       "   gender_detected_cat  ...   a_mean mean_prse  a_pct10  a_pct25 a_median  \\\n",
       "0                    3  ...  71770.0       6.0  29580.0  38000.0  60570.0   \n",
       "1                    3  ...  71770.0       6.0  29580.0  38000.0  60570.0   \n",
       "2                    3  ...  71770.0       6.0  29580.0  38000.0  60570.0   \n",
       "3                    3  ...  71770.0       6.0  29580.0  38000.0  60570.0   \n",
       "5                    4  ...  71770.0       6.0  29580.0  38000.0  60570.0   \n",
       "\n",
       "   a_pct75   a_pct90     norm_title  wage_cat  wage_val  \n",
       "0  98440.0  126440.0  acupuncturist         3    medium  \n",
       "1  98440.0  126440.0  acupuncturist         3    medium  \n",
       "2  98440.0  126440.0  acupuncturist         3    medium  \n",
       "3  98440.0  126440.0  acupuncturist         3    medium  \n",
       "5  98440.0  126440.0  acupuncturist         3    medium  \n",
       "\n",
       "[5 rows x 28 columns]"
      ]
     },
     "execution_count": 7,
     "metadata": {},
     "output_type": "execute_result"
    }
   ],
   "source": [
    "occ_res = pd.read_csv(respath +'Occupation_Results.csv')\n",
    "\n",
    "print(f\"Total rows: {len(occ_res)}\")\n",
    "\n",
    "occ_res = occ_res[~occ_res['gender_detected_val'].isin({'no face', 'unknown'})]\n",
    "\n",
    "print(f\"Number of rows after removing faceless and unknown gender bboxes: {len(occ_res)}\")\n",
    "\n",
    "occ_res.head()"
   ]
  },
  {
   "cell_type": "code",
   "execution_count": 8,
   "metadata": {
    "pycharm": {
     "name": "#%%\n"
    }
   },
   "outputs": [
    {
     "data": {
      "image/png": "[encoded data removed]",
      "text/plain": [
       "<Figure size 640x480 with 1 Axes>"
      ]
     },
     "metadata": {},
     "output_type": "display_data"
    }
   ],
   "source": [
    "# Histograms\n",
    "\n",
    "n_bins = 20\n",
    "\n",
    "occ_hist = occ_res.hist(column='a_median', bins=n_bins)"
   ]
  },
  {
   "cell_type": "code",
   "execution_count": 9,
   "metadata": {
    "pycharm": {
     "name": "#%%\n"
    }
   },
   "outputs": [
    {
     "data": {
      "image/png": "[encoded data removed]",
      "text/plain": [
       "<Figure size 640x480 with 1 Axes>"
      ]
     },
     "metadata": {},
     "output_type": "display_data"
    }
   ],
   "source": [
    "# Mostly just a visual test of intensity sorting per salary bin\n",
    "\n",
    "from saac.eval_utils import rgb_sorter, rgb_intensity\n",
    "\n",
    "ax1 = plt.subplots(1, 1)\n",
    "\n",
    "occ_count, occ_division = np.histogram(occ_res['a_median'], bins=n_bins)\n",
    "\n",
    "for idx in range(1, len(occ_division)):\n",
    "    if idx + 1 == len(occ_division):\n",
    "        mask = (occ_res['a_median'] >= occ_division[idx - 1]) & (occ_res['a_median'] <= occ_division[idx])\n",
    "    else:\n",
    "        mask = (occ_res['a_median'] >= occ_division[idx - 1]) & (occ_res['a_median'] < occ_division[idx])\n",
    "        \n",
    "    sorted_rgb = rgb_sorter(occ_res[mask]['skincolor'].apply(eval))\n",
    "    \n",
    "    for y, c in enumerate(sorted_rgb):\n",
    "        plt.plot(occ_division[idx - 1: idx + 1], y * np.ones(2), color=np.array(c)/255)"
   ]
  },
  {
   "cell_type": "code",
   "execution_count": 10,
   "metadata": {
    "pycharm": {
     "name": "#%%\n"
    }
   },
   "outputs": [
    {
     "data": {
      "image/png": "[encoded data removed]",
      "text/plain": [
       "<Figure size 640x480 with 1 Axes>"
      ]
     },
     "metadata": {},
     "output_type": "display_data"
    }
   ],
   "source": [
    "# Violin plots of skin intensity per yearly salary bin\n",
    "\n",
    "from saac.eval_utils import rgb_sorter, rgb_intensity\n",
    "\n",
    "fig, ax = plt.subplots(1, 1)\n",
    "\n",
    "occ_count, occ_division = np.histogram(occ_res['a_median'], bins=n_bins)\n",
    "\n",
    "all_rgb_intensities = []\n",
    "\n",
    "for idx in range(1, len(occ_division)):\n",
    "    if idx + 1 == len(occ_division):\n",
    "        mask = (occ_res['a_median'] >= occ_division[idx - 1]) & (occ_res['a_median'] <= occ_division[idx])\n",
    "    else:\n",
    "        mask = (occ_res['a_median'] >= occ_division[idx - 1]) & (occ_res['a_median'] < occ_division[idx])\n",
    "        \n",
    "    if sum(mask) <= 0:\n",
    "        continue\n",
    "        \n",
    "    rgb_intensities = occ_res[mask]['skincolor'].apply(eval).apply(rgb_intensity)\n",
    "    all_rgb_intensities.append(list(rgb_intensities.values))\n",
    "    \n",
    "    parts = ax.violinplot(rgb_intensities, positions=[np.mean(occ_division[idx - 1:idx + 1])],\n",
    "                          # showmedians=True,\n",
    "                          showmeans=True,\n",
    "                          showextrema=False,\n",
    "                          widths=7500.0,\n",
    "                          points=100)\n",
    "    \n",
    "    hex_str = str(hex(int(np.median(rgb_intensities))))[2:]\n",
    "    hex_color = f\"#{hex_str}{hex_str}{hex_str}\"\n",
    "    \n",
    "    for pc in parts['bodies']:\n",
    "        pc.set_facecolor(hex_color)\n",
    "        pc.set_edgecolor(hex_color)\n",
    "        pc.set_alpha(1)\n",
    "    parts['cmeans'].set_facecolor(hex_color)\n",
    "    parts['cmeans'].set_edgecolor('black')"
   ]
  },
  {
   "cell_type": "code",
   "execution_count": 18,
   "metadata": {
    "pycharm": {
     "name": "#%%\n"
    }
   },
   "outputs": [
    {
     "data": {
      "image/png": "[encoded data removed]",
      "text/plain": [
       "<Figure size 640x480 with 1 Axes>"
      ]
     },
     "metadata": {},
     "output_type": "display_data"
    }
   ],
   "source": [
    "rgb_intensities = list()\n",
    "\n",
    "for idx in range(1, len(occ_division)):\n",
    "    if idx + 1 == len(occ_division):\n",
    "        mask = (occ_res['a_median'] >= occ_division[idx - 1]) & (occ_res['a_median'] <= occ_division[idx])\n",
    "    else:\n",
    "        mask = (occ_res['a_median'] >= occ_division[idx - 1]) & (occ_res['a_median'] < occ_division[idx])\n",
    "        \n",
    "    rgb_intensities.append(np.mean(occ_res[mask]['skincolor'].apply(eval).apply(rgb_intensity)))\n",
    "\n",
    "ax1 = plt.subplots(1, 1)\n",
    "\n",
    "for idx, c in enumerate(rgb_intensities):\n",
    "    if c is not np.nan:\n",
    "        plt.plot(occ_division[idx: idx + 2], c * np.ones(2), color=c*np.ones(3)/255)"
   ]
  },
  {
   "cell_type": "code",
   "execution_count": null,
   "metadata": {
    "pycharm": {
     "name": "#%%\n"
    }
   },
   "outputs": [],
   "source": [
    "# ANOVA test\n",
    "\n",
    "from scipy.stats import f_oneway\n",
    "\n",
    "F, p = f_oneway(*all_rgb_intensities)\n",
    "print(F)\n",
    "print(p)"
   ]
  },
  {
   "cell_type": "code",
   "execution_count": null,
   "metadata": {
    "pycharm": {
     "name": "#%%\n"
    }
   },
   "outputs": [],
   "source": []
  },
  {
   "cell_type": "code",
   "execution_count": null,
   "metadata": {
    "pycharm": {
     "name": "#%%\n"
    }
   },
   "outputs": [],
   "source": []
  }
 ],
 "metadata": {
  "kernelspec": {
   "display_name": "Python 3 (ipykernel)",
   "language": "python",
   "name": "python3"
  },
  "language_info": {
   "codemirror_mode": {
    "name": "ipython",
    "version": 3
   },
   "file_extension": ".py",
   "mimetype": "text/x-python",
   "name": "python",
   "nbconvert_exporter": "python",
   "pygments_lexer": "ipython3",
   "version": "3.8.13"
  }
 },
 "nbformat": 4,
 "nbformat_minor": 4
}